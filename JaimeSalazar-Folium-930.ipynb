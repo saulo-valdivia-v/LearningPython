{
 "cells": [
  {
   "cell_type": "code",
   "execution_count": 2,
   "metadata": {},
   "outputs": [],
   "source": [
    "import folium\n",
    "import pandas as pd\n",
    "import requests"
   ]
  },
  {
   "cell_type": "markdown",
   "metadata": {},
   "source": [
    "### Ejercicio evaluación\n",
    "\n",
    "Pinta en un mapa de [folium](http://python-visualization.github.io/folium/quickstart.html) las estaciones del ejercicio anterior.\n",
    "\n",
    "Opcional:\n",
    "\n",
    "Pinta el marcador en rojo si hay menos de un 0 las bicis disponibles en este momento, en naranja si hay al menos una disponible, y verde si hay más de una\n",
    "Pinta un tooltip con el nombre de la estación\n",
    "\n",
    "1) NO es necesario que realiceis una función o similar para posicionar las estaciones en el mapa. Lo podéis realizar de forma manual.\n",
    "\n",
    "2) Lo que si tenéis que hacer, es añadir a la información extraída, las coordenadas de latitud y longitud de cada estación para poder posicionarlas en el mapa."
   ]
  },
  {
   "cell_type": "code",
   "execution_count": 17,
   "metadata": {
    "scrolled": true
   },
   "outputs": [
    {
     "data": {
      "text/html": [
       "<div style=\"width:100%;\"><div style=\"position:relative;width:100%;height:0;padding-bottom:60%;\"><span style=\"color:#565656\">Make this Notebook Trusted to load map: File -> Trust Notebook</span><iframe src=\"about:blank\" style=\"position:absolute;width:100%;height:100%;left:0;top:0;border:none !important;\" data-html=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 onload=\"this.contentDocument.open();this.contentDocument.write(atob(this.getAttribute('data-html')));this.contentDocument.close();\" allowfullscreen webkitallowfullscreen mozallowfullscreen></iframe></div></div>"
      ],
      "text/plain": [
       "<folium.folium.Map at 0x23832d04100>"
      ]
     },
     "execution_count": 17,
     "metadata": {},
     "output_type": "execute_result"
    }
   ],
   "source": [
    "data = requests.get(\"http://api.citybik.es/v2/networks/onroll-aranda-de-duero\")\n",
    "data=data.json()[\"network\"][\"stations\"]\n",
    "\n",
    "estaciones = pd.DataFrame(columns=[\"name\",\"latitude\",\"longitude\",\"free_bikes\"])\n",
    "\n",
    "\n",
    "for i in range(len(data)):\n",
    "    estaciones.loc[i,\"name\"] = data[i][\"name\"]\n",
    "    estaciones.loc[i,\"latitude\"] = data[i][\"latitude\"]\n",
    "    estaciones.loc[i,\"longitude\"] = data[i][\"longitude\"]\n",
    "    estaciones.loc[i,\"free_bikes\"] = data[i][\"free_bikes\"]\n",
    "\n",
    "    if estaciones.loc[i,\"free_bikes\"] <= 0:\n",
    "        estaciones.loc[i,\"color\"] = \"red\"\n",
    "    elif estaciones.loc[i,\"free_bikes\"] == 1:\n",
    "        estaciones.loc[i,\"color\"] = \"orange\"\n",
    "    else:\n",
    "        estaciones.loc[i,\"color\"] = \"green\"\n",
    "        \n",
    "m = folium.Map(\n",
    "    location=[41.66448673635473, -3.688139056659357],\n",
    "    zoom_start=14,\n",
    "    tiles='OpenStreetmap')\n",
    "\n",
    "\n",
    "estaciones.apply(\n",
    "    lambda row: folium.Marker([row.latitude, row.longitude], tooltip=row.name, icon=folium.Icon(color=row.color)).add_to(m),axis=1)\n",
    "m"
   ]
  },
  {
   "cell_type": "code",
   "execution_count": null,
   "metadata": {},
   "outputs": [],
   "source": []
  }
 ],
 "metadata": {
  "kernelspec": {
   "display_name": "Python 3",
   "language": "python",
   "name": "python3"
  },
  "language_info": {
   "codemirror_mode": {
    "name": "ipython",
    "version": 3
   },
   "file_extension": ".py",
   "mimetype": "text/x-python",
   "name": "python",
   "nbconvert_exporter": "python",
   "pygments_lexer": "ipython3",
   "version": "3.8.3"
  }
 },
 "nbformat": 4,
 "nbformat_minor": 4
}
