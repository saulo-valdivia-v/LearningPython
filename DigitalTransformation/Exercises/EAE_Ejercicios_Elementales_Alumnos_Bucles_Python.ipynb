{
 "cells": [
  {
   "cell_type": "code",
   "execution_count": null,
   "metadata": {
    "id": "tYl42ZFEhOhn"
   },
   "outputs": [],
   "source": [
    "# import numpy as np"
   ]
  },
  {
   "cell_type": "code",
   "execution_count": 1,
   "metadata": {
    "colab": {
     "base_uri": "https://localhost:8080/"
    },
    "id": "5qJPV3BC5SQJ",
    "outputId": "abc7a27f-3bc1-40b3-b872-52253c163068"
   },
   "outputs": [
    {
     "name": "stdout",
     "output_type": "stream",
     "text": [
      "apple\n",
      "banana\n",
      "cherry\n"
     ]
    }
   ],
   "source": [
    "# Recorrer una lista \n",
    "fruits = [\"apple\", \"banana\", \"cherry\"]\n",
    "for x in fruits:\n",
    "  print(x)"
   ]
  },
  {
   "cell_type": "code",
   "execution_count": 2,
   "metadata": {
    "colab": {
     "base_uri": "https://localhost:8080/"
    },
    "id": "xEhetbGt5kL-",
    "outputId": "75547bb9-742f-41c0-c97f-a58f02c121c4"
   },
   "outputs": [
    {
     "name": "stdout",
     "output_type": "stream",
     "text": [
      "b\n",
      "a\n",
      "n\n",
      "a\n",
      "n\n",
      "a\n"
     ]
    }
   ],
   "source": [
    "# Recorrer una cadena\n",
    "for x in \"banana\":\n",
    "  print(x)"
   ]
  },
  {
   "cell_type": "code",
   "execution_count": null,
   "metadata": {
    "colab": {
     "base_uri": "https://localhost:8080/"
    },
    "id": "ACKyYXkbdJBU",
    "outputId": "03618e8e-e31c-475e-dca2-d88968df288c"
   },
   "outputs": [
    {
     "name": "stdout",
     "output_type": "stream",
     "text": [
      "apple\n",
      "banana\n",
      "cherry\n"
     ]
    }
   ],
   "source": [
    "# Recorrer una tuple (immutable)\n",
    "fruits = (\"apple\", \"banana\", \"cherry\")\n",
    "for i in fruits:\n",
    "    print(i)"
   ]
  },
  {
   "cell_type": "code",
   "execution_count": null,
   "metadata": {
    "colab": {
     "base_uri": "https://localhost:8080/"
    },
    "id": "NBe-YtyIdlwH",
    "outputId": "8f006e21-1bf1-4bbc-9db4-939e465333bc"
   },
   "outputs": [
    {
     "name": "stdout",
     "output_type": "stream",
     "text": [
      "xyz  123\n",
      "abc  345\n"
     ]
    }
   ],
   "source": [
    "# Recorrer un diccionario  \n",
    "d = dict() \n",
    "d['xyz'] = 123\n",
    "d['abc'] = 345\n",
    "for i in d :\n",
    "    print(\"%s  %d\" %(i, d[i]))"
   ]
  },
  {
   "cell_type": "code",
   "execution_count": null,
   "metadata": {
    "colab": {
     "base_uri": "https://localhost:8080/"
    },
    "id": "wbEDSlYg5wDF",
    "outputId": "6811f734-deda-4239-89a0-bfd87a16feaf"
   },
   "outputs": [
    {
     "name": "stdout",
     "output_type": "stream",
     "text": [
      "apple\n",
      "banana\n"
     ]
    }
   ],
   "source": [
    "# Parar el bucle dada una condición. The break Statement\n",
    "\n",
    "fruits = [\"apple\", \"banana\", \"cherry\"]\n",
    "for x in fruits:\n",
    "  print(x)\n",
    "  if x == \"banana\": \n",
    "    break # Termina la ejecución del bucle cuando se da la condición fruits (x) == \"banana\". Sólo se ejecuta, si se cumple esa condición"
   ]
  },
  {
   "cell_type": "code",
   "execution_count": null,
   "metadata": {
    "colab": {
     "base_uri": "https://localhost:8080/"
    },
    "id": "e6K25Y8y6MXZ",
    "outputId": "e832fe41-d9b3-4bb6-8e26-43591fa81970"
   },
   "outputs": [
    {
     "name": "stdout",
     "output_type": "stream",
     "text": [
      "apple\n"
     ]
    }
   ],
   "source": [
    "# Termina la ejeción antes de visualizar el resultado\n",
    "fruits = [\"apple\", \"banana\", \"cherry\"]\n",
    "for x in fruits:\n",
    "  if x == \"cherry\":\n",
    "    break\n",
    "  print(x)"
   ]
  },
  {
   "cell_type": "code",
   "execution_count": null,
   "metadata": {
    "colab": {
     "base_uri": "https://localhost:8080/"
    },
    "id": "RazGVu8m-rNb",
    "outputId": "262d4c24-d1fc-4f6d-95d8-dc6bd4eee877"
   },
   "outputs": [
    {
     "name": "stdout",
     "output_type": "stream",
     "text": [
      "apple\n",
      "cherry\n"
     ]
    }
   ],
   "source": [
    "# Saltar un ciclo del bucle cuando se da una condición.\n",
    "fruits = [\"apple\", \"banana\", \"cherry\"]\n",
    "for x in fruits:\n",
    "  if x == \"banana\":\n",
    "    continue\n",
    "  print(x)"
   ]
  },
  {
   "cell_type": "code",
   "execution_count": null,
   "metadata": {
    "id": "AGPnsSaIBmip"
   },
   "outputs": [],
   "source": [
    "# Ejecutar un número dado de iteraciones/ciclos range(valor numérico)\n",
    "for x in range(6): # IMPORTANTE: range(6) no son los valores de 0 a 6, sino de 0 a 5.\n",
    "  print(x)"
   ]
  },
  {
   "cell_type": "code",
   "execution_count": null,
   "metadata": {
    "colab": {
     "base_uri": "https://localhost:8080/"
    },
    "id": "uUNIXf0v6M2s",
    "outputId": "2217d200-ba3e-48cb-b1b5-1c754c3e0b48"
   },
   "outputs": [
    {
     "name": "stdout",
     "output_type": "stream",
     "text": [
      "0\n",
      "1\n",
      "2\n"
     ]
    }
   ],
   "source": [
    "fruits = [\"apple\", \"banana\", \"cherry\"]\n",
    "\n",
    "numero_de_elementos = len(fruits) # len == Número de elementos que contiene el array\n",
    "\n",
    "for x in range(numero_de_elementos):\n",
    "  print(x)"
   ]
  },
  {
   "cell_type": "code",
   "execution_count": null,
   "metadata": {
    "colab": {
     "base_uri": "https://localhost:8080/"
    },
    "id": "9rE2M5VCCISf",
    "outputId": "38f994fb-4781-4e64-ad3b-b10c938435b5"
   },
   "outputs": [
    {
     "name": "stdout",
     "output_type": "stream",
     "text": [
      "apple\n",
      "banana\n",
      "cherry\n"
     ]
    }
   ],
   "source": [
    "fruits = [\"apple\", \"banana\", \"cherry\"]\n",
    "\n",
    "numero_de_elementos = len(fruits) # len == Número de elementos que contiene el array\n",
    "\n",
    "for x in range(numero_de_elementos):\n",
    "  print(fruits[x]) # Accedemos a los elementos del array uno a uno, en un bucle"
   ]
  },
  {
   "cell_type": "code",
   "execution_count": null,
   "metadata": {
    "colab": {
     "base_uri": "https://localhost:8080/"
    },
    "id": "-29ZLFbkCYi7",
    "outputId": "924985b1-c754-4ee5-9070-450617789fc0"
   },
   "outputs": [
    {
     "name": "stdout",
     "output_type": "stream",
     "text": [
      "2\n",
      "3\n",
      "4\n",
      "5\n"
     ]
    }
   ],
   "source": [
    "# Podemos indicar a range el punto de partida\n",
    "for x in range(2, 6):\n",
    "  print(x)"
   ]
  },
  {
   "cell_type": "code",
   "execution_count": null,
   "metadata": {
    "id": "gEEGmDWUDyga"
   },
   "outputs": [],
   "source": [
    "# También podemos indicar a range el tamaño del paso por ciclo. En este caso, de 3 en 3.\n",
    "for x in range(2, 30, 3):\n",
    "  print(x)"
   ]
  },
  {
   "cell_type": "markdown",
   "metadata": {
    "id": "6jNfzRWTHuN-"
   },
   "source": [
    "### Bucles anidados\n",
    " \n",
    "### ¡MUY IMPORTANTES!"
   ]
  },
  {
   "cell_type": "code",
   "execution_count": null,
   "metadata": {
    "colab": {
     "base_uri": "https://localhost:8080/"
    },
    "id": "oa1pvGUKHxtS",
    "outputId": "f6b4d6d6-48e6-4fa6-be45-3199b13db9c3"
   },
   "outputs": [
    {
     "name": "stdout",
     "output_type": "stream",
     "text": [
      "red apple\n",
      "red banana\n",
      "red cherry\n",
      "big apple\n",
      "big banana\n",
      "big cherry\n",
      "tasty apple\n",
      "tasty banana\n",
      "tasty cherry\n"
     ]
    }
   ],
   "source": [
    "adj = [\"red\", \"big\", \"tasty\"]\n",
    "fruits = [\"apple\", \"banana\", \"cherry\"]\n",
    "\n",
    "for x in adj:\n",
    "  for y in fruits:\n",
    "    print(x, y) "
   ]
  },
  {
   "cell_type": "markdown",
   "metadata": {
    "id": "Q5j-za7DIKWm"
   },
   "source": [
    "### Ejercicio 1\n",
    " \n",
    "Realiza un bucle for que recorra las tres listas generando un listado como:\n",
    " \n",
    "1 red apple\n",
    " \n",
    "2 red apple\n",
    " \n",
    "3 red apple\n",
    " \n",
    "1 red banana\n",
    " \n",
    "2 red banana\n",
    " \n",
    "3 red banana\n",
    " \n",
    "1 red cherry\n",
    " \n",
    "2 red cherry\n",
    " \n",
    "Etc."
   ]
  },
  {
   "cell_type": "code",
   "execution_count": 5,
   "metadata": {
    "colab": {
     "base_uri": "https://localhost:8080/"
    },
    "id": "j3nJ9zuhIJA-",
    "outputId": "fa713734-00ef-4b92-8619-d65129ee5f63"
   },
   "outputs": [
    {
     "name": "stdout",
     "output_type": "stream",
     "text": [
      "1 red apple\n",
      "2 red apple\n",
      "3 red apple\n",
      "1 red banana\n",
      "2 red banana\n",
      "3 red banana\n",
      "1 red cherry\n",
      "2 red cherry\n",
      "3 red cherry\n",
      "1 big apple\n",
      "2 big apple\n",
      "3 big apple\n",
      "1 big banana\n",
      "2 big banana\n",
      "3 big banana\n",
      "1 big cherry\n",
      "2 big cherry\n",
      "3 big cherry\n",
      "1 tasty apple\n",
      "2 tasty apple\n",
      "3 tasty apple\n",
      "1 tasty banana\n",
      "2 tasty banana\n",
      "3 tasty banana\n",
      "1 tasty cherry\n",
      "2 tasty cherry\n",
      "3 tasty cherry\n"
     ]
    }
   ],
   "source": [
    "numbers = [1,2,3]\n",
    "adj = [\"red\", \"big\", \"tasty\"]\n",
    "fruits = [\"apple\", \"banana\", \"cherry\"]\n",
    "\n",
    "# Respuesta\n",
    "for x in adj:\n",
    "    for y in fruits:\n",
    "        for z in numbers:\n",
    "            print(z, x, y)"
   ]
  },
  {
   "cell_type": "markdown",
   "metadata": {
    "id": "5DMA3Co5oN0C"
   },
   "source": [
    "### Ejercicio 2\n",
    "\n",
    "Recorre y muestra todos los elementos de la siguiente lista"
   ]
  },
  {
   "cell_type": "code",
   "execution_count": 14,
   "metadata": {
    "colab": {
     "base_uri": "https://localhost:8080/"
    },
    "id": "uENiFbmFf9Gs",
    "outputId": "6f83a052-f269-4dc1-c6df-ea900e32e41d"
   },
   "outputs": [
    {
     "name": "stdout",
     "output_type": "stream",
     "text": [
      "2\n",
      "4\n",
      "6\n",
      "8\n",
      "10\n",
      "3\n",
      "6\n",
      "9\n",
      "12\n",
      "15\n",
      "4\n",
      "8\n",
      "12\n",
      "16\n",
      "20\n"
     ]
    }
   ],
   "source": [
    "a = [[2, 4, 6, 8, 10], [3, 6, 9, 12, 15], [4, 8, 12, 16, 20]] \n",
    "\n",
    "# Respuesta\n",
    "for row in a:\n",
    "    for element in row:\n",
    "        print(element)"
   ]
  },
  {
   "cell_type": "markdown",
   "metadata": {
    "id": "UATHTUwyfptN"
   },
   "source": [
    "### Ejercicio 3\n",
    "Recorre y muestra todos los elementos del siguiente diccionario.\n",
    " \n",
    "Solución: abc\n",
    "1\n",
    "2\n",
    "3\n",
    "efg\n",
    "Clave"
   ]
  },
  {
   "cell_type": "code",
   "execution_count": 26,
   "metadata": {
    "colab": {
     "base_uri": "https://localhost:8080/"
    },
    "id": "7-Wg8GFud2yF",
    "outputId": "c4d57a01-a869-4a52-81ca-f2788e45d7aa"
   },
   "outputs": [
    {
     "name": "stdout",
     "output_type": "stream",
     "text": [
      "abc\n",
      "1\n",
      "2\n",
      "3\n",
      "efg\n",
      "Clave\n"
     ]
    }
   ],
   "source": [
    "# Respuesta\n",
    "diccionario = {'abc':[1,2,3], 'efg':{'Clave':'Mundo'}}\n",
    "\n",
    "for key in diccionario.keys():\n",
    "    print(key)\n",
    "    if(isinstance(diccionario[key], list)):\n",
    "        for element in diccionario[key]:\n",
    "            print(element)\n",
    "    elif(isinstance(diccionario[key], dict)):\n",
    "        for k1 in diccionario[key]:\n",
    "            print(k1)"
   ]
  },
  {
   "cell_type": "markdown",
   "metadata": {
    "id": "t8xENGYav_KF"
   },
   "source": [
    "### Ejercicio 4\n",
    "Usando bucles for, muestra la suma de los elementos de cada fila de la lista. Es decir: 30, 45 y 60."
   ]
  },
  {
   "cell_type": "code",
   "execution_count": 30,
   "metadata": {
    "colab": {
     "base_uri": "https://localhost:8080/"
    },
    "id": "FxS-f5GEqMy9",
    "outputId": "839ea2b7-3a78-484c-8841-eb70aff6c639"
   },
   "outputs": [
    {
     "name": "stdout",
     "output_type": "stream",
     "text": [
      "30\n",
      "45\n",
      "60\n"
     ]
    }
   ],
   "source": [
    "a = [[2, 4, 6, 8, 10], [3, 6, 9, 12, 15], [4, 8, 12, 16, 20]] \n",
    "\n",
    "# Respuesta\n",
    "for row in a:\n",
    "    rowSum = 0\n",
    "    for item in row:\n",
    "        rowSum = rowSum + item\n",
    "    print(rowSum)"
   ]
  },
  {
   "cell_type": "markdown",
   "metadata": {
    "id": "muRYhUeXNbXg"
   },
   "source": [
    "### El bucle `while`\n",
    " \n",
    "Es similar a for, pero en este caso el bucle puede ser ascendente o descendente, dependiendo de la condición. Ej.: i < 6, se lee: \"mientras i sea menor que 6\""
   ]
  },
  {
   "cell_type": "code",
   "execution_count": null,
   "metadata": {
    "colab": {
     "base_uri": "https://localhost:8080/"
    },
    "id": "0_sxEUiUJCoX",
    "outputId": "598b13b3-34fb-453c-a388-471fd2ebfe5b"
   },
   "outputs": [
    {
     "name": "stdout",
     "output_type": "stream",
     "text": [
      "1\n",
      "2\n",
      "3\n",
      "4\n",
      "5\n"
     ]
    }
   ],
   "source": [
    "i = 1\n",
    "while i < 6:\n",
    "  print(i)\n",
    "  i += 1 # También i = i + 1, para incrementar el calor de i en cada ciclo y vaya acercándose de 1 en 1 al valor de control (6)"
   ]
  },
  {
   "cell_type": "code",
   "execution_count": null,
   "metadata": {
    "colab": {
     "base_uri": "https://localhost:8080/"
    },
    "id": "WbWWm0N0PMzL",
    "outputId": "4562504d-77f1-4bf5-b426-89a451ff6afe"
   },
   "outputs": [
    {
     "name": "stdout",
     "output_type": "stream",
     "text": [
      "1\n",
      "2\n",
      "3\n"
     ]
    }
   ],
   "source": [
    "# Usando `break` para interrunpir el bucle\n",
    "i = 1\n",
    "while i < 6:\n",
    "  print(i)\n",
    "  if i == 3:\n",
    "    break # Cuando i = 3, se interrumpe el bucle.\n",
    "  i += 1 "
   ]
  },
  {
   "cell_type": "markdown",
   "metadata": {
    "id": "w0ksPOGB7H43"
   },
   "source": [
    "### Ejercicio 5\n",
    " \n",
    "Construye un bucle while que muestre cada fila de la lista a"
   ]
  },
  {
   "cell_type": "code",
   "execution_count": 39,
   "metadata": {
    "colab": {
     "base_uri": "https://localhost:8080/"
    },
    "id": "EA_cxUK0wz3c",
    "outputId": "af637473-e269-471c-e7d9-760513892475"
   },
   "outputs": [
    {
     "name": "stdout",
     "output_type": "stream",
     "text": [
      "[2, 4, 6, 8]\n",
      "[1, 3, 5, 7]\n",
      "[8, 6, 4, 2]\n",
      "[7, 5, 3, 1]\n"
     ]
    }
   ],
   "source": [
    "a = [ [2, 4, 6, 8 ],  \n",
    "    [ 1, 3, 5, 7 ],  \n",
    "    [ 8, 6, 4, 2 ],  \n",
    "    [ 7, 5, 3, 1 ] ]  \n",
    "\n",
    "# Respuesta (I)\n",
    "i = 0\n",
    "while i < len(a):\n",
    "    print(a[i])  \n",
    "    i += 1 "
   ]
  },
  {
   "cell_type": "code",
   "execution_count": 41,
   "metadata": {
    "colab": {
     "base_uri": "https://localhost:8080/"
    },
    "id": "QpOpndf2x5xV",
    "outputId": "582667ba-2a08-4b39-bfac-cf1c7281ea3e"
   },
   "outputs": [
    {
     "name": "stdout",
     "output_type": "stream",
     "text": [
      "[2, 4, 6, 8]\n",
      "[1, 3, 5, 7]\n",
      "[8, 6, 4, 2]\n",
      "[7, 5, 3, 1]\n"
     ]
    }
   ],
   "source": [
    "a = [ [2, 4, 6, 8 ],  \n",
    "    [ 1, 3, 5, 7 ],  \n",
    "    [ 8, 6, 4, 2 ],  \n",
    "    [ 7, 5, 3, 1 ] ]  \n",
    "\n",
    "# Respuesta (II). Otra posible solución\n",
    "i = 0\n",
    "while True :\n",
    "    print(a[i])\n",
    "    i += 1 \n",
    "    if i == 4:\n",
    "        break"
   ]
  },
  {
   "cell_type": "markdown",
   "metadata": {
    "id": "HqLO4Dn7DqE-"
   },
   "source": [
    "### Funciones"
   ]
  },
  {
   "cell_type": "code",
   "execution_count": null,
   "metadata": {
    "colab": {
     "base_uri": "https://localhost:8080/"
    },
    "id": "oJMc_xbjE4e8",
    "outputId": "e04a05eb-7e01-431f-d53e-f3c8d82b9fe0"
   },
   "outputs": [
    {
     "name": "stdout",
     "output_type": "stream",
     "text": [
      "Hola\n"
     ]
    }
   ],
   "source": [
    "# 1) Creamos la función con el operador \"def\"\n",
    "def funcionEjemplo():\n",
    "  print('Hola')\n",
    "\n",
    "# 2) POSTERIORMENTE, llamamos a la función en el punto donde queremos que se ejecute.\n",
    "funcionEjemplo() # Una vez que la función se ha construido, ha de ser llamada expresamente en el código"
   ]
  },
  {
   "cell_type": "markdown",
   "metadata": {
    "id": "tbDdYY84Fol5"
   },
   "source": [
    "Funciones que reciben parámetro al ser llamadas"
   ]
  },
  {
   "cell_type": "code",
   "execution_count": null,
   "metadata": {
    "colab": {
     "base_uri": "https://localhost:8080/"
    },
    "id": "Cn7Jldc7Fk4K",
    "outputId": "ba95e585-cd60-4024-d2a1-cd3e1babc356"
   },
   "outputs": [
    {
     "name": "stdout",
     "output_type": "stream",
     "text": [
      "suma de a y b: 3\n"
     ]
    }
   ],
   "source": [
    "# 1) Creamos la función con el operador \"def\"\n",
    "def funcionEjemplo(a, b): # a y b, son parámetros de entrada. Se pueden llamar con cualquier nombre válido\n",
    "  print('suma de a y b:', a+b)\n",
    "\n",
    "# 2) POSTERIORMENTE, llamamos a la función en el punto donde queremos que se ejecute.\n",
    "\n",
    "funcionEjemplo(1,2) # Llamamos a la función con los parámetros que ha de usar. Aquí a=1, b=2"
   ]
  },
  {
   "cell_type": "markdown",
   "metadata": {
    "id": "QFkpw-mREh9F"
   },
   "source": [
    "### Ejercicio 6\n",
    " \n",
    "Crea una función que reciba como parámetro la lista `a` y muestre la suma de los elementos de cada fila de la lista \"a\".\n",
    " \n",
    "Ej.: funcion_2(a)"
   ]
  },
  {
   "cell_type": "code",
   "execution_count": 43,
   "metadata": {
    "colab": {
     "base_uri": "https://localhost:8080/"
    },
    "id": "Ec6k9Mf48g7P",
    "outputId": "69ee6358-876b-421e-8276-b482ccf7f796"
   },
   "outputs": [
    {
     "name": "stdout",
     "output_type": "stream",
     "text": [
      "30\n",
      "45\n",
      "60\n"
     ]
    }
   ],
   "source": [
    "a = [[2, 4, 6, 8, 10], [3, 6, 9, 12, 15], [4, 8, 12, 16, 20]] \n",
    "\n",
    "# Respuesta\n",
    "def funcion_1(p):\n",
    "    for row in a:\n",
    "        rowSum = 0\n",
    "        for item in row:\n",
    "            rowSum = rowSum + item\n",
    "        print(rowSum)\n",
    "\n",
    "funcion_1(a)"
   ]
  },
  {
   "cell_type": "markdown",
   "metadata": {
    "id": "ZmozSblpI7CL"
   },
   "source": [
    "### Cláusulas condicionales e if ... else statements"
   ]
  },
  {
   "cell_type": "markdown",
   "metadata": {
    "id": "70ORPndEJKnp"
   },
   "source": [
    "### Cláusulas condicionales\n",
    "    Equals: a == b\n",
    "    Not Equals: a != b\n",
    "    Less than: a < b\n",
    "    Less than or equal to: a <= b\n",
    "    Greater than: a > b\n",
    "    Greater than or equal to: a >= b\n"
   ]
  },
  {
   "cell_type": "code",
   "execution_count": null,
   "metadata": {
    "colab": {
     "base_uri": "https://localhost:8080/"
    },
    "id": "4bl8UYUKAaIg",
    "outputId": "7d410dbc-0c2c-4483-e3f0-30a888f3714b"
   },
   "outputs": [
    {
     "name": "stdout",
     "output_type": "stream",
     "text": [
      "b > a\n"
     ]
    }
   ],
   "source": [
    "a = 33\n",
    "b = 200\n",
    "if b > a:\n",
    "  print(\"b > a\")\n",
    "else:\n",
    "  print(\"a > b\")\n"
   ]
  },
  {
   "cell_type": "code",
   "execution_count": null,
   "metadata": {
    "colab": {
     "base_uri": "https://localhost:8080/"
    },
    "id": "TJB4Oc8dKBRk",
    "outputId": "4f711098-dfb7-460d-d4a5-e7dcdbea36e2"
   },
   "outputs": [
    {
     "name": "stdout",
     "output_type": "stream",
     "text": [
      "a > b\n"
     ]
    }
   ],
   "source": [
    "a = 330\n",
    "b = 200\n",
    "if b > a:\n",
    "  print(\"b > a\")\n",
    "else:\n",
    "  print(\"a > b\")"
   ]
  },
  {
   "cell_type": "code",
   "execution_count": null,
   "metadata": {
    "colab": {
     "base_uri": "https://localhost:8080/"
    },
    "id": "_7Qrc4IPKFdF",
    "outputId": "f4e91946-7124-42ed-8630-4d3d8512a6e1"
   },
   "outputs": [
    {
     "name": "stdout",
     "output_type": "stream",
     "text": [
      "a != b\n"
     ]
    }
   ],
   "source": [
    "a = 33\n",
    "b = 200\n",
    "if b == a:\n",
    "  print(\"b = a\")\n",
    "else:\n",
    "  print(\"a != b\")"
   ]
  },
  {
   "cell_type": "code",
   "execution_count": null,
   "metadata": {
    "colab": {
     "base_uri": "https://localhost:8080/"
    },
    "id": "ynOcyjsPKL9A",
    "outputId": "ae8bb47c-e3bb-4c65-e185-83cd551aa7d0"
   },
   "outputs": [
    {
     "name": "stdout",
     "output_type": "stream",
     "text": [
      "b = a\n"
     ]
    }
   ],
   "source": [
    "a = 33\n",
    "b = 33\n",
    "if b == a:\n",
    "  print(\"b = a\")\n",
    "else:\n",
    "  print(\"a != b\")"
   ]
  },
  {
   "cell_type": "markdown",
   "metadata": {
    "id": "72IxAHkZKTiP"
   },
   "source": [
    "### Ejercicio 7\n",
    " \n",
    "Repite la función del ejercicio 6, pero ahora visualiza sólo los valores mayores de 35 y sino, que imprima 'suma menor de 35'"
   ]
  },
  {
   "cell_type": "code",
   "execution_count": 44,
   "metadata": {
    "colab": {
     "base_uri": "https://localhost:8080/"
    },
    "id": "mwYw_waFKOck",
    "outputId": "c585557a-795a-4ebf-ba65-a17eb2dcffd7"
   },
   "outputs": [
    {
     "name": "stdout",
     "output_type": "stream",
     "text": [
      "suma menor de 35\n",
      "45\n",
      "60\n"
     ]
    }
   ],
   "source": [
    "a = [[2, 4, 6, 8, 10], [3, 6, 9, 12, 15], [4, 8, 12, 16, 20]] \n",
    "\n",
    "# Respuesta\n",
    "def funcion_1(p):\n",
    "    for row in a:\n",
    "        rowSum = 0\n",
    "        for item in row:\n",
    "            rowSum = rowSum + item\n",
    "        if(rowSum > 35):\n",
    "            print(rowSum)\n",
    "        else:\n",
    "            print('suma menor de 35')\n",
    "\n",
    "funcion_1(a)"
   ]
  }
 ],
 "metadata": {
  "colab": {
   "collapsed_sections": [],
   "name": "EAE_Ejercicios_Elementales_Alumnos_Bucles_Python.ipynb",
   "provenance": []
  },
  "kernelspec": {
   "display_name": "Python 3",
   "language": "python",
   "name": "python3"
  },
  "language_info": {
   "codemirror_mode": {
    "name": "ipython",
    "version": 3
   },
   "file_extension": ".py",
   "mimetype": "text/x-python",
   "name": "python",
   "nbconvert_exporter": "python",
   "pygments_lexer": "ipython3",
   "version": "3.7.6"
  }
 },
 "nbformat": 4,
 "nbformat_minor": 1
}
