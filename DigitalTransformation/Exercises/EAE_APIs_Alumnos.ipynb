{
 "cells": [
  {
   "cell_type": "markdown",
   "metadata": {},
   "source": [
    "# Introducción a las APIs\n",
    "\n",
    "Las [APIs](https://en.wikipedia.org/wiki/Application_programming_interface) (Application Programming Interface) se utilizan de manera habitual para acceder a datos, servicios o facilitar la comunicación entre programas.\n",
    "\n",
    "Son muy útiles en los siguientes casos:\n",
    "\n",
    "* Los datos cambian rápidamente. Por ejemplo, predicciones metereológicas a corto plazo, o el estado actual de la bolsa. En estos casos, no tiene sentido tener un dataset estático que regenerar continuamente.\n",
    "* Necesitamos una parte pequeña de un dataset mucho más grande. Por ejemplo, vamos a analizar los tweets de una determinada cuenta. Sería innecesariamente costo tener que descargarse la base de datos de Twitter completa para consultar un subconjunto muy pequeño.\n",
    "* Para consumir un servicio especializado. Por ejemplo, la geocodificación inversa (consiste en un servicio al que le pasas una latitud y longitud y te devuelve la dirección, ciudad, país, ... en la que se encuentra. Para hacerlo por nosotros mismos, necesitaríamos una base geolocalizada global.\n"
   ]
  },
  {
   "cell_type": "markdown",
   "metadata": {},
   "source": [
    "![](images/api_vs_website.gif)"
   ]
  },
  {
   "cell_type": "markdown",
   "metadata": {},
   "source": [
    "Su uso es muy parecido a la consulta de un sitio web desde un explorador. Tanto la API como el sitio web residen en un servidor web remoto (normalmente, accesible desde internet) y contestan a las peticiones que hacen los clientes. La gran diferencia reside, principalmente, en el formato de la respuesta:\n",
    "\n",
    "* Al consultar un sitio web, el resultado se devuelve para que sea interpretable por humanos. Suele estar formado por HTML que el explorador renderiza para nosotros.\n",
    "* Al consultar una API, el resultado se devuelve en una forma estructurada para que sea interpretable por otro programa. El formato más habitual es el [JSON](https://en.wikipedia.org/wiki/JSON), aunque existen otros.\n",
    "\n",
    "Un ejemplo de JSON:"
   ]
  },
  {
   "cell_type": "markdown",
   "metadata": {},
   "source": [
    "![](images/json.png)"
   ]
  },
  {
   "cell_type": "markdown",
   "metadata": {},
   "source": [
    "## Peticiones a APIs o API request\n",
    "\n",
    "Para poder consumir, (hacer una petición a una), un API. Necesitamos saber:\n",
    "\n",
    "* La URL base\n",
    "* El/los endpoint/s\n",
    "* Parámetros que se han de enviar al API, cuáles son, y como se estructura la petición (en el query string o en el cuerpo de la petición)\n",
    " \n",
    "El formato de construcción de la petición en un API es: 'https://url_base/endpoint'\n",
    "Un ejemplo de petición a una API (URL base) que no necesita parámetros"
   ]
  },
  {
   "cell_type": "code",
   "execution_count": 2,
   "metadata": {},
   "outputs": [],
   "source": [
    "import requests\n",
    "import pandas as pd"
   ]
  },
  {
   "cell_type": "code",
   "execution_count": 88,
   "metadata": {},
   "outputs": [
    {
     "name": "stdout",
     "output_type": "stream",
     "text": [
      "<Response [200]>\n"
     ]
    }
   ],
   "source": [
    "# aquí --> api.exchangeratesapi.io, es la URL base\n",
    "response = requests.get('https://api.exchangeratesapi.io')\n",
    "\n",
    "print(response)"
   ]
  },
  {
   "cell_type": "markdown",
   "metadata": {},
   "source": [
    "## Códigos de respuesta\n",
    "\n",
    "El _status code_ nos indica si ha ido bien o no la petición. Además, en caso de error, nos da información sobre la causa de este. Los más utilizados son:\n",
    "\n",
    "2xx Éxito\n",
    "* 200: Transacción completada con éxito\n",
    " \n",
    "3xx redirección\n",
    " \n",
    "* 301: Redirección de la transacción. El servidor está redireccionando la petición a otro\n",
    " \n",
    "4xx Error en el lado del cliente\n",
    "* 401: Error de autenticación\n",
    "* 400: Error. Petición es incorrecta (p.e. porque falta algún parámetro o están mal formados)\n",
    "* 403: Prohibido, no tiene permisos suficientes o credenciales incorrectas\n",
    "* 404: el recurso consultado no existe\n",
    " \n",
    "5xx Error en el lado del servidor\n",
    "* 500: el servidor ha dado un error inesperado\n",
    "\n",
    "Puedes ver la lista completa [aquí](https://en.wikipedia.org/wiki/List_of_HTTP_status_codes)"
   ]
  },
  {
   "cell_type": "markdown",
   "metadata": {},
   "source": [
    "### EJERCICIO\n",
    "¿Cuál ha sido el resultado de la consulta anterior?\n",
    " \n",
    "Interpreta el resultado"
   ]
  },
  {
   "cell_type": "code",
   "execution_count": null,
   "metadata": {},
   "outputs": [],
   "source": [
    "#200: Transacción completada con éxito"
   ]
  },
  {
   "cell_type": "markdown",
   "metadata": {},
   "source": [
    "## Verbos\n",
    "\n",
    "Las peticiones a las APIs usan verbos. En el ejemplo de antes, hemos utilizado `GET`. Además, este verbo es el que se usa por defecto a través del explorador.\n",
    "\n",
    "Los más comunes y el uso que se les suele dar son:\n",
    "\n",
    "* GET: para consulta\n",
    "* POST: para insertar un nuevo dato o disparar una acción\n",
    "* PUT: para actualizar un registro\n",
    "* DELETE: para eliminar un registro"
   ]
  },
  {
   "cell_type": "markdown",
   "metadata": {},
   "source": [
    "### Extracción de información específica incluida en la respuesta"
   ]
  },
  {
   "cell_type": "markdown",
   "metadata": {},
   "source": [
    "Extracción de los Response Status Codes: status_code"
   ]
  },
  {
   "cell_type": "code",
   "execution_count": 83,
   "metadata": {},
   "outputs": [
    {
     "data": {
      "text/plain": [
       "200"
      ]
     },
     "execution_count": 83,
     "metadata": {},
     "output_type": "execute_result"
    }
   ],
   "source": [
    "response.status_code"
   ]
  },
  {
   "cell_type": "markdown",
   "metadata": {},
   "source": [
    "Visualización de los datos de retorno en formato legible"
   ]
  },
  {
   "cell_type": "code",
   "execution_count": 84,
   "metadata": {
    "scrolled": true
   },
   "outputs": [
    {
     "data": {
      "text/plain": [
       "'{\"details\":\"https://exchangeratesapi.io\"}'"
      ]
     },
     "execution_count": 84,
     "metadata": {},
     "output_type": "execute_result"
    }
   ],
   "source": [
    "salida = response.text\n",
    "salida"
   ]
  },
  {
   "cell_type": "markdown",
   "metadata": {},
   "source": [
    "### Extracción de información del origen y formato de la respuesta"
   ]
  },
  {
   "cell_type": "code",
   "execution_count": 7,
   "metadata": {
    "scrolled": true
   },
   "outputs": [
    {
     "data": {
      "text/plain": [
       "{'Date': 'Fri, 27 Nov 2020 14:52:32 GMT', 'Content-Type': 'application/json', 'Content-Length': '41', 'Connection': 'keep-alive', 'Set-Cookie': '__cfduid=d41d0aad9f14541311ce6ad9554b1975a1606488752; expires=Sun, 27-Dec-20 14:52:32 GMT; path=/; domain=.exchangeratesapi.io; HttpOnly; SameSite=Lax', 'Cache-Control': 'max-age=1800', 'CF-Cache-Status': 'HIT', 'Age': '1528', 'Accept-Ranges': 'bytes', 'cf-request-id': '06abca19aa0000ff645e323000000001', 'Expect-CT': 'max-age=604800, report-uri=\"https://report-uri.cloudflare.com/cdn-cgi/beacon/expect-ct\"', 'Report-To': '{\"endpoints\":[{\"url\":\"https:\\\\/\\\\/a.nel.cloudflare.com\\\\/report?s=XVh23xy4R7urozhTw8mlI40GlbFsnVbR9S%2BB2hICvDGj56GDbYCuDxLrvXS9eik3hE5vPul%2BOMPlyufDpZBc1EbStsdBX26MA2C9oMAi9HWJCJcrim8VeQ%3D%3D\"}],\"group\":\"cf-nel\",\"max_age\":604800}', 'NEL': '{\"report_to\":\"cf-nel\",\"max_age\":604800}', 'Vary': 'Accept-Encoding', 'Server': 'cloudflare', 'CF-RAY': '5f8cac6f7accff64-MAD'}"
      ]
     },
     "execution_count": 7,
     "metadata": {},
     "output_type": "execute_result"
    }
   ],
   "source": [
    "# Cabeceras: dan información sobre el servidor, el formato de la respuesta, ...\n",
    "response.headers"
   ]
  },
  {
   "cell_type": "markdown",
   "metadata": {},
   "source": [
    "El formato de la información es no está pensada para un humano, por lo que no es fácil de leer"
   ]
  },
  {
   "cell_type": "markdown",
   "metadata": {},
   "source": [
    "### EJERCICIO Evaluación\n",
    " \n",
    "Formatea la información anterior de tal manera que sea fácil de leer, por ejemplo en forma de una columna (clave : valor)."
   ]
  },
  {
   "cell_type": "code",
   "execution_count": 102,
   "metadata": {},
   "outputs": [
    {
     "name": "stdout",
     "output_type": "stream",
     "text": [
      "Date:Sun, 29 Nov 2020 19:01:05 GMT\n",
      "Content-Type:application/json\n",
      "Content-Length:41\n",
      "Connection:keep-alive\n",
      "Set-Cookie:__cfduid=dceb8001f85dade99539fd2b6027f9bf01606676465; expires=Tue, 29-Dec-20 19:01:05 GMT; path=/; domain=.exchangeratesapi.io; HttpOnly; SameSite=Lax\n",
      "Cache-Control:max-age=1800\n",
      "CF-Cache-Status:HIT\n",
      "Age:1665\n",
      "Accept-Ranges:bytes\n",
      "cf-request-id:06b6fa5edb0000ff4c3a869000000001\n",
      "Expect-CT:max-age=604800, report-uri=\"https://report-uri.cloudflare.com/cdn-cgi/beacon/expect-ct\"\n",
      "Report-To:{\"endpoints\":[{\"url\":\"https:\\/\\/a.nel.cloudflare.com\\/report?s=xs%2BrjXZMSIicBw4udeHm4vkV2kDYaqw3VElzfIwhPJtOrQcir%2BlOCCbwueUVl6v041r0r8rgdzKV%2FIYUgb2lohAoBy45C2lHh3WXBC3sP0FV4ItPzr7b9w%3D%3D\"}],\"group\":\"cf-nel\",\"max_age\":604800}\n",
      "NEL:{\"report_to\":\"cf-nel\",\"max_age\":604800}\n",
      "Vary:Accept-Encoding\n",
      "Server:cloudflare\n",
      "CF-RAY:5f9e93449bdfff4c-MAD\n"
     ]
    }
   ],
   "source": [
    "for headerKey in response.headers.keys():\n",
    "    print(headerKey + ':' + response.headers.get(headerKey))"
   ]
  },
  {
   "cell_type": "markdown",
   "metadata": {},
   "source": [
    "### EJERCICIO\n",
    " \n",
    "De la información remitida por el API en la consulta anterior, xxtrae el valor de la clave \"Content-Type\""
   ]
  },
  {
   "cell_type": "code",
   "execution_count": 10,
   "metadata": {},
   "outputs": [
    {
     "data": {
      "text/plain": [
       "'application/json'"
      ]
     },
     "execution_count": 10,
     "metadata": {},
     "output_type": "execute_result"
    }
   ],
   "source": [
    "# Respuesta\n",
    "response.headers['Content-Type']"
   ]
  },
  {
   "cell_type": "markdown",
   "metadata": {},
   "source": [
    "### EJERCICIO\n",
    " \n",
    "Del campo \"Report-To\", extrae el valor de la clave \"url\", que te devuelve el API"
   ]
  },
  {
   "cell_type": "code",
   "execution_count": 118,
   "metadata": {},
   "outputs": [
    {
     "name": "stdout",
     "output_type": "stream",
     "text": [
      "https://a.nel.cloudflare.com/report?s=xs%2BrjXZMSIicBw4udeHm4vkV2kDYaqw3VElzfIwhPJtOrQcir%2BlOCCbwueUVl6v041r0r8rgdzKV%2FIYUgb2lohAoBy45C2lHh3WXBC3sP0FV4ItPzr7b9w%3D%3D\n"
     ]
    }
   ],
   "source": [
    "import json\n",
    "\n",
    "d = json.loads(response.headers['Report-To'])\n",
    "print(d['endpoints'][0]['url'])"
   ]
  },
  {
   "cell_type": "markdown",
   "metadata": {},
   "source": [
    "### Añadiendo enpoints para poder recuperar información"
   ]
  },
  {
   "cell_type": "markdown",
   "metadata": {},
   "source": [
    "Recuerda que un \"endpoint\" es todo aquello que se añade a la url base. En este caso añadiendo la fecha (como endpoint), el API nos devuelve los tipos de cambio existentes en esa fecha"
   ]
  },
  {
   "cell_type": "markdown",
   "metadata": {},
   "source": [
    "### Mejorando la visualización de los datos recuperados desde un API en formato JSON\n",
    " \n",
    "Añadiendo el método \"json()\" visualizamos la información en un formato más legible. Ejemplo: retorno_del_API.json()\n",
    " \n",
    "Ejemplo:"
   ]
  },
  {
   "cell_type": "code",
   "execution_count": 13,
   "metadata": {
    "scrolled": true
   },
   "outputs": [
    {
     "data": {
      "text/plain": [
       "{'rates': {'CAD': 1.5472,\n",
       "  'HKD': 9.2235,\n",
       "  'ISK': 161.3,\n",
       "  'PHP': 57.257,\n",
       "  'DKK': 7.442,\n",
       "  'HUF': 361.18,\n",
       "  'CZK': 26.138,\n",
       "  'AUD': 1.6163,\n",
       "  'RON': 4.8743,\n",
       "  'SEK': 10.1568,\n",
       "  'IDR': 16843.08,\n",
       "  'INR': 87.8655,\n",
       "  'BRL': 6.3494,\n",
       "  'RUB': 90.1153,\n",
       "  'HRK': 7.5552,\n",
       "  'JPY': 124.04,\n",
       "  'THB': 36.057,\n",
       "  'CHF': 1.0813,\n",
       "  'SGD': 1.593,\n",
       "  'PLN': 4.4749,\n",
       "  'BGN': 1.9558,\n",
       "  'TRY': 9.3878,\n",
       "  'CNY': 7.8254,\n",
       "  'NOK': 10.5705,\n",
       "  'NZD': 1.7,\n",
       "  'ZAR': 18.1098,\n",
       "  'USD': 1.19,\n",
       "  'MXN': 23.8479,\n",
       "  'ILS': 3.9538,\n",
       "  'GBP': 0.89129,\n",
       "  'KRW': 1318.24,\n",
       "  'MYR': 4.8403},\n",
       " 'base': 'EUR',\n",
       " 'date': '2020-11-26'}"
      ]
     },
     "execution_count": 13,
     "metadata": {},
     "output_type": "execute_result"
    }
   ],
   "source": [
    "response = requests.get('https://api.exchangeratesapi.io/latest')\n",
    "response.json()"
   ]
  },
  {
   "cell_type": "markdown",
   "metadata": {},
   "source": [
    "### EJERCICIO\n",
    " \n",
    "¿Cuáles fueron los tipos de cambio existentes el 25 de noviembre de 2020?"
   ]
  },
  {
   "cell_type": "code",
   "execution_count": 63,
   "metadata": {
    "scrolled": true
   },
   "outputs": [
    {
     "name": "stdout",
     "output_type": "stream",
     "text": [
      "{'rates': {'CAD': 1.3454, 'HKD': 10.3369, 'LVL': 0.7093, 'PHP': 58.708, 'DKK': 7.4558, 'HUF': 277.35, 'CZK': 24.72, 'AUD': 1.3595, 'RON': 4.2995, 'SEK': 9.2705, 'IDR': 11944.66, 'INR': 60.7, 'BRL': 2.2902, 'RUB': 41.651, 'LTL': 3.4528, 'JPY': 111.35, 'THB': 40.036, 'CHF': 1.3326, 'SGD': 1.7428, 'PLN': 3.9789, 'BGN': 1.9558, 'TRY': 1.966, 'CNY': 8.8595, 'NOK': 8.1275, 'NZD': 1.7547, 'ZAR': 9.3897, 'USD': 1.3321, 'MXN': 16.4481, 'EEK': 15.6466, 'GBP': 0.84645, 'KRW': 1524.67, 'MYR': 4.18, 'HRK': 7.415}, 'base': 'EUR', 'date': '2010-11-25'}\n",
      "dict_keys(['rates', 'base', 'date'])\n",
      "dict_keys(['CAD', 'HKD', 'LVL', 'PHP', 'DKK', 'HUF', 'CZK', 'AUD', 'RON', 'SEK', 'IDR', 'INR', 'BRL', 'RUB', 'LTL', 'JPY', 'THB', 'CHF', 'SGD', 'PLN', 'BGN', 'TRY', 'CNY', 'NOK', 'NZD', 'ZAR', 'USD', 'MXN', 'EEK', 'GBP', 'KRW', 'MYR', 'HRK'])\n",
      "1.3454\n"
     ]
    }
   ],
   "source": [
    "response = requests.get('https://api.exchangeratesapi.io/2010-11-25')\n",
    "print(response.json())\n",
    "\n",
    "print(response.json().keys())\n",
    "\n",
    "rates = response.json()['rates']\n",
    "print(rates.keys())\n",
    "print(rates['CAD'])"
   ]
  },
  {
   "cell_type": "markdown",
   "metadata": {},
   "source": [
    "## Enviando parámetros al API\n",
    " \n",
    "Los parámetros son datos que permiten al API de destino de la información que deseamos o datos que muestre que somos usuarios autorizados. Ejemplos: fechas, usuario y contraseña, moneda, etc.\n",
    "\n",
    "Los parámetros que incluimos en la petición pueden ir de formas diversas:\n",
    "\n",
    "* Como parte de la URL. P.e. `https://api.exchangeratesapi.io/2010-04-01`\n",
    "* Como parte del query string. La URL y su query string se separan con el símbolo `?`, y tienen la forma `clave=valor`. P.e. `https://api.exchangeratesapi.io/latest?base=USD`. Este es el lugar habitual de los parámetros en las peticiones `GET`.\n",
    "* En el cuerpo de la petición. Es el lugar habitual de los parámetros en las peticiones `POST` y `PUT`.\n",
    "\n",
    "Un ejemplo de petición `GET` con parámetros:"
   ]
  },
  {
   "cell_type": "markdown",
   "metadata": {},
   "source": [
    "GET https://api.exchangeratesapi.io/latest?base=USD"
   ]
  },
  {
   "cell_type": "code",
   "execution_count": 68,
   "metadata": {
    "scrolled": true
   },
   "outputs": [
    {
     "name": "stdout",
     "output_type": "stream",
     "text": [
      "https://api.exchangeratesapi.io/latest?base=USD\n",
      "{'rates': {'CAD': 1.3001680672, 'HKD': 7.7508403361, 'ISK': 135.5462184874, 'PHP': 48.1151260504, 'DKK': 6.2537815126, 'HUF': 303.512605042, 'CZK': 21.9647058824, 'GBP': 0.7489831933, 'RON': 4.0960504202, 'SEK': 8.5351260504, 'IDR': 14153.8487394958, 'INR': 73.8365546218, 'BRL': 5.3356302521, 'RUB': 75.7271428571, 'HRK': 6.348907563, 'JPY': 104.2352941176, 'THB': 30.3, 'CHF': 0.9086554622, 'EUR': 0.8403361345, 'MYR': 4.0674789916, 'BGN': 1.6435294118, 'TRY': 7.888907563, 'CNY': 6.5759663866, 'NOK': 8.8827731092, 'NZD': 1.4285714286, 'ZAR': 15.2183193277, 'USD': 1.0, 'MXN': 20.0402521008, 'SGD': 1.3386554622, 'AUD': 1.3582352941, 'ILS': 3.3225210084, 'KRW': 1107.7647058824, 'PLN': 3.7604201681}, 'base': 'USD', 'date': '2020-11-26'}\n"
     ]
    }
   ],
   "source": [
    "#payload = {'key1': 'value1', 'key2': ['value2', 'value3']}\n",
    "payload = {'base': 'USD'}\n",
    "\n",
    "response = requests.get('https://api.exchangeratesapi.io/latest', params=payload)\n",
    "print(response.url)\n",
    "print(response.json())"
   ]
  },
  {
   "cell_type": "markdown",
   "metadata": {},
   "source": [
    "### EJERCICIO\n",
    " \n",
    "Enviando parámetros en la URL recupera el tipo de cambio existente en la fecha 1 de enero de 2018. Usa el endpoint \"history\""
   ]
  },
  {
   "cell_type": "code",
   "execution_count": 96,
   "metadata": {
    "scrolled": false
   },
   "outputs": [
    {
     "name": "stdout",
     "output_type": "stream",
     "text": [
      "https://api.exchangeratesapi.io/history?start_at=2018-01-01&end_at=2018-01-02\n",
      "{'rates': {'2018-01-02': {'CAD': 1.5128, 'HKD': 9.4283, 'SGD': 1.6031, 'PHP': 60.132, 'DKK': 7.4437, 'HUF': 308.59, 'CZK': 25.494, 'AUD': 1.5413, 'RON': 4.6525, 'SEK': 9.8283, 'IDR': 16266.03, 'INR': 76.6005, 'BRL': 3.9504, 'RUB': 69.1176, 'HRK': 7.464, 'JPY': 135.35, 'THB': 39.115, 'CHF': 1.1718, 'PLN': 4.1633, 'BGN': 1.9558, 'TRY': 4.534, 'CNY': 7.8338, 'NOK': 9.7748, 'NZD': 1.6955, 'ZAR': 14.9, 'USD': 1.2065, 'MXN': 23.5534, 'ILS': 4.1693, 'GBP': 0.88953, 'KRW': 1281.59, 'MYR': 4.8495}}, 'start_at': '2018-01-01', 'base': 'EUR', 'end_at': '2018-01-02'}\n"
     ]
    }
   ],
   "source": [
    "# Respuesta\n",
    "# GET https://api.exchangeratesapi.io/history?start_at=2018-01-01&end_at=2018-09-01\n",
    "\n",
    "payload = {'start_at': '2018-01-01', 'end_at': '2018-01-02'}\n",
    "\n",
    "response = requests.get('https://api.exchangeratesapi.io/history', params=payload)\n",
    "print(response.url)\n",
    "print(response.json())"
   ]
  },
  {
   "cell_type": "markdown",
   "metadata": {},
   "source": [
    "### EJERCICIO\n",
    " \n",
    "Utilizando parámetros en el cuerpo de la petición recupera el tipo de cambio del dolar canadiense (CAD), existente en la fecha 1 de enero de 2018. Usa el endpoint \"history\""
   ]
  },
  {
   "cell_type": "code",
   "execution_count": 94,
   "metadata": {
    "scrolled": false
   },
   "outputs": [
    {
     "name": "stdout",
     "output_type": "stream",
     "text": [
      "https://api.exchangeratesapi.io/history?start_at=2018-01-01&end_at=2018-01-02&base=CAD\n",
      "{'rates': {'2018-01-02': {'CAD': 1.0, 'HKD': 6.2323506081, 'USD': 0.7975277631, 'PHP': 39.7488101534, 'DKK': 4.9204785828, 'HUF': 203.9859862507, 'CZK': 16.852194606, 'GBP': 0.5880023797, 'RON': 3.0754230566, 'SEK': 6.496760973, 'IDR': 10752.2673188789, 'INR': 50.6349153887, 'BRL': 2.6113167636, 'RUB': 45.6885245902, 'HRK': 4.9338974088, 'JPY': 89.4698572184, 'THB': 25.8560285563, 'CHF': 0.7745901639, 'EUR': 0.6610259122, 'MYR': 3.2056451613, 'BGN': 1.2928344791, 'TRY': 2.997091486, 'CNY': 5.1783447911, 'NOK': 6.4613960867, 'NZD': 1.1207694342, 'ZAR': 9.849286092, 'MXN': 15.5694077208, 'SGD': 1.0596906399, 'AUD': 1.0188392385, 'ILS': 2.7560153358, 'KRW': 847.1641988366, 'PLN': 2.7520491803}}, 'start_at': '2018-01-01', 'base': 'CAD', 'end_at': '2018-01-02'}\n"
     ]
    }
   ],
   "source": [
    "# GET https://api.exchangeratesapi.io/history?start_at=2018-01-01&end_at=2018-09-01\n",
    "\n",
    "payload = {'start_at': '2018-01-01', 'end_at': '2018-01-02', 'base' : 'CAD'}\n",
    "\n",
    "response = requests.get('https://api.exchangeratesapi.io/history', params=payload)\n",
    "print(response.url)\n",
    "print(response.json())"
   ]
  },
  {
   "cell_type": "markdown",
   "metadata": {},
   "source": [
    "### EJERCICIO\n",
    " \n",
    "Utilizando parámetros en el cuerpo de la petición recupera el tipo de cambio del dolar canadiense (CAD), existente entre las fechas 1 de enero de 2018 y 5 de enero de 2018."
   ]
  },
  {
   "cell_type": "code",
   "execution_count": 84,
   "metadata": {
    "scrolled": true
   },
   "outputs": [
    {
     "name": "stdout",
     "output_type": "stream",
     "text": [
      "https://api.exchangeratesapi.io/history?start_at=2018-01-01&end_at=2018-05-01&base=CAD\n",
      "{'rates': {'2018-01-22': {'CAD': 1.0, 'HKD': 6.266470203, 'USD': 0.8015062213, 'PHP': 40.7910936477, 'DKK': 4.8750491159, 'HUF': 202.7832351015, 'CZK': 16.6332678454, 'GBP': 0.5768500327, 'RON': 3.0563195809, 'SEK': 6.4400785855, 'IDR': 10701.7092337917, 'INR': 51.2262606418, 'BRL': 2.5594629993, 'RUB': 45.3712508186, 'HRK': 4.8693516699, 'JPY': 88.8408644401, 'THB': 25.5356908972, 'CHF': 0.7703994761, 'EUR': 0.6548788474, 'MYR': 3.1538965291, 'BGN': 1.2808120498, 'TRY': 3.0485920105, 'CNY': 5.1325474787, 'NOK': 6.3014407335, 'NZD': 1.0974459725, 'ZAR': 9.6982318271, 'MXN': 14.9352979699, 'SGD': 1.0576948265, 'AUD': 1.001113294, 'ILS': 2.7410609037, 'KRW': 857.8781925344, 'PLN': 2.7313032089}, '2018-02-20': {'CAD': 1.0, 'HKD': 6.2077412718, 'ISK': 79.9202726162, 'PHP': 41.5096765897, 'DKK': 4.7883366553, 'HUF': 200.4629331962, 'CZK': 16.278531473, 'GBP': 0.5668874172, 'RON': 2.9985211856, 'SEK': 6.4095672861, 'IDR': 10814.4602327525, 'INR': 51.4389506848, 'BRL': 2.5791808654, 'RUB': 44.9476628303, 'HRK': 4.7826785829, 'JPY': 85.0318266572, 'THB': 25.0003214814, 'CHF': 0.7417861506, 'EUR': 0.6429627725, 'MYR': 3.0927152318, 'BGN': 1.2575065904, 'TRY': 2.9940204462, 'CNY': 5.0337555456, 'NOK': 6.2163569729, 'NZD': 1.0790201247, 'ZAR': 9.3175593133, 'USD': 0.7934160612, 'MXN': 14.788272359, 'SGD': 1.0462290233, 'AUD': 1.0061081463, 'ILS': 2.7788851026, 'KRW': 851.0898218993, 'PLN': 2.6661737285}, '2018-01-05': {'CAD': 1.0, 'HKD': 6.2508627555, 'USD': 0.7993761614, 'PHP': 39.8626227767, 'DKK': 4.9415317229, 'HUF': 204.9177063977, 'CZK': 16.9856649854, 'GBP': 0.5898792142, 'RON': 3.0761215822, 'SEK': 6.5249535439, 'IDR': 10727.6280860101, 'INR': 50.6563578444, 'BRL': 2.5920493762, 'RUB': 45.6413591718, 'HRK': 4.9342978497, 'JPY': 90.5561454739, 'THB': 25.7320148659, 'CHF': 0.7802628086, 'EUR': 0.6636580834, 'MYR': 3.1975046456, 'BGN': 1.2979824794, 'TRY': 2.9948898328, 'CNY': 5.1865542872, 'NOK': 6.4652243164, 'NZD': 1.1174011149, 'ZAR': 9.8809397398, 'MXN': 15.480953013, 'SGD': 1.0613883727, 'AUD': 1.0194451818, 'ILS': 2.7476771967, 'KRW': 850.278736395, 'PLN': 2.7577647996}, '2018-01-03': {'CAD': 1.0, 'HKD': 6.2460955672, 'USD': 0.7990297069, 'PHP': 39.8670831395, 'DKK': 4.9472984648, 'HUF': 205.549278926, 'CZK': 16.9768060078, 'GBP': 0.5890875258, 'RON': 3.0806805343, 'SEK': 6.5295407722, 'IDR': 10750.9470326311, 'INR': 50.7380208679, 'BRL': 2.6075629694, 'RUB': 45.9202498837, 'HRK': 4.945171795, 'JPY': 89.698943311, 'THB': 25.9918920715, 'CHF': 0.7799561374, 'EUR': 0.6645843025, 'MYR': 3.2080813451, 'BGN': 1.2997939789, 'TRY': 3.0107662657, 'CNY': 5.1949225759, 'NOK': 6.4757094437, 'NZD': 1.1259387253, 'ZAR': 9.8920050508, 'MXN': 15.5403070379, 'SGD': 1.0625373829, 'AUD': 1.0194058616, 'ILS': 2.7638731973, 'KRW': 851.5916794045, 'PLN': 2.7681265369}, '2018-01-23': {'CAD': 1.0, 'HKD': 6.2633265747, 'USD': 0.8011642357, 'PHP': 40.8797174439, 'DKK': 4.8685329322, 'HUF': 202.8451828112, 'CZK': 16.6152135522, 'GBP': 0.5744653019, 'RON': 3.0551376807, 'SEK': 6.4388122179, 'IDR': 10690.7318987507, 'INR': 51.0942507685, 'BRL': 2.5804827, 'RUB': 45.2617568186, 'HRK': 4.8600954935, 'JPY': 88.5276996533, 'THB': 25.5013408333, 'CHF': 0.7704231801, 'EUR': 0.6540650141, 'MYR': 3.1495192622, 'BGN': 1.2792203545, 'TRY': 3.0279939826, 'CNY': 5.1321865393, 'NOK': 6.3038786055, 'NZD': 1.0937275165, 'ZAR': 9.7162011904, 'MXN': 15.0841781673, 'SGD': 1.0570998757, 'AUD': 1.0049708941, 'ILS': 2.7390934659, 'KRW': 861.9595787821, 'PLN': 2.7271894826}, '2018-03-02': {'CAD': 1.0, 'HKD': 6.0787615084, 'ISK': 78.1309118426, 'PHP': 40.3789885231, 'DKK': 4.6966200025, 'HUF': 197.9316433346, 'CZK': 16.0228275949, 'GBP': 0.5632488334, 'RON': 2.9382645983, 'SEK': 6.4095724555, 'IDR': 10697.1055618615, 'INR': 50.6498297389, 'BRL': 2.5284399041, 'RUB': 44.3846008324, 'HRK': 4.6944759743, 'JPY': 81.8325135578, 'THB': 24.4482280237, 'CHF': 0.7259427418, 'EUR': 0.6305965443, 'MYR': 3.0437003405, 'BGN': 1.2333207214, 'TRY': 2.963677639, 'CNY': 4.926283264, 'NOK': 6.0649514441, 'NZD': 1.0728969605, 'ZAR': 9.2740572582, 'USD': 0.7763904654, 'MXN': 14.6954849287, 'SGD': 1.0254130407, 'AUD': 1.0017026107, 'ILS': 2.6805397906, 'KRW': 841.7454912347, 'PLN': 2.6449741455}, '2018-04-12': {'CAD': 1.0, 'HKD': 6.2340658632, 'ISK': 78.6234452536, 'PHP': 41.3108203905, 'DKK': 4.7980279693, 'HUF': 200.6831217374, 'CZK': 16.3150093446, 'GBP': 0.5590320294, 'RON': 3.0041245086, 'SEK': 6.6844750918, 'IDR': 10935.2001031127, 'INR': 51.825095057, 'BRL': 2.6733260295, 'RUB': 48.9111297287, 'HRK': 4.782689953, 'JPY': 85.0937681253, 'THB': 24.7779854353, 'CHF': 0.7653541277, 'EUR': 0.6444544693, 'MYR': 3.0785589998, 'BGN': 1.260424051, 'TRY': 3.2527550429, 'CNY': 4.9914287556, 'NOK': 6.1850228781, 'NZD': 1.0762389637, 'ZAR': 9.5274859831, 'USD': 0.7941612425, 'MXN': 14.4238577045, 'SGD': 1.0411161951, 'AUD': 1.024231488, 'ILS': 2.7919056519, 'KRW': 850.5896758394, 'PLN': 2.6966552813}, '2018-01-18': {'CAD': 1.0, 'HKD': 6.2806487622, 'USD': 0.8034014052, 'PHP': 40.756451507, 'DKK': 4.8903407972, 'HUF': 202.5806027973, 'CZK': 16.6557226344, 'GBP': 0.5792107164, 'RON': 3.0520717053, 'SEK': 6.4551185239, 'IDR': 10719.9290826712, 'INR': 51.2975244599, 'BRL': 2.5819817454, 'RUB': 45.4478954626, 'HRK': 4.8860069604, 'JPY': 89.3492678442, 'THB': 25.6444940574, 'CHF': 0.7714229431, 'EUR': 0.6566419332, 'MYR': 3.1778842997, 'BGN': 1.2842602929, 'TRY': 3.0451113008, 'CNY': 5.1600236391, 'NOK': 6.3046161928, 'NZD': 1.1004662158, 'ZAR': 9.8519272441, 'MXN': 14.9828616455, 'SGD': 1.0621183269, 'AUD': 1.0053844639, 'ILS': 2.7546129096, 'KRW': 857.9749162782, 'PLN': 2.7358986145}, '2018-03-09': {'CAD': 1.0, 'HKD': 6.0808934881, 'ISK': 77.5492175669, 'PHP': 40.4480060575, 'DKK': 4.7005300353, 'HUF': 196.8260979303, 'CZK': 16.0613326603, 'GBP': 0.560909894, 'RON': 2.9385411408, 'SEK': 6.4139323574, 'IDR': 10712.2539121656, 'INR': 50.5625315497, 'BRL': 2.5302877335, 'RUB': 44.23977789, 'HRK': 4.6917592125, 'JPY': 82.8558808682, 'THB': 24.3172640081, 'CHF': 0.7379480061, 'EUR': 0.6309944472, 'MYR': 3.0353987885, 'BGN': 1.2340989399, 'TRY': 2.9618248359, 'CNY': 4.9151312468, 'NOK': 6.0542655225, 'NZD': 1.0683366986, 'ZAR': 9.2287354871, 'USD': 0.7755552751, 'MXN': 14.4377839475, 'SGD': 1.0224634023, 'AUD': 0.9952044422, 'ILS': 2.6719459869, 'KRW': 830.0795053004, 'PLN': 2.6513124685}, '2018-02-21': {'CAD': 1.0, 'HKD': 6.175309275, 'ISK': 79.4179860265, 'PHP': 41.1697968079, 'DKK': 4.7730914685, 'HUF': 200.0833279918, 'CZK': 16.2560092302, 'GBP': 0.5670341645, 'RON': 2.9879494904, 'SEK': 6.3872828665, 'IDR': 10741.5293891417, 'INR': 51.1053778604, 'BRL': 2.5690660855, 'RUB': 44.6545734248, 'HRK': 4.7698865457, 'JPY': 84.8727645664, 'THB': 24.8593038908, 'CHF': 0.7404012563, 'EUR': 0.6409845523, 'MYR': 3.0878789821, 'BGN': 1.2536375873, 'TRY': 2.9901929364, 'CNY': 5.0068585347, 'NOK': 6.180373053, 'NZD': 1.0739055189, 'ZAR': 9.1899878213, 'USD': 0.7891801808, 'MXN': 14.7757195052, 'SGD': 1.0426895712, 'AUD': 1.0053201718, 'ILS': 2.7608486635, 'KRW': 847.394397795, 'PLN': 2.6657906544}, '2018-04-30': {'CAD': 1.0, 'HKD': 6.0996654227, 'ISK': 78.6256595033, 'PHP': 40.1827306653, 'DKK': 4.7935272166, 'HUF': 201.7436623343, 'CZK': 16.4341783554, 'GBP': 0.5659503281, 'RON': 2.9992278986, 'SEK': 6.7554368807, 'IDR': 10806.9424784455, 'INR': 51.5818427487, 'BRL': 2.697979668, 'RUB': 48.8731823446, 'HRK': 4.7677261614, 'JPY': 85.0083644319, 'THB': 24.5431733368, 'CHF': 0.7700424656, 'EUR': 0.6434178355, 'MYR': 3.0503796165, 'BGN': 1.2583966028, 'TRY': 3.1460558487, 'CNY': 4.9269077339, 'NOK': 6.216703127, 'NZD': 1.103139879, 'ZAR': 9.6590528889, 'USD': 0.7771844036, 'MXN': 14.5397632222, 'SGD': 1.0304980054, 'AUD': 1.0303049801, 'ILS': 2.791017887, 'KRW': 831.3215802342, 'PLN': 2.7193411401}, '2018-04-13': {'CAD': 1.0, 'HKD': 6.2451233691, 'ISK': 78.5428239246, 'PHP': 41.3183051285, 'DKK': 4.8099082806, 'HUF': 200.9624079576, 'CZK': 16.3460793179, 'GBP': 0.5580674331, 'RON': 3.0101408087, 'SEK': 6.7044309521, 'IDR': 10941.4610515437, 'INR': 51.8770184731, 'BRL': 2.7114713861, 'RUB': 49.2304611807, 'HRK': 4.7904017569, 'JPY': 85.6736855703, 'THB': 24.7816819532, 'CHF': 0.765663351, 'EUR': 0.645911381, 'MYR': 3.0819015631, 'BGN': 1.2632734789, 'TRY': 3.2561038626, 'CNY': 4.9969642165, 'NOK': 6.1776902209, 'NZD': 1.0788657796, 'ZAR': 9.5890065883, 'USD': 0.7955690479, 'MXN': 14.4142875597, 'SGD': 1.0436636094, 'AUD': 1.0206045731, 'ILS': 2.7978297378, 'KRW': 850.1873143005, 'PLN': 2.6975197003}, '2018-04-04': {'CAD': 1.0, 'HKD': 6.1154480833, 'ISK': 77.1134805788, 'PHP': 40.6334094948, 'DKK': 4.7282939832, 'HUF': 197.8103579589, 'CZK': 16.0827621224, 'GBP': 0.5558073115, 'RON': 2.9576034527, 'SEK': 6.5482990607, 'IDR': 10725.9202843361, 'INR': 50.7451129728, 'BRL': 2.622239147, 'RUB': 45.0411271896, 'HRK': 4.7171871033, 'JPY': 82.7811627317, 'THB': 24.3481848185, 'CHF': 0.7473978167, 'EUR': 0.6346788525, 'MYR': 3.0216425489, 'BGN': 1.2413048997, 'TRY': 3.1265549632, 'CNY': 4.9129855293, 'NOK': 6.1148134044, 'NZD': 1.0694338665, 'ZAR': 9.2871287129, 'USD': 0.7791317593, 'MXN': 14.2929677583, 'SGD': 1.0241177964, 'AUD': 1.0140898705, 'ILS': 2.7604087332, 'KRW': 829.1761868495, 'PLN': 2.6678725565}, '2018-04-24': {'CAD': 1.0, 'HKD': 6.1185672328, 'ISK': 78.6936534287, 'PHP': 40.7016983782, 'DKK': 4.7553313753, 'HUF': 199.7382198953, 'CZK': 16.2412207892, 'GBP': 0.5584727366, 'RON': 2.9708849445, 'SEK': 6.6259098455, 'IDR': 10816.6900778955, 'INR': 51.7663772187, 'BRL': 2.6870770017, 'RUB': 48.0504405568, 'HRK': 4.7371983144, 'JPY': 84.8678329715, 'THB': 24.5243263951, 'CHF': 0.7626101392, 'EUR': 0.6384880603, 'MYR': 3.0454603499, 'BGN': 1.2487549483, 'TRY': 3.1914825693, 'CNY': 4.9171242498, 'NOK': 6.1480015324, 'NZD': 1.0939854425, 'ZAR': 9.6196526625, 'USD': 0.779785468, 'MXN': 14.6847145958, 'SGD': 1.0314136126, 'AUD': 1.0240071511, 'ILS': 2.7742306219, 'KRW': 839.3947133189, 'PLN': 2.6813944579}, '2018-04-17': {'CAD': 1.0, 'HKD': 6.253690929, 'ISK': 79.0406808072, 'PHP': 41.6439945845, 'DKK': 4.801366772, 'HUF': 200.3997163303, 'CZK': 16.2813487203, 'GBP': 0.5562504029, 'RON': 2.9958094256, 'SEK': 6.699310167, 'IDR': 10973.9990974147, 'INR': 52.2906324544, 'BRL': 2.7179421056, 'RUB': 49.2046934434, 'HRK': 4.7795113146, 'JPY': 85.3265424537, 'THB': 24.8636451551, 'CHF': 0.7677132358, 'EUR': 0.6447037586, 'MYR': 3.0983173232, 'BGN': 1.2609116111, 'TRY': 3.270840049, 'CNY': 5.0054155116, 'NOK': 6.1878666753, 'NZD': 1.0854877184, 'ZAR': 9.5733350525, 'USD': 0.7966604345, 'MXN': 14.3172587196, 'SGD': 1.043904326, 'AUD': 1.02572368, 'ILS': 2.8075559281, 'KRW': 851.402230675, 'PLN': 2.6820965766}, '2018-03-01': {'CAD': 1.0, 'HKD': 6.0855372429, 'ISK': 79.0213363996, 'PHP': 40.3979813466, 'DKK': 4.757250543, 'HUF': 200.4471700524, 'CZK': 16.2476044461, 'GBP': 0.565478472, 'RON': 2.9751501214, 'SEK': 6.4638431072, 'IDR': 10732.1834674844, 'INR': 50.6736297432, 'BRL': 2.5386482688, 'RUB': 44.1924108854, 'HRK': 4.7578893574, 'JPY': 83.0330905839, 'THB': 24.5458029897, 'CHF': 0.7358502619, 'EUR': 0.6388143605, 'MYR': 3.0544269835, 'BGN': 1.2493931264, 'TRY': 2.9663344832, 'CNY': 4.9373961927, 'NOK': 6.1709467229, 'NZD': 1.0774243005, 'ZAR': 9.2755845151, 'USD': 0.7775009582, 'MXN': 14.7159831353, 'SGD': 1.0316851923, 'AUD': 1.0058770921, 'ILS': 2.7083812444, 'KRW': 845.4644180401, 'PLN': 2.6736297432}, '2018-01-02': {'CAD': 1.0, 'HKD': 6.2323506081, 'USD': 0.7975277631, 'PHP': 39.7488101534, 'DKK': 4.9204785828, 'HUF': 203.9859862507, 'CZK': 16.852194606, 'GBP': 0.5880023797, 'RON': 3.0754230566, 'SEK': 6.496760973, 'IDR': 10752.2673188789, 'INR': 50.6349153887, 'BRL': 2.6113167636, 'RUB': 45.6885245902, 'HRK': 4.9338974088, 'JPY': 89.4698572184, 'THB': 25.8560285563, 'CHF': 0.7745901639, 'EUR': 0.6610259122, 'MYR': 3.2056451613, 'BGN': 1.2928344791, 'TRY': 2.997091486, 'CNY': 5.1783447911, 'NOK': 6.4613960867, 'NZD': 1.1207694342, 'ZAR': 9.849286092, 'MXN': 15.5694077208, 'SGD': 1.0596906399, 'AUD': 1.0188392385, 'ILS': 2.7560153358, 'KRW': 847.1641988366, 'PLN': 2.7520491803}, '2018-03-08': {'CAD': 1.0, 'HKD': 6.0680628272, 'ISK': 76.9758165046, 'PHP': 40.2929444029, 'DKK': 4.6437920718, 'HUF': 194.4776863625, 'CZK': 15.8482921965, 'GBP': 0.5576227873, 'RON': 2.9037646472, 'SEK': 6.3682996759, 'IDR': 10667.4769384193, 'INR': 50.4225878833, 'BRL': 2.5094116181, 'RUB': 44.0467464473, 'HRK': 4.6350660683, 'JPY': 82.1677885814, 'THB': 24.2589129893, 'CHF': 0.7311767639, 'EUR': 0.6232859636, 'MYR': 3.0243704812, 'BGN': 1.2190226876, 'TRY': 2.9497631513, 'CNY': 4.9050112191, 'NOK': 6.0542882074, 'NZD': 1.0659436549, 'ZAR': 9.2040638245, 'USD': 0.7741834954, 'MXN': 14.4717028173, 'SGD': 1.0183869359, 'AUD': 0.9917726253, 'ILS': 2.6709050112, 'KRW': 829.7993019197, 'PLN': 2.6204188482}, '2018-01-11': {'CAD': 1.0, 'HKD': 6.2281852514, 'USD': 0.7961969125, 'PHP': 40.1437752601, 'DKK': 4.9343404227, 'HUF': 205.0155701318, 'CZK': 16.9263897171, 'GBP': 0.590174253, 'RON': 3.0751341682, 'SEK': 6.5065262042, 'IDR': 10668.6410918969, 'INR': 50.70794408, 'BRL': 2.5745709932, 'RUB': 45.3620883853, 'HRK': 4.938580799, 'JPY': 88.908765653, 'THB': 25.4820115285, 'CHF': 0.7775790101, 'EUR': 0.6625588021, 'MYR': 3.1739879414, 'BGN': 1.2958325051, 'TRY': 3.0244484198, 'CNY': 5.1763731531, 'NOK': 6.4092625721, 'NZD': 1.1033591731, 'ZAR': 9.9214205261, 'MXN': 15.4409328828, 'SGD': 1.0604916186, 'AUD': 1.0124561055, 'ILS': 2.7253693765, 'KRW': 849.6190286888, 'PLN': 2.7685019545}, '2018-04-05': {'CAD': 1.0, 'HKD': 6.1454754454, 'ISK': 77.5911616323, 'PHP': 40.7625007983, 'DKK': 4.7558592503, 'HUF': 198.582284948, 'CZK': 16.1740851906, 'GBP': 0.5581135449, 'RON': 2.9773931924, 'SEK': 6.5866274986, 'IDR': 10782.4062839262, 'INR': 50.8340251612, 'BRL': 2.5833067246, 'RUB': 45.1019222173, 'HRK': 4.7461523724, 'JPY': 83.8239989782, 'THB': 24.4785746216, 'CHF': 0.7533048087, 'EUR': 0.6386103838, 'MYR': 3.0289929114, 'BGN': 1.2489941886, 'TRY': 3.1638674245, 'CNY': 4.9365859889, 'NOK': 6.1226770547, 'NZD': 1.0728015838, 'ZAR': 9.337697171, 'USD': 0.7829363305, 'MXN': 14.1637397024, 'SGD': 1.0289929114, 'AUD': 1.0179449518, 'ILS': 2.7683121528, 'KRW': 829.8167188198, 'PLN': 2.6847819146}, '2018-04-10': {'CAD': 1.0, 'HKD': 6.2019814637, 'ISK': 77.916267178, 'PHP': 41.058485139, 'DKK': 4.75985938, 'HUF': 199.309683605, 'CZK': 16.1936720997, 'GBP': 0.5572579099, 'RON': 2.9798657718, 'SEK': 6.5743048897, 'IDR': 10864.5637583893, 'INR': 51.3502716523, 'BRL': 2.6883988495, 'RUB': 49.5116011505, 'HRK': 4.748801534, 'JPY': 84.5509747523, 'THB': 24.6743368488, 'CHF': 0.7537232343, 'EUR': 0.6391818472, 'MYR': 3.0572706935, 'BGN': 1.2501118568, 'TRY': 3.2356663471, 'CNY': 4.9690635986, 'NOK': 6.1661872803, 'NZD': 1.0742090125, 'ZAR': 9.525599233, 'USD': 0.7900926814, 'MXN': 14.4313199105, 'SGD': 1.0356024289, 'AUD': 1.0211569191, 'ILS': 2.7684244167, 'KRW': 843.4004474273, 'PLN': 2.6800894855}, '2018-04-06': {'CAD': 1.0, 'HKD': 6.1350798722, 'ISK': 77.5079872204, 'PHP': 40.696485623, 'DKK': 4.7587220447, 'HUF': 199.7188498403, 'CZK': 16.1910543131, 'GBP': 0.5577955272, 'RON': 2.9799361022, 'SEK': 6.5803833866, 'IDR': 10767.0926517572, 'INR': 50.7865814696, 'BRL': 2.6269009585, 'RUB': 45.2568690096, 'HRK': 4.7437699681, 'JPY': 83.910543131, 'THB': 24.4600638978, 'CHF': 0.7538658147, 'EUR': 0.6389776358, 'MYR': 3.0263897764, 'BGN': 1.2497124601, 'TRY': 3.1721405751, 'CNY': 4.9289456869, 'NOK': 6.1252396166, 'NZD': 1.0788498403, 'ZAR': 9.441341853, 'USD': 0.7817252396, 'MXN': 14.269456869, 'SGD': 1.0311821086, 'AUD': 1.0181469649, 'ILS': 2.7643450479, 'KRW': 837.6677316294, 'PLN': 2.6826198083}, '2018-02-07': {'CAD': 1.0, 'HKD': 6.2455810942, 'ISK': 80.9323405633, 'PHP': 40.9426999029, 'DKK': 4.8190352865, 'HUF': 200.5891874393, 'CZK': 16.3353836193, 'GBP': 0.574134024, 'RON': 3.0142440919, 'SEK': 6.3829718355, 'IDR': 10831.5959857559, 'INR': 51.3211395274, 'BRL': 2.5943671091, 'RUB': 45.6595014568, 'HRK': 4.8179346067, 'JPY': 87.3033344124, 'THB': 25.2353512464, 'CHF': 0.7516995792, 'EUR': 0.6474587245, 'MYR': 3.1178374879, 'BGN': 1.2662997734, 'TRY': 3.0224020719, 'CNY': 5.0123664616, 'NOK': 6.2556167044, 'NZD': 1.0940110068, 'ZAR': 9.5590806086, 'USD': 0.7988345743, 'MXN': 14.921851732, 'SGD': 1.0547750081, 'AUD': 1.0154742635, 'ILS': 2.7889932017, 'KRW': 864.8235674976, 'PLN': 2.6931045646}, '2018-01-17': {'CAD': 1.0, 'HKD': 6.2835034574, 'USD': 0.8036219954, 'PHP': 40.8409614751, 'DKK': 4.9041159039, 'HUF': 203.3388212051, 'CZK': 16.7579848535, 'GBP': 0.5832597959, 'RON': 3.066908133, 'SEK': 6.4817253869, 'IDR': 10735.6075074086, 'INR': 51.3737240698, 'BRL': 2.6010536714, 'RUB': 45.6937108989, 'HRK': 4.8907474481, 'JPY': 89.0418175831, 'THB': 25.6838985841, 'CHF': 0.7753704313, 'EUR': 0.6585446164, 'MYR': 3.1834046757, 'BGN': 1.2879815608, 'TRY': 3.0723740533, 'CNY': 5.1714191636, 'NOK': 6.336516299, 'NZD': 1.1063549555, 'ZAR': 9.9126769839, 'MXN': 15.1060915377, 'SGD': 1.0637471189, 'AUD': 1.0084952256, 'ILS': 2.7771485018, 'KRW': 858.5116891669, 'PLN': 2.7469871584}, '2018-04-26': {'CAD': 1.0, 'HKD': 6.1142912025, 'ISK': 78.7552823665, 'PHP': 40.5103086183, 'DKK': 4.7707132795, 'HUF': 200.2817262133, 'CZK': 16.3093866052, 'GBP': 0.5576898451, 'RON': 2.9797669356, 'SEK': 6.6895889358, 'IDR': 10812.3639390447, 'INR': 52.0066589832, 'BRL': 2.7098220003, 'RUB': 48.9838007427, 'HRK': 4.7525931617, 'JPY': 85.0749135613, 'THB': 24.5844538353, 'CHF': 0.7668075298, 'EUR': 0.6402868485, 'MYR': 3.0510948905, 'BGN': 1.2522730183, 'TRY': 3.1714047893, 'CNY': 4.9277756435, 'NOK': 6.193814829, 'NZD': 1.1009092073, 'ZAR': 9.6514918684, 'USD': 0.7791010373, 'MXN': 14.6276091689, 'SGD': 1.0334870022, 'AUD': 1.0289409656, 'ILS': 2.7856959918, 'KRW': 839.1279293123, 'PLN': 2.7122550903}, '2018-02-14': {'CAD': 1.0, 'HKD': 6.2200540958, 'ISK': 80.6285419887, 'PHP': 41.4683153014, 'DKK': 4.7970118496, 'HUF': 201.4554353426, 'CZK': 16.3382277177, 'GBP': 0.5734157651, 'RON': 3.0014167955, 'SEK': 6.3952215353, 'IDR': 10827.3634724369, 'INR': 50.9508629572, 'BRL': 2.6098016486, 'RUB': 45.6268031942, 'HRK': 4.7874806801, 'JPY': 85.265327151, 'THB': 24.9851880474, 'CHF': 0.7418212262, 'EUR': 0.6439979392, 'MYR': 3.1039412674, 'BGN': 1.2595311695, 'TRY': 3.0222179289, 'CNY': 5.0451442555, 'NOK': 6.2563111798, 'NZD': 1.0866177228, 'ZAR': 9.3983771252, 'USD': 0.7952086553, 'MXN': 14.8075734158, 'SGD': 1.049072643, 'AUD': 1.0115275631, 'ILS': 2.8127253993, 'KRW': 857.2836166924, 'PLN': 2.6866950026}, '2018-02-08': {'CAD': 1.0, 'HKD': 6.2196467991, 'ISK': 81.2881443968, 'PHP': 41.1037527594, 'DKK': 4.831969874, 'HUF': 201.8958576808, 'CZK': 16.3920270095, 'GBP': 0.5681924425, 'RON': 3.0203869627, 'SEK': 6.4256590053, 'IDR': 10856.7263991689, 'INR': 51.1436826386, 'BRL': 2.5992728217, 'RUB': 46.0237631476, 'HRK': 4.8304116349, 'JPY': 87.2029606545, 'THB': 25.3278794962, 'CHF': 0.7502272432, 'EUR': 0.649266329, 'MYR': 3.1283599533, 'BGN': 1.2698350864, 'TRY': 3.0321386833, 'CNY': 5.0349954551, 'NOK': 6.2887936632, 'NZD': 1.1015452539, 'ZAR': 9.6095961563, 'USD': 0.7954811063, 'MXN': 14.9291001169, 'SGD': 1.0575249968, 'AUD': 1.0189585768, 'ILS': 2.7803532009, 'KRW': 867.0107778211, 'PLN': 2.707115959}, '2018-03-13': {'CAD': 1.0, 'HKD': 6.1064191315, 'ISK': 77.4701069855, 'PHP': 40.4600377596, 'DKK': 4.6876022656, 'HUF': 196.2932662052, 'CZK': 16.0295783512, 'GBP': 0.5578980491, 'RON': 2.9338577722, 'SEK': 6.3919446193, 'IDR': 10682.1585903084, 'INR': 50.5248584015, 'BRL': 2.5262429201, 'RUB': 44.2445563247, 'HRK': 4.6829452486, 'JPY': 83.2662051605, 'THB': 24.3121460038, 'CHF': 0.7356828194, 'EUR': 0.6293266205, 'MYR': 3.0328508496, 'BGN': 1.2308370044, 'TRY': 3.0095657646, 'CNY': 4.9254247955, 'NOK': 6.0294524858, 'NZD': 1.0599118943, 'ZAR': 9.1747640025, 'USD': 0.7789804909, 'MXN': 14.422907489, 'SGD': 1.0210195091, 'AUD': 0.986972939, 'ILS': 2.6780365009, 'KRW': 828.7224669604, 'PLN': 2.650660793}, '2018-03-14': {'CAD': 1.0, 'HKD': 6.0637779028, 'ISK': 76.971174889, 'PHP': 40.2238479335, 'DKK': 4.6578503095, 'HUF': 194.8539986244, 'CZK': 15.9113362096, 'GBP': 0.5541799537, 'RON': 2.9153379604, 'SEK': 6.3312074032, 'IDR': 10618.020383918, 'INR': 50.145376102, 'BRL': 2.5163509035, 'RUB': 44.0777215032, 'HRK': 4.6537860314, 'JPY': 82.3922966298, 'THB': 24.0761583193, 'CHF': 0.7318201713, 'EUR': 0.6252735572, 'MYR': 3.0139436003, 'BGN': 1.2229100231, 'TRY': 2.9965609954, 'CNY': 4.8826986807, 'NOK': 5.9856187082, 'NZD': 1.0537735259, 'ZAR': 9.0973550929, 'USD': 0.7734008629, 'MXN': 14.3678484337, 'SGD': 1.0125054711, 'AUD': 0.9781779529, 'ILS': 2.6532858125, 'KRW': 821.5906959295, 'PLN': 2.6275870693}, '2018-02-09': {'CAD': 1.0, 'HKD': 6.2025848142, 'ISK': 80.9046849758, 'PHP': 40.9201938611, 'DKK': 4.8101453958, 'HUF': 201.6672051696, 'CZK': 16.3715670436, 'GBP': 0.5734410339, 'RON': 3.008917609, 'SEK': 6.426365105, 'IDR': 10832.7560581583, 'INR': 51.0529886914, 'BRL': 2.6005815832, 'RUB': 46.2071082391, 'HRK': 4.8100161551, 'JPY': 86.3263327948, 'THB': 25.2200323102, 'CHF': 0.7431340872, 'EUR': 0.6462035541, 'MYR': 3.140549273, 'BGN': 1.2638449111, 'TRY': 3.0352180937, 'CNY': 4.9991599354, 'NOK': 6.3316962843, 'NZD': 1.0954442649, 'ZAR': 9.6129886914, 'USD': 0.793085622, 'MXN': 14.922907916, 'SGD': 1.0546688207, 'AUD': 1.0158966074, 'ILS': 2.7963166397, 'KRW': 863.450726979, 'PLN': 2.7077867528}, '2018-03-06': {'CAD': 1.0, 'HKD': 6.0787844682, 'ISK': 77.3463390233, 'PHP': 40.2426061402, 'DKK': 4.6579128369, 'HUF': 195.779403489, 'CZK': 15.8694428813, 'GBP': 0.5575251673, 'RON': 2.9136497218, 'SEK': 6.3674732696, 'IDR': 10648.6400300131, 'INR': 50.3873569687, 'BRL': 2.4965297318, 'RUB': 43.6878009129, 'HRK': 4.644219346, 'JPY': 82.4360657788, 'THB': 24.3050084412, 'CHF': 0.7269430376, 'EUR': 0.6252735572, 'MYR': 3.021446883, 'BGN': 1.2229100231, 'TRY': 2.9395985744, 'CNY': 4.9107734634, 'NOK': 6.0107547052, 'NZD': 1.0620271369, 'ZAR': 9.0945413618, 'USD': 0.7760270118, 'MXN': 14.4850872257, 'SGD': 1.0207590821, 'AUD': 0.9904333146, 'ILS': 2.6827361971, 'KRW': 823.4352529232, 'PLN': 2.6145813794}, '2018-02-28': {'CAD': 1.0, 'HKD': 6.1247437212, 'ISK': 79.2542286007, 'PHP': 40.7746027678, 'DKK': 4.7709507945, 'HUF': 201.1340338288, 'CZK': 16.2852383393, 'GBP': 0.5664723219, 'RON': 2.9875704767, 'SEK': 6.4661071246, 'IDR': 10759.2452588416, 'INR': 51.0142234751, 'BRL': 2.5381214762, 'RUB': 44.0504869298, 'HRK': 4.7735135828, 'JPY': 83.7519220912, 'THB': 24.5957201435, 'CHF': 0.7380830343, 'EUR': 0.6406970784, 'MYR': 3.0708610969, 'BGN': 1.253075346, 'TRY': 2.976101999, 'CNY': 4.9516273706, 'NOK': 6.1604946181, 'NZD': 1.0830984111, 'ZAR': 9.2053434136, 'USD': 0.7825474116, 'MXN': 14.6999615582, 'SGD': 1.0354946181, 'AUD': 1.0018580215, 'ILS': 2.723475141, 'KRW': 845.8803177858, 'PLN': 2.6768964634}, '2018-04-16': {'CAD': 1.0, 'HKD': 6.2262118492, 'ISK': 78.2251859451, 'PHP': 41.2843036676, 'DKK': 4.7751346499, 'HUF': 198.9612721211, 'CZK': 16.1996665812, 'GBP': 0.5544049756, 'RON': 2.9820466786, 'SEK': 6.671261862, 'IDR': 10925.8656065658, 'INR': 51.947614773, 'BRL': 2.7122339061, 'RUB': 49.3344447294, 'HRK': 4.7530135932, 'JPY': 85.1308027699, 'THB': 24.7781482431, 'CHF': 0.7616055399, 'EUR': 0.6411900487, 'MYR': 3.0813670172, 'BGN': 1.2540394973, 'TRY': 3.2582713516, 'CNY': 4.9837137728, 'NOK': 6.1522185176, 'NZD': 1.0805975891, 'ZAR': 9.5836753014, 'USD': 0.7931520903, 'MXN': 14.3241215696, 'SGD': 1.040074378, 'AUD': 1.0212875096, 'ILS': 2.7780841241, 'KRW': 851.7119774301, 'PLN': 2.6690818159}, '2018-02-06': {'CAD': 1.0, 'HKD': 6.2243672521, 'ISK': 80.7076446281, 'PHP': 41.027892562, 'DKK': 4.8055914256, 'HUF': 200.5746384298, 'CZK': 16.2919679752, 'GBP': 0.5738959194, 'RON': 2.9987732438, 'SEK': 6.3717071281, 'IDR': 10806.1854338843, 'INR': 51.1631585744, 'BRL': 2.6072443182, 'RUB': 45.6550878099, 'HRK': 4.8010072314, 'JPY': 87.1448863636, 'THB': 25.1426911157, 'CHF': 0.7470945248, 'EUR': 0.645661157, 'MYR': 3.1164772727, 'BGN': 1.2627840909, 'TRY': 3.0118155992, 'CNY': 5.0003873967, 'NOK': 6.2632360537, 'NZD': 1.0947184917, 'ZAR': 9.6022081612, 'USD': 0.7960356405, 'MXN': 14.9741735537, 'SGD': 1.0533316116, 'AUD': 1.0154958678, 'ILS': 2.7744059917, 'KRW': 865.114927686, 'PLN': 2.6887913223}, '2018-03-12': {'CAD': 1.0, 'HKD': 6.1112026359, 'ISK': 78.0002534533, 'PHP': 40.5968825244, 'DKK': 4.7203142821, 'HUF': 197.623875301, 'CZK': 16.1246990242, 'GBP': 0.5613356989, 'RON': 2.9538714992, 'SEK': 6.4353694082, 'IDR': 10732.0935242682, 'INR': 50.6770371309, 'BRL': 2.5400456216, 'RUB': 44.3848688379, 'HRK': 4.7173995691, 'JPY': 83.0313014827, 'THB': 24.4214928399, 'CHF': 0.7401470029, 'EUR': 0.6336332531, 'MYR': 3.0435306045, 'BGN': 1.2392599164, 'TRY': 2.9915093144, 'CNY': 4.9351159549, 'NOK': 6.060385249, 'NZD': 1.0679254847, 'ZAR': 9.2360283868, 'USD': 0.7794956279, 'MXN': 14.5619059688, 'SGD': 1.0247116969, 'AUD': 0.9910657711, 'ILS': 2.6848308199, 'KRW': 831.4282093524, 'PLN': 2.6620833861}, '2018-01-19': {'CAD': 1.0, 'HKD': 6.2845336482, 'USD': 0.8038173947, 'PHP': 40.7569198478, 'DKK': 4.883510429, 'HUF': 202.8072937164, 'CZK': 16.6817525908, 'GBP': 0.5795946478, 'RON': 3.0561458743, 'SEK': 6.4497573134, 'IDR': 10701.6200970746, 'INR': 51.3177226814, 'BRL': 2.5785123967, 'RUB': 45.4757969303, 'HRK': 4.8768201495, 'JPY': 88.9020070838, 'THB': 25.6257378985, 'CHF': 0.7712186803, 'EUR': 0.6559097468, 'MYR': 3.1654204381, 'BGN': 1.2828282828, 'TRY': 3.0537190083, 'CNY': 5.147645284, 'NOK': 6.3126721763, 'NZD': 1.1039616949, 'ZAR': 9.8093270366, 'MXN': 14.9650400105, 'SGD': 1.0611307884, 'AUD': 1.0036730946, 'ILS': 2.7441296078, 'KRW': 857.2215663125, 'PLN': 2.7361930998}, '2018-03-26': {'CAD': 1.0, 'HKD': 6.0876414328, 'ISK': 76.2017878352, 'PHP': 40.5200975183, 'DKK': 4.6559979996, 'HUF': 195.4929049197, 'CZK': 15.9067325123, 'GBP': 0.5454022629, 'RON': 2.9126086141, 'SEK': 6.3679439895, 'IDR': 10655.2916171782, 'INR': 50.3284990936, 'BRL': 2.5587297618, 'RUB': 44.1893480028, 'HRK': 4.6521222729, 'JPY': 81.5590423204, 'THB': 24.1670313184, 'CHF': 0.7338250922, 'EUR': 0.6251172095, 'MYR': 3.0271300869, 'BGN': 1.2226042383, 'TRY': 3.092079765, 'CNY': 4.8711633431, 'NOK': 5.976933175, 'NZD': 1.064512096, 'ZAR': 9.060261299, 'USD': 0.7758329687, 'MXN': 14.3012439832, 'SGD': 1.0173157467, 'AUD': 1.0031880978, 'ILS': 2.7078202163, 'KRW': 835.7754578984, 'PLN': 2.6442457961}, '2018-01-12': {'CAD': 1.0, 'HKD': 6.2499670923, 'USD': 0.7988021587, 'PHP': 40.2422008688, 'DKK': 4.9023956825, 'HUF': 203.1986310386, 'CZK': 16.7967618797, 'GBP': 0.5856456496, 'RON': 3.0514018692, 'SEK': 6.4729498486, 'IDR': 10648.7495063841, 'INR': 50.8039357641, 'BRL': 2.5641042517, 'RUB': 45.2200868764, 'HRK': 4.9002237725, 'JPY': 88.7718836383, 'THB': 25.5377122548, 'CHF': 0.77576675, 'EUR': 0.6581545347, 'MYR': 3.1759247071, 'BGN': 1.2872186389, 'TRY': 3.0003290773, 'CNY': 5.1610504146, 'NOK': 6.3571146505, 'NZD': 1.1008292747, 'ZAR': 9.9039752534, 'MXN': 15.2662893247, 'SGD': 1.0598262472, 'AUD': 1.0146768461, 'ILS': 2.7163353956, 'KRW': 848.7165986574, 'PLN': 2.7459523496}, '2018-04-20': {'CAD': 1.0, 'HKD': 6.2073664588, 'ISK': 79.2569261426, 'PHP': 41.2540978338, 'DKK': 4.787362602, 'HUF': 199.6014655782, 'CZK': 16.2884874976, 'GBP': 0.563141994, 'RON': 2.9945362216, 'SEK': 6.6660024426, 'IDR': 11019.3096355338, 'INR': 52.3172848236, 'BRL': 2.6928070965, 'RUB': 48.6838722119, 'HRK': 4.7637719355, 'JPY': 85.1128109533, 'THB': 24.7811274667, 'CHF': 0.7694285531, 'EUR': 0.6427974545, 'MYR': 3.0805425211, 'BGN': 1.2571832616, 'TRY': 3.2013241628, 'CNY': 4.9784020055, 'NOK': 6.1740695507, 'NZD': 1.0948126245, 'ZAR': 9.5139165649, 'USD': 0.7912193868, 'MXN': 14.6187568297, 'SGD': 1.0395320435, 'AUD': 1.0273831716, 'ILS': 2.7919907437, 'KRW': 846.0885774892, 'PLN': 2.6789869512}, '2018-04-03': {'CAD': 1.0, 'HKD': 6.107093185, 'ISK': 76.8112277153, 'PHP': 40.4817296751, 'DKK': 4.7093184979, 'HUF': 197.3953723606, 'CZK': 16.0367935264, 'GBP': 0.5533126818, 'RON': 2.9466430649, 'SEK': 6.5095460867, 'IDR': 10706.7581236566, 'INR': 50.5841446453, 'BRL': 2.5756732836, 'RUB': 44.8119231256, 'HRK': 4.6984448097, 'JPY': 82.6653179922, 'THB': 24.2609685169, 'CHF': 0.7444051081, 'EUR': 0.6321911746, 'MYR': 3.0156783411, 'BGN': 1.2364394993, 'TRY': 3.0956505247, 'CNY': 4.8900619547, 'NOK': 6.090403338, 'NZD': 1.0724491086, 'ZAR': 9.1994563156, 'USD': 0.7781008977, 'MXN': 14.1570362878, 'SGD': 1.0187128588, 'AUD': 1.0111265647, 'ILS': 2.7437096978, 'KRW': 820.5019597926, 'PLN': 2.6607029966}, '2018-03-19': {'CAD': 1.0, 'HKD': 5.9942253958, 'ISK': 76.0633343682, 'PHP': 39.8472524061, 'DKK': 4.6248990997, 'HUF': 193.0953120149, 'CZK': 15.79136914, 'GBP': 0.5438869916, 'RON': 2.8982924558, 'SEK': 6.2612853151, 'IDR': 10529.7174790438, 'INR': 49.8264514126, 'BRL': 2.5189071717, 'RUB': 44.3130083825, 'HRK': 4.6131636138, 'JPY': 81.1238745731, 'THB': 23.8534616579, 'CHF': 0.7275380317, 'EUR': 0.6209251785, 'MYR': 2.9918658802, 'BGN': 1.2144054641, 'TRY': 3.0167028873, 'CNY': 4.8397392114, 'NOK': 5.9115181621, 'NZD': 1.0596709097, 'ZAR': 9.2465693884, 'USD': 0.7642968022, 'MXN': 14.3974542068, 'SGD': 1.0073269171, 'AUD': 0.9931077305, 'ILS': 2.6501086619, 'KRW': 820.3415088482, 'PLN': 2.6185035703}, '2018-04-19': {'CAD': 1.0, 'HKD': 6.2272202999, 'ISK': 79.0080738178, 'PHP': 41.2866846085, 'DKK': 4.7723952326, 'HUF': 198.8786364219, 'CZK': 16.2290144816, 'GBP': 0.5573176983, 'RON': 2.9841086762, 'SEK': 6.649878252, 'IDR': 10938.5813148789, 'INR': 52.1965910547, 'BRL': 2.6864667436, 'RUB': 48.2426630783, 'HRK': 4.7494553377, 'JPY': 85.1467384339, 'THB': 24.7622709214, 'CHF': 0.7673971549, 'EUR': 0.6407791875, 'MYR': 3.0811867231, 'BGN': 1.2532359349, 'TRY': 3.1935153146, 'CNY': 4.9799436114, 'NOK': 6.1402665641, 'NZD': 1.0853517878, 'ZAR': 9.4715494041, 'USD': 0.79341279, 'MXN': 14.3962578495, 'SGD': 1.0385749071, 'AUD': 1.0183262848, 'ILS': 2.7833525567, 'KRW': 842.2273484557, 'PLN': 2.6697424068}, '2018-02-05': {'CAD': 1.0, 'HKD': 6.2896302043, 'ISK': 80.8119989656, 'PHP': 41.485001293, 'DKK': 4.8120636152, 'HUF': 200.155159038, 'CZK': 16.2891130075, 'GBP': 0.57258857, 'RON': 2.9954098785, 'SEK': 6.3575122834, 'IDR': 10853.2324799586, 'INR': 51.5538531161, 'BRL': 2.5972329972, 'RUB': 45.5769976726, 'HRK': 4.8054047065, 'JPY': 88.356607189, 'THB': 25.3575122834, 'CHF': 0.7498707008, 'EUR': 0.6464959917, 'MYR': 3.139190587, 'BGN': 1.2644168606, 'TRY': 3.0239203517, 'CNY': 5.058701836, 'NOK': 6.2133436773, 'NZD': 1.1006594259, 'ZAR': 9.6738427722, 'USD': 0.8042410137, 'MXN': 14.9498965606, 'SGD': 1.0594129816, 'AUD': 1.0126713214, 'ILS': 2.7677786398, 'KRW': 874.4763382467, 'PLN': 2.6884535816}, '2018-04-25': {'CAD': 1.0, 'HKD': 6.0892129394, 'ISK': 78.3239938869, 'PHP': 40.6093988793, 'DKK': 4.7433138054, 'HUF': 199.4396332145, 'CZK': 16.2162506368, 'GBP': 0.5564187468, 'RON': 2.9580361691, 'SEK': 6.6365257259, 'IDR': 10800.7641365257, 'INR': 51.9673331635, 'BRL': 2.7193708609, 'RUB': 48.2089276617, 'HRK': 4.7239556801, 'JPY': 84.7109016811, 'THB': 24.5071319409, 'CHF': 0.7632450331, 'EUR': 0.6367804381, 'MYR': 3.0382068263, 'BGN': 1.2454151808, 'TRY': 3.1844116149, 'CNY': 4.9062659195, 'NOK': 6.1799541518, 'NZD': 1.0973000509, 'ZAR': 9.7054890474, 'USD': 0.7759169638, 'MXN': 14.7856597045, 'SGD': 1.0315206317, 'AUD': 1.0263627101, 'ILS': 2.7875700458, 'KRW': 840.9386143658, 'PLN': 2.6898242486}, '2018-01-09': {'CAD': 1.0, 'HKD': 6.2945501147, 'USD': 0.8048023742, 'PHP': 40.465398624, 'DKK': 5.0228652367, 'HUF': 208.6604613517, 'CZK': 17.2231215432, 'GBP': 0.5953729934, 'RON': 3.1384055038, 'SEK': 6.6294347767, 'IDR': 10818.1505463375, 'INR': 51.2757992715, 'BRL': 2.6015783084, 'RUB': 45.9014569, 'HRK': 5.0232699312, 'JPY': 90.5908539053, 'THB': 25.9550789154, 'CHF': 0.7909753136, 'EUR': 0.6744907595, 'MYR': 3.2268312424, 'BGN': 1.3191690274, 'TRY': 3.0246189127, 'CNY': 5.2519222987, 'NOK': 6.5233373803, 'NZD': 1.1197221098, 'ZAR': 9.9379468501, 'MXN': 15.4668150546, 'SGD': 1.074598678, 'AUD': 1.0280588156, 'ILS': 2.7718872251, 'KRW': 859.8475650884, 'PLN': 2.8190341292}, '2018-01-24': {'CAD': 1.0, 'HKD': 6.3402718498, 'USD': 0.8110841158, 'PHP': 41.2305469827, 'DKK': 4.8887648565, 'HUF': 202.9089237639, 'CZK': 16.6616324118, 'GBP': 0.5724801366, 'RON': 3.0631032898, 'SEK': 6.4563004793, 'IDR': 10802.0158907348, 'INR': 51.659990807, 'BRL': 2.5895987918, 'RUB': 45.6842208943, 'HRK': 4.8804911682, 'JPY': 88.7320244271, 'THB': 25.6300479349, 'CHF': 0.7705693086, 'EUR': 0.6566419332, 'MYR': 3.170858231, 'BGN': 1.2842602929, 'TRY': 3.0378225753, 'CNY': 5.1690196336, 'NOK': 6.3218202114, 'NZD': 1.0950817519, 'ZAR': 9.7053647646, 'MXN': 15.0400551579, 'SGD': 1.062512312, 'AUD': 1.0053187997, 'ILS': 2.7655788299, 'KRW': 863.7008339353, 'PLN': 2.7292008668}, '2018-02-13': {'CAD': 1.0, 'HKD': 6.2060602162, 'ISK': 80.6742151312, 'PHP': 41.3567936181, 'DKK': 4.7920741122, 'HUF': 200.8234688626, 'CZK': 16.3317035512, 'GBP': 0.5721500257, 'RON': 2.9970406588, 'SEK': 6.3939783839, 'IDR': 10822.3172928461, 'INR': 50.9990993309, 'BRL': 2.6146423057, 'RUB': 45.8413535769, 'HRK': 4.7836464231, 'JPY': 85.447761194, 'THB': 25.000643335, 'CHF': 0.7412506433, 'EUR': 0.6433350489, 'MYR': 3.131626351, 'BGN': 1.2582346886, 'TRY': 3.0149897066, 'CNY': 5.0337107566, 'NOK': 6.2672413793, 'NZD': 1.0898739063, 'ZAR': 9.5072053525, 'USD': 0.7934251158, 'MXN': 14.7824240865, 'SGD': 1.0495367988, 'AUD': 1.0110010293, 'ILS': 2.8032038085, 'KRW': 860.9366958312, 'PLN': 2.6879181678}, '2018-01-08': {'CAD': 1.0, 'HKD': 6.2940860215, 'USD': 0.8046370968, 'PHP': 40.3864247312, 'DKK': 5.0045026882, 'HUF': 207.5537634409, 'CZK': 17.1532258065, 'GBP': 0.5941733871, 'RON': 3.1052419355, 'SEK': 6.5971102151, 'IDR': 10809.6975806452, 'INR': 51.1004704301, 'BRL': 2.6092069892, 'RUB': 45.9525537634, 'HRK': 5.001344086, 'JPY': 90.9543010753, 'THB': 25.9173387097, 'CHF': 0.7868951613, 'EUR': 0.6720430108, 'MYR': 3.2210349462, 'BGN': 1.3143817204, 'TRY': 3.0165994624, 'CNY': 5.2295698925, 'NOK': 6.504233871, 'NZD': 1.1224462366, 'ZAR': 10.0083333333, 'MXN': 15.5120295699, 'SGD': 1.072311828, 'AUD': 1.0274865591, 'ILS': 2.7692876344, 'KRW': 858.7836021505, 'PLN': 2.7999327957}, '2018-03-15': {'CAD': 1.0, 'HKD': 6.0388767551, 'ISK': 76.8174726989, 'PHP': 40.0786271451, 'DKK': 4.648174727, 'HUF': 194.1154446178, 'CZK': 15.8602184087, 'GBP': 0.5521372855, 'RON': 2.9112636505, 'SEK': 6.2990951638, 'IDR': 10594.3900156006, 'INR': 50.0187207488, 'BRL': 2.5322308892, 'RUB': 44.0775663027, 'HRK': 4.6451170047, 'JPY': 81.6848673947, 'THB': 24.000624025, 'CHF': 0.7294227769, 'EUR': 0.624024961, 'MYR': 3.015351014, 'BGN': 1.2204680187, 'TRY': 3.0013728549, 'CNY': 4.8652730109, 'NOK': 5.9331045242, 'NZD': 1.0555382215, 'ZAR': 9.1308580343, 'USD': 0.7701092044, 'MXN': 14.392698908, 'SGD': 1.0097971919, 'AUD': 0.9819032761, 'ILS': 2.6466146646, 'KRW': 820.3494539782, 'PLN': 2.6285179407}, '2018-02-12': {'CAD': 1.0, 'HKD': 6.2158553186, 'ISK': 81.2860569132, 'PHP': 41.3106890517, 'DKK': 4.8264730667, 'HUF': 202.223374603, 'CZK': 16.4374149219, 'GBP': 0.5743177546, 'RON': 3.0157516043, 'SEK': 6.4299604589, 'IDR': 10839.9235107279, 'INR': 51.140208725, 'BRL': 2.6197575679, 'RUB': 46.0783690931, 'HRK': 4.8308161016, 'JPY': 86.361573864, 'THB': 25.1986776431, 'CHF': 0.7456407597, 'EUR': 0.64821417, 'MYR': 3.1352822973, 'BGN': 1.2677772736, 'TRY': 3.02378946, 'CNY': 5.0304012446, 'NOK': 6.3184676217, 'NZD': 1.0966487327, 'ZAR': 9.5106631231, 'USD': 0.7949050366, 'MXN': 14.8028780709, 'SGD': 1.0537369547, 'AUD': 1.0141310689, 'ILS': 2.8015168212, 'KRW': 861.0228819602, 'PLN': 2.7061645168}, '2018-03-23': {'CAD': 1.0, 'HKD': 6.1059364759, 'ISK': 76.9473153517, 'PHP': 40.7360725989, 'DKK': 4.6935971767, 'HUF': 197.1893118225, 'CZK': 16.0102092261, 'GBP': 0.5500693219, 'RON': 2.9386186035, 'SEK': 6.4244391228, 'IDR': 10708.9929417696, 'INR': 50.5766322158, 'BRL': 2.5665490295, 'RUB': 44.4534913033, 'HRK': 4.6885555836, 'JPY': 81.7620368036, 'THB': 24.2595160071, 'CHF': 0.737522057, 'EUR': 0.6301991429, 'MYR': 3.0479581548, 'BGN': 1.2325434837, 'TRY': 3.0804134106, 'CNY': 4.913977817, 'NOK': 6.0319510965, 'NZD': 1.0728510209, 'ZAR': 9.150743635, 'USD': 0.7780438619, 'MXN': 14.4192084699, 'SGD': 1.0219309302, 'AUD': 1.0069321906, 'ILS': 2.708847996, 'KRW': 838.3539198387, 'PLN': 2.6633476178}, '2018-02-02': {'CAD': 1.0, 'HKD': 6.3489959056, 'ISK': 81.3673880549, 'PHP': 41.9120036394, 'DKK': 4.837135244, 'HUF': 201.1373237148, 'CZK': 16.3722622993, 'GBP': 0.5709365048, 'RON': 3.0193020082, 'SEK': 6.3835055566, 'IDR': 10932.4689673101, 'INR': 52.0052641841, 'BRL': 2.599142133, 'RUB': 45.6838889972, 'HRK': 4.8319360499, 'JPY': 89.1791772275, 'THB': 25.4922986937, 'CHF': 0.7536231884, 'EUR': 0.6498992656, 'MYR': 3.1556508741, 'BGN': 1.2710729837, 'TRY': 3.0412036134, 'CNY': 5.1049587314, 'NOK': 6.2171313446, 'NZD': 1.1022291545, 'ZAR': 9.7211932151, 'USD': 0.8118541626, 'MXN': 14.984077468, 'SGD': 1.0664197049, 'AUD': 1.0157925522, 'ILS': 2.7878728797, 'KRW': 880.7239877819, 'PLN': 2.6997465393}, '2018-03-20': {'CAD': 1.0, 'HKD': 6.0034289277, 'ISK': 76.3715710723, 'PHP': 39.8541147132, 'DKK': 4.6437032419, 'HUF': 193.9713216958, 'CZK': 15.8497506234, 'GBP': 0.5468516209, 'RON': 2.9091645885, 'SEK': 6.2695137157, 'IDR': 10531.8017456359, 'INR': 49.8983790524, 'BRL': 2.5193266833, 'RUB': 44.1687032419, 'HRK': 4.6398379052, 'JPY': 81.4962593516, 'THB': 23.8784289277, 'CHF': 0.7307356608, 'EUR': 0.6234413965, 'MYR': 2.99819202, 'BGN': 1.2193266833, 'TRY': 3.0073566085, 'CNY': 4.846882793, 'NOK': 5.9141521197, 'NZD': 1.0622817955, 'ZAR': 9.1513715711, 'USD': 0.7653366584, 'MXN': 14.3445137157, 'SGD': 1.0083541147, 'AUD': 0.9933915212, 'ILS': 2.6646508728, 'KRW': 819.7817955112, 'PLN': 2.635723192}, '2018-04-23': {'CAD': 1.0, 'HKD': 6.1329158413, 'ISK': 78.7270752125, 'PHP': 40.9438302767, 'DKK': 4.7592178414, 'HUF': 198.9775704518, 'CZK': 16.2361812256, 'GBP': 0.560035785, 'RON': 2.9763563167, 'SEK': 6.6306473257, 'IDR': 10901.5080835836, 'INR': 51.9422966324, 'BRL': 2.682663429, 'RUB': 48.3434724264, 'HRK': 4.738513643, 'JPY': 84.5932647454, 'THB': 24.6258546872, 'CHF': 0.7630519522, 'EUR': 0.6390184676, 'MYR': 3.0440283724, 'BGN': 1.249792319, 'TRY': 3.2001405841, 'CNY': 4.9337337849, 'NOK': 6.1510639657, 'NZD': 1.089654291, 'ZAR': 9.5597162758, 'USD': 0.7820308007, 'MXN': 14.6335229088, 'SGD': 1.0344430954, 'AUD': 1.0230685667, 'ILS': 2.7674611796, 'KRW': 842.4372164356, 'PLN': 2.6770400665}, '2018-03-27': {'CAD': 1.0, 'HKD': 6.0889710954, 'ISK': 76.3057244968, 'PHP': 40.7266913286, 'DKK': 4.670449558, 'HUF': 196.1564988401, 'CZK': 15.9715342655, 'GBP': 0.5513825318, 'RON': 2.9191798859, 'SEK': 6.4051664681, 'IDR': 10661.8722176939, 'INR': 50.4188350367, 'BRL': 2.57389178, 'RUB': 44.4040378707, 'HRK': 4.6653708696, 'JPY': 82.1618910277, 'THB': 24.233494263, 'CHF': 0.7376011035, 'EUR': 0.6269985579, 'MYR': 3.0077747821, 'BGN': 1.2262837795, 'TRY': 3.0991911719, 'CNY': 4.8736597906, 'NOK': 5.9942943131, 'NZD': 1.0684682425, 'ZAR': 9.0662737476, 'USD': 0.7759734153, 'MXN': 14.2896106339, 'SGD': 1.0162392626, 'AUD': 1.0075866826, 'ILS': 2.7093861684, 'KRW': 833.1933036554, 'PLN': 2.6456831149}, '2018-03-22': {'CAD': 1.0, 'HKD': 6.082258166, 'ISK': 77.2232362011, 'PHP': 40.6218138335, 'DKK': 4.6877714142, 'HUF': 196.1482786834, 'CZK': 15.9852728303, 'GBP': 0.548807351, 'RON': 2.9375668702, 'SEK': 6.3691862295, 'IDR': 10659.9408395746, 'INR': 50.4644722764, 'BRL': 2.5593807036, 'RUB': 44.2570331676, 'HRK': 4.6846875197, 'JPY': 81.66026811, 'THB': 24.2381521808, 'CHF': 0.7345333249, 'EUR': 0.6293662282, 'MYR': 3.0329158537, 'BGN': 1.2309144691, 'TRY': 3.0443703191, 'CNY': 4.910063566, 'NOK': 5.9983636478, 'NZD': 1.0718736233, 'ZAR': 9.1713764239, 'USD': 0.7751274467, 'MXN': 14.3347598968, 'SGD': 1.0200138461, 'AUD': 1.0053496129, 'ILS': 2.7036943798, 'KRW': 837.3843539556, 'PLN': 2.6569954056}, '2018-02-15': {'CAD': 1.0, 'HKD': 6.2626890541, 'ISK': 80.1076647014, 'PHP': 41.7489105358, 'DKK': 4.7739682133, 'HUF': 199.743655473, 'CZK': 16.2586516278, 'GBP': 0.5681876442, 'RON': 2.9876954627, 'SEK': 6.3560625481, 'IDR': 10828.5375544732, 'INR': 51.1721353499, 'BRL': 2.5797231479, 'RUB': 45.3791976416, 'HRK': 4.7669187388, 'JPY': 85.3050499872, 'THB': 25.0756216355, 'CHF': 0.7398743912, 'EUR': 0.6408613176, 'MYR': 3.1180466547, 'BGN': 1.253396565, 'TRY': 3.0149961548, 'CNY': 5.0795308895, 'NOK': 6.2387849269, 'NZD': 1.0836324019, 'ZAR': 9.3313893873, 'USD': 0.8006280441, 'MXN': 14.8205588311, 'SGD': 1.0500512689, 'AUD': 1.0098051782, 'ILS': 2.8215842092, 'KRW': 852.8261984107, 'PLN': 2.6616252243}, '2018-04-27': {'CAD': 1.0, 'HKD': 6.0924175188, 'ISK': 78.8475143096, 'PHP': 40.1260531224, 'DKK': 4.7913692199, 'HUF': 201.1962184063, 'CZK': 16.3811177568, 'GBP': 0.5640234099, 'RON': 2.9979419898, 'SEK': 6.7642935237, 'IDR': 10755.2189851437, 'INR': 51.7489870731, 'BRL': 2.7006238343, 'RUB': 48.5031191717, 'HRK': 4.7716894977, 'JPY': 84.86076275, 'THB': 24.5141166635, 'CHF': 0.7691812978, 'EUR': 0.6431281754, 'MYR': 3.0375586854, 'BGN': 1.2578300855, 'TRY': 3.1437391472, 'CNY': 4.9210238601, 'NOK': 6.2119750466, 'NZD': 1.1007781851, 'ZAR': 9.6235770789, 'USD': 0.7762557078, 'MXN': 14.5944433726, 'SGD': 1.0293266448, 'AUD': 1.0273972603, 'ILS': 2.7896327738, 'KRW': 830.8058396038, 'PLN': 2.7114927005}, '2018-04-09': {'CAD': 1.0, 'HKD': 6.1411674933, 'ISK': 77.1334096401, 'PHP': 40.6962991225, 'DKK': 4.7354063335, 'HUF': 198.4611471449, 'CZK': 16.1242528297, 'GBP': 0.5537835432, 'RON': 2.9654076052, 'SEK': 6.5471194201, 'IDR': 10783.5622535928, 'INR': 50.8422357879, 'BRL': 2.6383059901, 'RUB': 47.1276866336, 'HRK': 4.7259315783, 'JPY': 83.7212259952, 'THB': 24.465852728, 'CHF': 0.7497138497, 'EUR': 0.6358896096, 'MYR': 3.0294416889, 'BGN': 1.2436728984, 'TRY': 3.1805926491, 'CNY': 4.9399720209, 'NOK': 6.0971003434, 'NZD': 1.0728093603, 'ZAR': 9.4850565942, 'USD': 0.7823985756, 'MXN': 14.3637288567, 'SGD': 1.0274704311, 'AUD': 1.0206028233, 'ILS': 2.7595701386, 'KRW': 837.2694900165, 'PLN': 2.66768409}, '2018-04-11': {'CAD': 1.0, 'HKD': 6.221568, 'ISK': 77.824, 'PHP': 41.20256, 'DKK': 4.764736, 'HUF': 199.5136, 'CZK': 16.20672, 'GBP': 0.559104, 'RON': 2.984128, 'SEK': 6.583232, 'IDR': 10909.8112, 'INR': 51.75904, 'BRL': 2.709312, 'RUB': 51.2048, 'HRK': 4.75264, 'JPY': 84.6464, 'THB': 24.70464, 'CHF': 0.75872, 'EUR': 0.64, 'MYR': 3.070848, 'BGN': 1.251712, 'TRY': 3.317248, 'CNY': 4.98016, 'NOK': 6.157632, 'NZD': 1.075968, 'ZAR': 9.579392, 'USD': 0.792576, 'MXN': 14.497728, 'SGD': 1.037056, 'AUD': 1.02272, 'ILS': 2.787136, 'KRW': 847.7504, 'PLN': 2.68256}, '2018-03-07': {'CAD': 1.0, 'HKD': 6.0597284504, 'ISK': 77.0428500249, 'PHP': 40.216118585, 'DKK': 4.6401345291, 'HUF': 194.1579471849, 'CZK': 15.8327105132, 'GBP': 0.5575049826, 'RON': 2.9026532138, 'SEK': 6.3766193323, 'IDR': 10639.0570503239, 'INR': 50.1856003986, 'BRL': 2.4971350274, 'RUB': 43.9739661186, 'HRK': 4.6263079223, 'JPY': 81.8447932237, 'THB': 24.2140009965, 'CHF': 0.7270179372, 'EUR': 0.6228201295, 'MYR': 3.0189337319, 'BGN': 1.2181116094, 'TRY': 2.9367214748, 'CNY': 4.8881415047, 'NOK': 6.0273418037, 'NZD': 1.062717987, 'ZAR': 9.2062157449, 'USD': 0.7733557549, 'MXN': 14.5775411061, 'SGD': 1.0166292975, 'AUD': 0.9908445441, 'ILS': 2.6767563528, 'KRW': 826.9245142003, 'PLN': 2.6120453413}, '2018-02-22': {'CAD': 1.0, 'HKD': 6.1619731862, 'ISK': 79.4791198922, 'PHP': 40.9974982359, 'DKK': 4.7765732247, 'HUF': 200.5837449484, 'CZK': 16.2396561678, 'GBP': 0.5667008788, 'RON': 2.9864006671, 'SEK': 6.4124061838, 'IDR': 10797.1133491565, 'INR': 51.2473539034, 'BRL': 2.5754698826, 'RUB': 44.6937584194, 'HRK': 4.7754827122, 'JPY': 84.335108089, 'THB': 24.8643274104, 'CHF': 0.7382128424, 'EUR': 0.6414779652, 'MYR': 3.0862787863, 'BGN': 1.2546026044, 'TRY': 2.9923664122, 'CNY': 5.0089806915, 'NOK': 6.2154724485, 'NZD': 1.0751812175, 'ZAR': 9.2266983129, 'USD': 0.7874783501, 'MXN': 14.8008852396, 'SGD': 1.0412470332, 'AUD': 1.0070562576, 'ILS': 2.7541856437, 'KRW': 853.9739559946, 'PLN': 2.6825967028}, '2018-02-26': {'CAD': 1.0, 'HKD': 6.1719280271, 'ISK': 79.20855478, 'PHP': 40.9400012807, 'DKK': 4.7678171224, 'HUF': 200.8004098098, 'CZK': 16.258564385, 'GBP': 0.562335916, 'RON': 2.9855285906, 'SEK': 6.43113274, 'IDR': 10779.3110072357, 'INR': 51.1000832426, 'BRL': 2.5521547032, 'RUB': 44.1441377986, 'HRK': 4.7662803355, 'JPY': 84.2671447781, 'THB': 24.7076903375, 'CHF': 0.7382980086, 'EUR': 0.6403278479, 'MYR': 3.0841390792, 'BGN': 1.2523532048, 'TRY': 2.9825830825, 'CNY': 4.9768201319, 'NOK': 6.1665492732, 'NZD': 1.0787603253, 'ZAR': 9.1455465198, 'USD': 0.7888839086, 'MXN': 14.6747774861, 'SGD': 1.0390599987, 'AUD': 1.005955049, 'ILS': 2.7555868605, 'KRW': 845.3352116284, 'PLN': 2.6699750272}, '2018-01-30': {'CAD': 1.0, 'HKD': 6.3458572922, 'USD': 0.8116178777, 'PHP': 41.6577365395, 'DKK': 4.8624542603, 'HUF': 202.8097229482, 'CZK': 16.551228437, 'GBP': 0.5745556717, 'RON': 3.0392707789, 'SEK': 6.3921197073, 'IDR': 10866.7537898589, 'INR': 51.6577365395, 'BRL': 2.566649242, 'RUB': 45.470987977, 'HRK': 4.8476215369, 'JPY': 88.1991636174, 'THB': 25.4926816519, 'CHF': 0.7572530058, 'EUR': 0.6534239415, 'MYR': 3.1657083116, 'BGN': 1.2779665447, 'TRY': 3.060180345, 'CNY': 5.1336905384, 'NOK': 6.2485624673, 'NZD': 1.1067041296, 'ZAR': 9.6693021432, 'MXN': 15.1129769995, 'SGD': 1.0637741767, 'AUD': 1.0026790382, 'ILS': 2.7591479352, 'KRW': 868.5637741767, 'PLN': 2.7083768949}, '2018-02-01': {'CAD': 1.0, 'HKD': 6.3479932239, 'ISK': 81.4503518374, 'PHP': 41.9142559291, 'DKK': 4.8493614803, 'HUF': 202.019807141, 'CZK': 16.4627313005, 'GBP': 0.5702371645, 'RON': 3.0328381548, 'SEK': 6.3871514204, 'IDR': 10892.1683606985, 'INR': 51.9715923899, 'BRL': 2.5728433672, 'RUB': 45.6880375293, 'HRK': 4.8426505082, 'JPY': 89.0148553557, 'THB': 25.4567370341, 'CHF': 0.7559942664, 'EUR': 0.6515506906, 'MYR': 3.1691425593, 'BGN': 1.2743028408, 'TRY': 3.0412431587, 'CNY': 5.1114803232, 'NOK': 6.2356658848, 'NZD': 1.1039874902, 'ZAR': 9.6589132134, 'USD': 0.8117670055, 'MXN': 15.0710190253, 'SGD': 1.0654156893, 'AUD': 1.0142689601, 'ILS': 2.7830987751, 'KRW': 869.4683346364, 'PLN': 2.7067370341}, '2018-03-28': {'CAD': 1.0, 'HKD': 6.090835107, 'ISK': 76.0610992863, 'PHP': 40.6116188807, 'DKK': 4.6646425441, 'HUF': 195.6366595718, 'CZK': 15.9396519344, 'GBP': 0.5484224365, 'RON': 2.9125453863, 'SEK': 6.4354576186, 'IDR': 10678.5964692626, 'INR': 50.5825090773, 'BRL': 2.5831976963, 'RUB': 44.6508075623, 'HRK': 4.6593213973, 'JPY': 82.3838737949, 'THB': 24.2544134218, 'CHF': 0.7387629899, 'EUR': 0.6260172781, 'MYR': 2.9936146238, 'BGN': 1.2243645925, 'TRY': 3.1026042319, 'CNY': 4.8811193189, 'NOK': 6.0362464004, 'NZD': 1.0689245023, 'ZAR': 9.0790659822, 'USD': 0.7761362214, 'MXN': 14.255978465, 'SGD': 1.0150244147, 'AUD': 1.009891073, 'ILS': 2.7139727056, 'KRW': 827.2630524602, 'PLN': 2.6337798923}, '2018-03-16': {'CAD': 1.0, 'HKD': 5.9971405483, 'ISK': 76.2727668304, 'PHP': 39.7271088457, 'DKK': 4.6301982968, 'HUF': 193.3486666252, 'CZK': 15.7984708149, 'GBP': 0.548598247, 'RON': 2.9001678374, 'SEK': 6.265618201, 'IDR': 10521.9369677379, 'INR': 49.6469198732, 'BRL': 2.5153229316, 'RUB': 44.0696835954, 'HRK': 4.6191334618, 'JPY': 80.9411325915, 'THB': 23.8571517374, 'CHF': 0.7274196556, 'EUR': 0.6216199416, 'MYR': 2.9886865171, 'BGN': 1.2157642817, 'TRY': 2.9929135327, 'CNY': 4.8368247653, 'NOK': 5.8997948654, 'NZD': 1.0568782247, 'ZAR': 9.1315347796, 'USD': 0.7646546901, 'MXN': 14.3211910238, 'SGD': 1.0059053894, 'AUD': 0.9858892273, 'ILS': 2.6413252937, 'KRW': 816.4542798533, 'PLN': 2.6215577796}, '2018-02-23': {'CAD': 1.0, 'HKD': 6.1623542974, 'ISK': 79.3518637121, 'PHP': 40.8088894582, 'DKK': 4.769373639, 'HUF': 200.3842705265, 'CZK': 16.2271038811, 'GBP': 0.5632125016, 'RON': 2.9812988344, 'SEK': 6.4418470603, 'IDR': 10772.4542077623, 'INR': 51.0128730626, 'BRL': 2.5537978737, 'RUB': 44.4780325349, 'HRK': 4.7627129499, 'JPY': 84.0783911874, 'THB': 24.764954528, 'CHF': 0.7368387345, 'EUR': 0.6404508774, 'MYR': 3.0828102985, 'BGN': 1.2525938261, 'TRY': 2.9828999616, 'CNY': 4.9900089663, 'NOK': 6.1976431408, 'NZD': 1.0800563597, 'ZAR': 9.1097092353, 'USD': 0.7876905341, 'MXN': 14.6269373639, 'SGD': 1.0409888562, 'AUD': 1.0067887793, 'ILS': 2.7486870757, 'KRW': 848.1939285257, 'PLN': 2.6705520687}, '2018-03-29': {'CAD': 1.0, 'HKD': 6.0834224599, 'ISK': 76.4391318025, 'PHP': 40.4995281535, 'DKK': 4.6888958792, 'HUF': 196.3699276502, 'CZK': 15.9955960994, 'GBP': 0.5504246618, 'RON': 2.9295375904, 'SEK': 6.4701478452, 'IDR': 10653.6520918528, 'INR': 50.5165146272, 'BRL': 2.5755268953, 'RUB': 44.5987417427, 'HRK': 4.675872916, 'JPY': 82.5102233407, 'THB': 24.2076124567, 'CHF': 0.7410506449, 'EUR': 0.6291286568, 'MYR': 2.9983013526, 'BGN': 1.230449827, 'TRY': 3.0812205096, 'CNY': 4.8737338786, 'NOK': 6.088078012, 'NZD': 1.0756841774, 'ZAR': 9.1984900912, 'USD': 0.7751494181, 'MXN': 14.1710600818, 'SGD': 1.0165460837, 'AUD': 1.0088707141, 'ILS': 2.7217363951, 'KRW': 824.7184649261, 'PLN': 2.6490091224}, '2018-02-27': {'CAD': 1.0, 'HKD': 6.1527449351, 'ISK': 79.1845082124, 'PHP': 41.0851920496, 'DKK': 4.7587396945, 'HUF': 200.6582731514, 'CZK': 16.2318655333, 'GBP': 0.5649645299, 'RON': 2.9766089346, 'SEK': 6.4421294817, 'IDR': 10748.9550712597, 'INR': 51.0021090305, 'BRL': 2.5455997955, 'RUB': 43.9684923628, 'HRK': 4.7582284144, 'JPY': 84.2142263693, 'THB': 24.6775739758, 'CHF': 0.7374576596, 'EUR': 0.639100147, 'MYR': 3.0722822266, 'BGN': 1.2499520675, 'TRY': 2.9800600754, 'CNY': 4.9635712916, 'NOK': 6.1538953154, 'NZD': 1.0812296287, 'ZAR': 9.1634179076, 'USD': 0.7861570908, 'MXN': 14.7187959353, 'SGD': 1.0375790886, 'AUD': 1.0032594107, 'ILS': 2.7367546495, 'KRW': 842.6599348118, 'PLN': 2.6631303125}, '2018-02-19': {'CAD': 1.0, 'HKD': 6.2259492047, 'ISK': 79.9769112365, 'PHP': 41.7521806054, 'DKK': 4.7768086198, 'HUF': 199.5574653669, 'CZK': 16.2435864546, 'GBP': 0.5681759877, 'RON': 2.989545921, 'SEK': 6.3593509492, 'IDR': 10786.6726526424, 'INR': 51.1400076963, 'BRL': 2.5734992304, 'RUB': 44.9402898923, 'HRK': 4.7707157517, 'JPY': 84.8127244741, 'THB': 24.976269882, 'CHF': 0.7383914828, 'EUR': 0.6413545408, 'MYR': 3.0965238584, 'BGN': 1.2543612109, 'TRY': 2.9871087737, 'CNY': 5.0496408415, 'NOK': 6.1938814777, 'NZD': 1.0787583376, 'ZAR': 9.2748845562, 'USD': 0.7959209851, 'MXN': 14.7593637763, 'SGD': 1.0450872242, 'AUD': 1.0053873781, 'ILS': 2.800987686, 'KRW': 849.1341713699, 'PLN': 2.6590559261}, '2018-01-29': {'CAD': 1.0, 'HKD': 6.3385290458, 'USD': 0.810727618, 'PHP': 41.6805291768, 'DKK': 4.8743860109, 'HUF': 202.5934900779, 'CZK': 16.5675551772, 'GBP': 0.5759381754, 'RON': 3.0473508416, 'SEK': 6.4066409064, 'IDR': 10862.9379789115, 'INR': 51.5459427598, 'BRL': 2.567882638, 'RUB': 45.7549937782, 'HRK': 4.8606981466, 'JPY': 88.2507040409, 'THB': 25.4895539983, 'CHF': 0.7572860043, 'EUR': 0.6549217369, 'MYR': 3.151221429, 'BGN': 1.2808959329, 'TRY': 3.0620865807, 'CNY': 5.13347305, 'NOK': 6.2576462113, 'NZD': 1.105573384, 'ZAR': 9.7095422097, 'MXN': 15.0838954745, 'SGD': 1.0622830572, 'AUD': 1.0021612417, 'ILS': 2.7592507695, 'KRW': 867.6010216779, 'PLN': 2.7137337088}, '2018-03-05': {'CAD': 1.0, 'HKD': 6.0574337062, 'ISK': 77.7303003645, 'PHP': 40.1866281262, 'DKK': 4.6794017846, 'HUF': 197.1597335679, 'CZK': 15.9633027523, 'GBP': 0.5596958653, 'RON': 2.9293703657, 'SEK': 6.3895312304, 'IDR': 10643.1506849315, 'INR': 50.3503204725, 'BRL': 2.5195425412, 'RUB': 44.1736835491, 'HRK': 4.6690335554, 'JPY': 81.7016463491, 'THB': 24.2987306774, 'CHF': 0.7257132085, 'EUR': 0.6283775292, 'MYR': 3.0199195677, 'BGN': 1.2289807716, 'TRY': 2.9495412844, 'CNY': 4.9032298605, 'NOK': 6.0534749277, 'NZD': 1.0698755812, 'ZAR': 9.1853713711, 'USD': 0.7733442252, 'MXN': 14.6152444389, 'SGD': 1.0203594319, 'AUD': 0.9983033807, 'ILS': 2.6756315194, 'KRW': 834.9189392987, 'PLN': 2.6334673872}, '2018-01-25': {'CAD': 1.0, 'HKD': 6.3441690104, 'USD': 0.8114984629, 'PHP': 41.3297141736, 'DKK': 4.8691215907, 'HUF': 202.3350121002, 'CZK': 16.6008241219, 'GBP': 0.5692851069, 'RON': 3.0540257702, 'SEK': 6.4221335601, 'IDR': 10787.2522728759, 'INR': 51.582837334, 'BRL': 2.5549741644, 'RUB': 45.3146052718, 'HRK': 4.8561056969, 'JPY': 88.3772647001, 'THB': 25.4974164432, 'CHF': 0.7639479364, 'EUR': 0.6540650141, 'MYR': 3.1530512133, 'BGN': 1.2792203545, 'TRY': 3.0355157303, 'CNY': 5.137615279, 'NOK': 6.2697364118, 'NZD': 1.1003335732, 'ZAR': 9.6549152986, 'MXN': 14.9656615868, 'SGD': 1.0597161358, 'AUD': 1.0045130486, 'ILS': 2.7620511479, 'KRW': 859.7095951338, 'PLN': 2.7123422068}, '2018-04-18': {'CAD': 1.0, 'HKD': 6.2448625739, 'ISK': 79.1805805292, 'PHP': 41.3935268431, 'DKK': 4.7828153095, 'HUF': 199.1780118161, 'CZK': 16.2490367326, 'GBP': 0.5593693809, 'RON': 2.9886334446, 'SEK': 6.6807731826, 'IDR': 10952.8641150783, 'INR': 52.2386334446, 'BRL': 2.7001669663, 'RUB': 48.9240945286, 'HRK': 4.7635499615, 'JPY': 85.2941176471, 'THB': 24.844592859, 'CHF': 0.7692653481, 'EUR': 0.6421782687, 'MYR': 3.0934369381, 'BGN': 1.2559722579, 'TRY': 3.2564860005, 'CNY': 4.9978165939, 'NOK': 6.171012073, 'NZD': 1.086051888, 'ZAR': 9.5154764963, 'USD': 0.7955304392, 'MXN': 14.2994477267, 'SGD': 1.042640637, 'AUD': 1.024466992, 'ILS': 2.7977138454, 'KRW': 847.3927562291, 'PLN': 2.6776907269}, '2018-03-21': {'CAD': 1.0, 'HKD': 6.0448360193, 'ISK': 76.9423716059, 'PHP': 40.1561422211, 'DKK': 4.6708471813, 'HUF': 195.290650279, 'CZK': 15.9415564056, 'GBP': 0.5480842792, 'RON': 2.9270709224, 'SEK': 6.3261428482, 'IDR': 10603.4802784223, 'INR': 50.2395434878, 'BRL': 2.5429234339, 'RUB': 44.2852574152, 'HRK': 4.6654543174, 'JPY': 81.8335737129, 'THB': 24.0452749733, 'CHF': 0.7342446855, 'EUR': 0.6270771932, 'MYR': 3.0195648084, 'BGN': 1.2264375745, 'TRY': 3.0320436446, 'CNY': 4.8767793315, 'NOK': 5.9589891516, 'NZD': 1.0759390481, 'ZAR': 9.2351539475, 'USD': 0.7704270396, 'MXN': 14.289772371, 'SGD': 1.0156769298, 'AUD': 1.0029472628, 'ILS': 2.6921050981, 'KRW': 825.9986204302, 'PLN': 2.6565498213}, '2018-01-10': {'CAD': 1.0, 'HKD': 6.2828343714, 'USD': 0.8031612082, 'PHP': 40.6027727547, 'DKK': 4.9875426964, 'HUF': 207.5681468087, 'CZK': 17.1254437077, 'GBP': 0.5938651129, 'RON': 3.1072935503, 'SEK': 6.5708927734, 'IDR': 10786.8595539482, 'INR': 51.0769539883, 'BRL': 2.6088004822, 'RUB': 45.8097247338, 'HRK': 4.9891500904, 'JPY': 89.4916616436, 'THB': 25.7892974349, 'CHF': 0.7852789498, 'EUR': 0.6697475052, 'MYR': 3.2150559239, 'BGN': 1.3098921707, 'TRY': 3.0505659366, 'CNY': 5.2237626415, 'NOK': 6.4595807381, 'NZD': 1.1153974951, 'ZAR': 9.993570424, 'MXN': 15.4912597951, 'SGD': 1.070323488, 'AUD': 1.0239769607, 'ILS': 2.7546045141, 'KRW': 857.9130667738, 'PLN': 2.8004822182}, '2018-01-16': {'CAD': 1.0, 'HKD': 6.2972225879, 'USD': 0.8049229959, 'PHP': 40.7654337238, 'DKK': 4.9027247598, 'HUF': 203.2052125839, 'CZK': 16.793471107, 'GBP': 0.5848361195, 'RON': 3.0592997236, 'SEK': 6.4649203633, 'IDR': 10735.6588126892, 'INR': 51.5532447019, 'BRL': 2.5867447677, 'RUB': 45.4291825721, 'HRK': 4.8858101882, 'JPY': 89.1141239963, 'THB': 25.7417401606, 'CHF': 0.7762932737, 'EUR': 0.6581545347, 'MYR': 3.1914571541, 'BGN': 1.2872186389, 'TRY': 3.0562722127, 'CNY': 5.1849414242, 'NOK': 6.3385546926, 'NZD': 1.1062261419, 'ZAR': 9.8703435567, 'MXN': 15.1104383309, 'SGD': 1.0652231144, 'AUD': 1.0121758589, 'ILS': 2.7488482296, 'KRW': 857.1804659734, 'PLN': 2.7453600105}, '2018-01-04': {'CAD': 1.0, 'HKD': 6.2407701469, 'USD': 0.7982665079, 'PHP': 39.7393145428, 'DKK': 4.925830356, 'HUF': 204.1352388514, 'CZK': 16.8816990869, 'GBP': 0.5895394998, 'RON': 3.0627233029, 'SEK': 6.4986105597, 'IDR': 10712.7365356623, 'INR': 50.6140002647, 'BRL': 2.5843588726, 'RUB': 45.6075162101, 'HRK': 4.9196109567, 'JPY': 89.9298663491, 'THB': 25.7198623793, 'CHF': 0.7782850337, 'EUR': 0.6616382162, 'MYR': 3.2026597856, 'BGN': 1.2940320233, 'TRY': 3.0016540955, 'CNY': 5.1859203388, 'NOK': 6.4612280005, 'NZD': 1.1219399232, 'ZAR': 9.8236734154, 'MXN': 15.4304618235, 'SGD': 1.0614661903, 'AUD': 1.0187905253, 'ILS': 2.7509593754, 'KRW': 848.9744607649, 'PLN': 2.7494376075}, '2018-01-26': {'CAD': 1.0, 'HKD': 6.3440130506, 'USD': 0.8114845024, 'PHP': 41.4303425775, 'DKK': 4.856639478, 'HUF': 202.1533442088, 'CZK': 16.5461663948, 'GBP': 0.5698858075, 'RON': 3.0448939641, 'SEK': 6.3951060359, 'IDR': 10804.9135399674, 'INR': 51.6185970636, 'BRL': 2.5545840131, 'RUB': 45.3667862969, 'HRK': 4.8411092985, 'JPY': 88.7112561175, 'THB': 25.4727569331, 'CHF': 0.7590212072, 'EUR': 0.6525285481, 'MYR': 3.143817292, 'BGN': 1.2762153344, 'TRY': 3.0430668842, 'CNY': 5.1349429038, 'NOK': 6.2417618271, 'NZD': 1.1055791191, 'ZAR': 9.6497879282, 'MXN': 15.0518760196, 'SGD': 1.0609461664, 'AUD': 1.003588907, 'ILS': 2.7504078303, 'KRW': 863.7389885808, 'PLN': 2.702903752}, '2018-01-31': {'CAD': 1.0, 'HKD': 6.3710268149, 'USD': 0.8147155003, 'PHP': 41.7737083061, 'DKK': 4.8671680837, 'HUF': 203.1720078483, 'CZK': 16.5284499673, 'GBP': 0.5749509483, 'RON': 3.044146501, 'SEK': 6.3862001308, 'IDR': 10897.6324395029, 'INR': 51.7854807063, 'BRL': 2.5747547417, 'RUB': 45.8288423806, 'HRK': 4.8610202747, 'JPY': 88.6854153041, 'THB': 25.5088293002, 'CHF': 0.7606932636, 'EUR': 0.6540222368, 'MYR': 3.1771092217, 'BGN': 1.2791366906, 'TRY': 3.0563767168, 'CNY': 5.1236102027, 'NOK': 6.2537606279, 'NZD': 1.0989535644, 'ZAR': 9.6677567037, 'MXN': 15.1904512753, 'SGD': 1.0652714192, 'AUD': 1.004381949, 'ILS': 2.774558535, 'KRW': 867.9071288424, 'PLN': 2.7143884892}, '2018-02-16': {'CAD': 1.0, 'HKD': 6.2538654007, 'ISK': 80.3233463784, 'PHP': 41.7790466414, 'DKK': 4.7784050812, 'HUF': 199.7048822737, 'CZK': 16.2571373581, 'GBP': 0.5697247706, 'RON': 2.9912747803, 'SEK': 6.3604285623, 'IDR': 10809.1422339129, 'INR': 51.3530506191, 'BRL': 2.586386091, 'RUB': 45.0942452043, 'HRK': 4.7719253224, 'JPY': 84.9040867389, 'THB': 25.0208507089, 'CHF': 0.7391415924, 'EUR': 0.6415602746, 'MYR': 3.1141977289, 'BGN': 1.254763585, 'TRY': 3.0014755886, 'CNY': 5.0732661834, 'NOK': 6.2109450183, 'NZD': 1.0812215308, 'ZAR': 9.3238596266, 'USD': 0.7996407262, 'MXN': 14.7960479887, 'SGD': 1.0480528646, 'AUD': 1.006928851, 'ILS': 2.83640213, 'KRW': 851.5172900494, 'PLN': 2.6686982742}, '2018-01-15': {'CAD': 1.0, 'HKD': 6.2929961344, 'USD': 0.8043634934, 'PHP': 40.4592806132, 'DKK': 4.8808229051, 'HUF': 202.3848522571, 'CZK': 16.7273799384, 'GBP': 0.5833912075, 'RON': 3.0320382625, 'SEK': 6.4427045797, 'IDR': 10703.6952106401, 'INR': 51.0912009435, 'BRL': 2.5707265937, 'RUB': 45.3929109611, 'HRK': 4.8706021097, 'JPY': 88.9798859988, 'THB': 25.679093232, 'CHF': 0.7730459281, 'EUR': 0.6551791915, 'MYR': 3.1820742973, 'BGN': 1.2813994628, 'TRY': 3.0427832012, 'CNY': 5.1785363297, 'NOK': 6.3361069252, 'NZD': 1.1025355435, 'ZAR': 9.895433401, 'MXN': 15.1474153181, 'SGD': 1.0628972024, 'AUD': 1.0112035642, 'ILS': 2.7345213916, 'KRW': 855.4936775208, 'PLN': 2.7311799777}}, 'start_at': '2018-01-01', 'base': 'CAD', 'end_at': '2018-05-01'}\n"
     ]
    }
   ],
   "source": [
    "# Respuesta\n",
    "# GET https://api.exchangeratesapi.io/history?start_at=2018-01-01&end_at=2018-09-01\n",
    "\n",
    "payload = {'start_at': '2018-01-01', 'end_at': '2018-05-01', 'base' : 'CAD'}\n",
    "\n",
    "response = requests.get('https://api.exchangeratesapi.io/history', params=payload)\n",
    "print(response.url)\n",
    "print(response.json())"
   ]
  },
  {
   "cell_type": "markdown",
   "metadata": {},
   "source": [
    "Un ejemplo de petición `POST` con parámetros:"
   ]
  },
  {
   "cell_type": "code",
   "execution_count": null,
   "metadata": {
    "scrolled": true
   },
   "outputs": [],
   "source": [
    "payload = {'key1': 'value1', 'key2': 'value2'}\n",
    "\n",
    "response = requests.post(\"https://httpbin.org/post\", data=payload)\n",
    "print(response.text)"
   ]
  },
  {
   "cell_type": "markdown",
   "metadata": {},
   "source": [
    "### Ejercicio\n",
    " \n",
    "Envía al API \"https://httpbin.org/post\" el nombre, dos apellidos y dirección de una persona (real o inventada) y visualiza el resultado"
   ]
  },
  {
   "cell_type": "code",
   "execution_count": 83,
   "metadata": {
    "scrolled": true
   },
   "outputs": [
    {
     "name": "stdout",
     "output_type": "stream",
     "text": [
      "{\n",
      "  \"args\": {}, \n",
      "  \"data\": \"\", \n",
      "  \"files\": {}, \n",
      "  \"form\": {\n",
      "    \"direccion\": \"Av. de las Americas\", \n",
      "    \"materno\": \"Valdivia\", \n",
      "    \"nombre\": \"Saulo\", \n",
      "    \"paterno\": \"Valdivia\"\n",
      "  }, \n",
      "  \"headers\": {\n",
      "    \"Accept\": \"*/*\", \n",
      "    \"Accept-Encoding\": \"gzip, deflate\", \n",
      "    \"Content-Length\": \"76\", \n",
      "    \"Content-Type\": \"application/x-www-form-urlencoded\", \n",
      "    \"Host\": \"httpbin.org\", \n",
      "    \"User-Agent\": \"python-requests/2.22.0\", \n",
      "    \"X-Amzn-Trace-Id\": \"Root=1-5fc12049-0e122b59066dcb4028176467\"\n",
      "  }, \n",
      "  \"json\": null, \n",
      "  \"origin\": \"90.160.44.144\", \n",
      "  \"url\": \"https://httpbin.org/post\"\n",
      "}\n",
      "\n"
     ]
    }
   ],
   "source": [
    "# Respuesta\n",
    "payload = {'nombre': 'Saulo', 'paterno': 'Valdivia', 'materno': 'Valdivia', 'direccion': 'Av. de las Americas'}\n",
    "\n",
    "response = requests.post(\"https://httpbin.org/post\", data=payload)\n",
    "print(response.text)"
   ]
  },
  {
   "cell_type": "markdown",
   "metadata": {},
   "source": [
    "### Ejercicio\n",
    " \n",
    "Recupera las cotizaciones del USD y GBP frente al CAD entre las fechas 1/1/2018 y 5/1/2018"
   ]
  },
  {
   "cell_type": "code",
   "execution_count": 90,
   "metadata": {},
   "outputs": [
    {
     "name": "stdout",
     "output_type": "stream",
     "text": [
      "https://api.exchangeratesapi.io/history?start_at=2018-01-01&end_at=2018-05-01&symbols=USD%2CCAD\n",
      "{'rates': {'2018-01-22': {'CAD': 1.527, 'USD': 1.2239}, '2018-02-20': {'CAD': 1.5553, 'USD': 1.234}, '2018-01-05': {'CAD': 1.5068, 'USD': 1.2045}, '2018-01-03': {'CAD': 1.5047, 'USD': 1.2023}, '2018-01-23': {'CAD': 1.5289, 'USD': 1.2249}, '2018-03-02': {'CAD': 1.5858, 'USD': 1.2312}, '2018-04-12': {'CAD': 1.5517, 'USD': 1.2323}, '2018-01-18': {'CAD': 1.5229, 'USD': 1.2235}, '2018-03-09': {'CAD': 1.5848, 'USD': 1.2291}, '2018-02-21': {'CAD': 1.5601, 'USD': 1.2312}, '2018-04-30': {'CAD': 1.5542, 'USD': 1.2079}, '2018-04-13': {'CAD': 1.5482, 'USD': 1.2317}, '2018-04-04': {'CAD': 1.5756, 'USD': 1.2276}, '2018-04-24': {'CAD': 1.5662, 'USD': 1.2213}, '2018-04-17': {'CAD': 1.5511, 'USD': 1.2357}, '2018-03-01': {'CAD': 1.5654, 'USD': 1.2171}, '2018-01-02': {'CAD': 1.5128, 'USD': 1.2065}, '2018-03-08': {'CAD': 1.6044, 'USD': 1.2421}, '2018-01-11': {'CAD': 1.5093, 'USD': 1.2017}, '2018-04-05': {'CAD': 1.5659, 'USD': 1.226}, '2018-04-10': {'CAD': 1.5645, 'USD': 1.2361}, '2018-04-06': {'CAD': 1.565, 'USD': 1.2234}, '2018-02-07': {'CAD': 1.5445, 'USD': 1.2338}, '2018-01-17': {'CAD': 1.5185, 'USD': 1.2203}, '2018-04-26': {'CAD': 1.5618, 'USD': 1.2168}, '2018-02-14': {'CAD': 1.5528, 'USD': 1.2348}, '2018-02-08': {'CAD': 1.5402, 'USD': 1.2252}, '2018-03-13': {'CAD': 1.589, 'USD': 1.2378}, '2018-03-14': {'CAD': 1.5993, 'USD': 1.2369}, '2018-02-09': {'CAD': 1.5475, 'USD': 1.2273}, '2018-03-06': {'CAD': 1.5993, 'USD': 1.2411}, '2018-02-28': {'CAD': 1.5608, 'USD': 1.2214}, '2018-04-16': {'CAD': 1.5596, 'USD': 1.237}, '2018-02-06': {'CAD': 1.5488, 'USD': 1.2329}, '2018-03-12': {'CAD': 1.5782, 'USD': 1.2302}, '2018-01-19': {'CAD': 1.5246, 'USD': 1.2255}, '2018-03-26': {'CAD': 1.5997, 'USD': 1.2411}, '2018-01-12': {'CAD': 1.5194, 'USD': 1.2137}, '2018-04-20': {'CAD': 1.5557, 'USD': 1.2309}, '2018-04-03': {'CAD': 1.5818, 'USD': 1.2308}, '2018-03-19': {'CAD': 1.6105, 'USD': 1.2309}, '2018-04-19': {'CAD': 1.5606, 'USD': 1.2382}, '2018-02-05': {'CAD': 1.5468, 'USD': 1.244}, '2018-04-25': {'CAD': 1.5704, 'USD': 1.2185}, '2018-01-09': {'CAD': 1.4826, 'USD': 1.1932}, '2018-01-24': {'CAD': 1.5229, 'USD': 1.2352}, '2018-02-13': {'CAD': 1.5544, 'USD': 1.2333}, '2018-01-08': {'CAD': 1.488, 'USD': 1.1973}, '2018-03-15': {'CAD': 1.6025, 'USD': 1.2341}, '2018-02-12': {'CAD': 1.5427, 'USD': 1.2263}, '2018-03-23': {'CAD': 1.5868, 'USD': 1.2346}, '2018-02-02': {'CAD': 1.5387, 'USD': 1.2492}, '2018-03-20': {'CAD': 1.604, 'USD': 1.2276}, '2018-04-23': {'CAD': 1.5649, 'USD': 1.2238}, '2018-03-27': {'CAD': 1.5949, 'USD': 1.2376}, '2018-03-22': {'CAD': 1.5889, 'USD': 1.2316}, '2018-02-15': {'CAD': 1.5604, 'USD': 1.2493}, '2018-04-27': {'CAD': 1.5549, 'USD': 1.207}, '2018-04-09': {'CAD': 1.5726, 'USD': 1.2304}, '2018-04-11': {'CAD': 1.5625, 'USD': 1.2384}, '2018-03-07': {'CAD': 1.6056, 'USD': 1.2417}, '2018-02-22': {'CAD': 1.5589, 'USD': 1.2276}, '2018-02-26': {'CAD': 1.5617, 'USD': 1.232}, '2018-01-30': {'CAD': 1.5304, 'USD': 1.2421}, '2018-02-01': {'CAD': 1.5348, 'USD': 1.2459}, '2018-03-28': {'CAD': 1.5974, 'USD': 1.2398}, '2018-03-16': {'CAD': 1.6087, 'USD': 1.2301}, '2018-02-23': {'CAD': 1.5614, 'USD': 1.2299}, '2018-03-29': {'CAD': 1.5895, 'USD': 1.2321}, '2018-02-27': {'CAD': 1.5647, 'USD': 1.2301}, '2018-02-19': {'CAD': 1.5592, 'USD': 1.241}, '2018-01-29': {'CAD': 1.5269, 'USD': 1.2379}, '2018-03-05': {'CAD': 1.5914, 'USD': 1.2307}, '2018-01-25': {'CAD': 1.5289, 'USD': 1.2407}, '2018-04-18': {'CAD': 1.5572, 'USD': 1.2388}, '2018-03-21': {'CAD': 1.5947, 'USD': 1.2286}, '2018-01-10': {'CAD': 1.4931, 'USD': 1.1992}, '2018-01-16': {'CAD': 1.5194, 'USD': 1.223}, '2018-01-04': {'CAD': 1.5114, 'USD': 1.2065}, '2018-01-26': {'CAD': 1.5325, 'USD': 1.2436}, '2018-01-31': {'CAD': 1.529, 'USD': 1.2457}, '2018-02-16': {'CAD': 1.5587, 'USD': 1.2464}, '2018-01-15': {'CAD': 1.5263, 'USD': 1.2277}}, 'start_at': '2018-01-01', 'base': 'EUR', 'end_at': '2018-05-01'}\n",
      "https://api.exchangeratesapi.io/history?start_at=2018-01-01&end_at=2018-05-01&symbols=GBP%2CCAD\n",
      "{'rates': {'2018-01-22': {'CAD': 1.527, 'GBP': 0.88085}, '2018-02-20': {'CAD': 1.5553, 'GBP': 0.88168}, '2018-01-05': {'CAD': 1.5068, 'GBP': 0.88883}, '2018-01-03': {'CAD': 1.5047, 'GBP': 0.8864}, '2018-01-23': {'CAD': 1.5289, 'GBP': 0.8783}, '2018-03-02': {'CAD': 1.5858, 'GBP': 0.8932}, '2018-04-12': {'CAD': 1.5517, 'GBP': 0.86745}, '2018-01-18': {'CAD': 1.5229, 'GBP': 0.88208}, '2018-03-09': {'CAD': 1.5848, 'GBP': 0.88893}, '2018-02-21': {'CAD': 1.5601, 'GBP': 0.88463}, '2018-04-30': {'CAD': 1.5542, 'GBP': 0.8796}, '2018-04-13': {'CAD': 1.5482, 'GBP': 0.864}, '2018-04-04': {'CAD': 1.5756, 'GBP': 0.87573}, '2018-04-24': {'CAD': 1.5662, 'GBP': 0.87468}, '2018-04-17': {'CAD': 1.5511, 'GBP': 0.8628}, '2018-03-01': {'CAD': 1.5654, 'GBP': 0.8852}, '2018-01-02': {'CAD': 1.5128, 'GBP': 0.88953}, '2018-03-08': {'CAD': 1.6044, 'GBP': 0.89465}, '2018-01-11': {'CAD': 1.5093, 'GBP': 0.89075}, '2018-04-05': {'CAD': 1.5659, 'GBP': 0.87395}, '2018-04-10': {'CAD': 1.5645, 'GBP': 0.87183}, '2018-04-06': {'CAD': 1.565, 'GBP': 0.87295}, '2018-02-07': {'CAD': 1.5445, 'GBP': 0.88675}, '2018-01-17': {'CAD': 1.5185, 'GBP': 0.88568}, '2018-04-26': {'CAD': 1.5618, 'GBP': 0.871}, '2018-02-14': {'CAD': 1.5528, 'GBP': 0.8904}, '2018-02-08': {'CAD': 1.5402, 'GBP': 0.87513}, '2018-03-13': {'CAD': 1.589, 'GBP': 0.8865}, '2018-03-14': {'CAD': 1.5993, 'GBP': 0.8863}, '2018-02-09': {'CAD': 1.5475, 'GBP': 0.8874}, '2018-03-06': {'CAD': 1.5993, 'GBP': 0.89165}, '2018-02-28': {'CAD': 1.5608, 'GBP': 0.88415}, '2018-04-16': {'CAD': 1.5596, 'GBP': 0.86465}, '2018-02-06': {'CAD': 1.5488, 'GBP': 0.88885}, '2018-03-12': {'CAD': 1.5782, 'GBP': 0.8859}, '2018-01-19': {'CAD': 1.5246, 'GBP': 0.88365}, '2018-03-26': {'CAD': 1.5997, 'GBP': 0.87248}, '2018-01-12': {'CAD': 1.5194, 'GBP': 0.88983}, '2018-04-20': {'CAD': 1.5557, 'GBP': 0.87608}, '2018-04-03': {'CAD': 1.5818, 'GBP': 0.87523}, '2018-03-19': {'CAD': 1.6105, 'GBP': 0.87593}, '2018-04-19': {'CAD': 1.5606, 'GBP': 0.86975}, '2018-02-05': {'CAD': 1.5468, 'GBP': 0.88568}, '2018-04-25': {'CAD': 1.5704, 'GBP': 0.8738}, '2018-01-09': {'CAD': 1.4826, 'GBP': 0.8827}, '2018-01-24': {'CAD': 1.5229, 'GBP': 0.87183}, '2018-02-13': {'CAD': 1.5544, 'GBP': 0.88935}, '2018-01-08': {'CAD': 1.488, 'GBP': 0.88413}, '2018-03-15': {'CAD': 1.6025, 'GBP': 0.8848}, '2018-02-12': {'CAD': 1.5427, 'GBP': 0.886}, '2018-03-23': {'CAD': 1.5868, 'GBP': 0.87285}, '2018-02-02': {'CAD': 1.5387, 'GBP': 0.8785}, '2018-03-20': {'CAD': 1.604, 'GBP': 0.87715}, '2018-04-23': {'CAD': 1.5649, 'GBP': 0.8764}, '2018-03-27': {'CAD': 1.5949, 'GBP': 0.8794}, '2018-03-22': {'CAD': 1.5889, 'GBP': 0.872}, '2018-02-15': {'CAD': 1.5604, 'GBP': 0.8866}, '2018-04-27': {'CAD': 1.5549, 'GBP': 0.877}, '2018-04-09': {'CAD': 1.5726, 'GBP': 0.87088}, '2018-04-11': {'CAD': 1.5625, 'GBP': 0.8736}, '2018-03-07': {'CAD': 1.6056, 'GBP': 0.89513}, '2018-02-22': {'CAD': 1.5589, 'GBP': 0.88343}, '2018-02-26': {'CAD': 1.5617, 'GBP': 0.8782}, '2018-01-30': {'CAD': 1.5304, 'GBP': 0.8793}, '2018-02-01': {'CAD': 1.5348, 'GBP': 0.8752}, '2018-03-28': {'CAD': 1.5974, 'GBP': 0.87605}, '2018-03-16': {'CAD': 1.6087, 'GBP': 0.88253}, '2018-02-23': {'CAD': 1.5614, 'GBP': 0.8794}, '2018-03-29': {'CAD': 1.5895, 'GBP': 0.8749}, '2018-02-27': {'CAD': 1.5647, 'GBP': 0.884}, '2018-02-19': {'CAD': 1.5592, 'GBP': 0.8859}, '2018-01-29': {'CAD': 1.5269, 'GBP': 0.8794}, '2018-03-05': {'CAD': 1.5914, 'GBP': 0.8907}, '2018-01-25': {'CAD': 1.5289, 'GBP': 0.87038}, '2018-04-18': {'CAD': 1.5572, 'GBP': 0.87105}, '2018-03-21': {'CAD': 1.5947, 'GBP': 0.87403}, '2018-01-10': {'CAD': 1.4931, 'GBP': 0.8867}, '2018-01-16': {'CAD': 1.5194, 'GBP': 0.8886}, '2018-01-04': {'CAD': 1.5114, 'GBP': 0.89103}, '2018-01-26': {'CAD': 1.5325, 'GBP': 0.87335}, '2018-01-31': {'CAD': 1.529, 'GBP': 0.8791}, '2018-02-16': {'CAD': 1.5587, 'GBP': 0.88803}, '2018-01-15': {'CAD': 1.5263, 'GBP': 0.89043}}, 'start_at': '2018-01-01', 'base': 'EUR', 'end_at': '2018-05-01'}\n"
     ]
    }
   ],
   "source": [
    "# Respuesta\n",
    "# GET https://api.exchangeratesapi.io/history?start_at=2018-01-01&end_at=2018-09-01\n",
    "\n",
    "payload = {'start_at': '2018-01-01', 'end_at': '2018-05-01', 'symbols': 'USD,CAD'}\n",
    "\n",
    "response = requests.get('https://api.exchangeratesapi.io/history', params=payload)\n",
    "print(response.url)\n",
    "print(response.json())\n",
    "\n",
    "payload = {'start_at': '2018-01-01', 'end_at': '2018-05-01', 'symbols': 'GBP,CAD'}\n",
    "\n",
    "response = requests.get('https://api.exchangeratesapi.io/history', params=payload)\n",
    "print(response.url)\n",
    "print(response.json())"
   ]
  },
  {
   "cell_type": "markdown",
   "metadata": {},
   "source": [
    "### Ejercicio\n",
    "Usando la misma url (api.exchangeratesapi.io), extrae las cotizaciones de las diferentes divisas frente al CAD entre las fechas 1/10/2019 y 10/10/2019"
   ]
  },
  {
   "cell_type": "code",
   "execution_count": 91,
   "metadata": {},
   "outputs": [
    {
     "name": "stdout",
     "output_type": "stream",
     "text": [
      "https://api.exchangeratesapi.io/history?start_at=2019-10-01&end_at=2019-10-10&base=CAD\n",
      "{'rates': {'2019-10-08': {'CAD': 1.0, 'HKD': 5.8933187444, 'ISK': 93.3460986118, 'PHP': 38.9489160911, 'DKK': 5.1076386514, 'HUF': 228.7971004582, 'CZK': 17.6468576899, 'GBP': 0.6140668809, 'RON': 3.247350065, 'SEK': 7.4337003351, 'IDR': 10634.3978663749, 'INR': 53.4391027833, 'BRL': 3.082336046, 'RUB': 48.9793476031, 'HRK': 5.077138754, 'JPY': 80.3049989742, 'THB': 22.8427819189, 'CHF': 0.7452643096, 'EUR': 0.6838542023, 'MYR': 3.1505163099, 'BGN': 1.3374820488, 'TRY': 4.384873145, 'CNY': 5.366477467, 'NOK': 6.8693154619, 'NZD': 1.1880599056, 'ZAR': 11.4704233058, 'USD': 0.7512822266, 'MXN': 14.7244751419, 'SGD': 1.037270054, 'AUD': 1.1137249538, 'ILS': 2.6373521165, 'KRW': 900.2325104288, 'PLN': 2.9628667168}, '2019-10-10': {'CAD': 1.0, 'HKD': 5.8946722987, 'ISK': 94.3589044829, 'PHP': 38.8131898079, 'DKK': 5.0881591497, 'HUF': 227.2176045783, 'CZK': 17.6406867421, 'GBP': 0.6142185584, 'RON': 3.2377026843, 'SEK': 7.3862242812, 'IDR': 10634.3507289822, 'INR': 53.3829540809, 'BRL': 3.0784848072, 'RUB': 48.569355498, 'HRK': 5.0606349639, 'JPY': 80.7466957351, 'THB': 22.8484807194, 'CHF': 0.745878185, 'EUR': 0.6812917291, 'MYR': 3.1479084344, 'BGN': 1.3324703638, 'TRY': 4.4240359722, 'CNY': 5.3527047282, 'NOK': 6.8493663987, 'NZD': 1.1869464505, 'ZAR': 11.3706227006, 'USD': 0.7514647772, 'MXN': 14.6629649816, 'SGD': 1.034677749, 'AUD': 1.1109824227, 'ILS': 2.6361902167, 'KRW': 896.491347595, 'PLN': 2.9420220739}, '2019-10-03': {'CAD': 1.0, 'HKD': 5.8799123648, 'ISK': 92.9070245105, 'PHP': 38.8456798576, 'DKK': 5.1113241134, 'HUF': 228.0021908805, 'CZK': 17.6222100507, 'GBP': 0.6079008627, 'RON': 3.2500342325, 'SEK': 7.4168150075, 'IDR': 10625.9756264549, 'INR': 53.2079282487, 'BRL': 3.0873613583, 'RUB': 48.7985074627, 'HRK': 5.0787347665, 'JPY': 80.2204573463, 'THB': 22.9090784609, 'CHF': 0.7501711625, 'EUR': 0.6846501438, 'MYR': 3.1396001643, 'BGN': 1.3390387512, 'TRY': 4.2755032179, 'CNY': 5.3595782555, 'NOK': 6.8577981651, 'NZD': 1.1927290155, 'ZAR': 11.3704641928, 'USD': 0.7497603724, 'MXN': 14.8078187046, 'SGD': 1.0357387375, 'AUD': 1.1155689443, 'ILS': 2.6209776804, 'KRW': 902.2593454745, 'PLN': 2.971381624}, '2019-10-04': {'CAD': 1.0, 'HKD': 5.8923487544, 'ISK': 92.8688748973, 'PHP': 38.8796879277, 'DKK': 5.1099096633, 'HUF': 227.730632357, 'CZK': 17.616342732, 'GBP': 0.6093963865, 'RON': 3.2493840679, 'SEK': 7.3983712018, 'IDR': 10629.2020257323, 'INR': 53.2723104298, 'BRL': 3.060908842, 'RUB': 48.6873802354, 'HRK': 5.0790446209, 'JPY': 80.2285792499, 'THB': 22.8832466466, 'CHF': 0.7468519025, 'EUR': 0.6843690118, 'MYR': 3.1448809198, 'BGN': 1.3384889132, 'TRY': 4.2776485081, 'CNY': 5.3720914317, 'NOK': 6.8378729811, 'NZD': 1.1873802354, 'ZAR': 11.3910484533, 'USD': 0.751368738, 'MXN': 14.7198877635, 'SGD': 1.0360662469, 'AUD': 1.1118943334, 'ILS': 2.6179852176, 'KRW': 898.1111415275, 'PLN': 2.9595537914}, '2019-10-07': {'CAD': 1.0, 'HKD': 5.8933233103, 'ISK': 93.2823071141, 'PHP': 38.9694526071, 'DKK': 5.1034647714, 'HUF': 228.0051937402, 'CZK': 17.6183967744, 'GBP': 0.6092735598, 'RON': 3.244379143, 'SEK': 7.44276635, 'IDR': 10647.0853550195, 'INR': 53.3339028224, 'BRL': 3.0553543361, 'RUB': 48.7360759926, 'HRK': 5.0731223946, 'JPY': 80.2569534614, 'THB': 22.8770587029, 'CHF': 0.7465318117, 'EUR': 0.6833868653, 'MYR': 3.1500034169, 'BGN': 1.3365680312, 'TRY': 4.3121711201, 'CNY': 5.3701906649, 'NOK': 6.8603840634, 'NZD': 1.1926467573, 'ZAR': 11.366910408, 'USD': 0.751247181, 'MXN': 14.692817604, 'SGD': 1.0370395681, 'AUD': 1.1150140094, 'ILS': 2.6245472562, 'KRW': 898.7904052484, 'PLN': 2.9602268844}, '2019-10-02': {'CAD': 1.0, 'HKD': 5.9214764637, 'ISK': 93.6614363724, 'PHP': 39.2659155319, 'DKK': 5.1610561969, 'HUF': 230.9048178613, 'CZK': 17.7915255409, 'GBP': 0.6149858298, 'RON': 3.2827123799, 'SEK': 7.4734222714, 'IDR': 10725.6376581185, 'INR': 53.7965715076, 'BRL': 3.1461947881, 'RUB': 49.2252713071, 'HRK': 5.1254579388, 'JPY': 81.1985898942, 'THB': 23.1271168867, 'CHF': 0.7562037741, 'EUR': 0.6912283127, 'MYR': 3.167553743, 'BGN': 1.351904334, 'TRY': 4.3267436234, 'CNY': 5.398216631, 'NOK': 6.9074445289, 'NZD': 1.2104790212, 'ZAR': 11.5177300062, 'USD': 0.7551669316, 'MXN': 14.955761388, 'SGD': 1.046312297, 'AUD': 1.1302274141, 'ILS': 2.6350314509, 'KRW': 911.1771618165, 'PLN': 3.0205294809}, '2019-10-09': {'CAD': 1.0, 'HKD': 5.8973779695, 'ISK': 93.996029301, 'PHP': 38.8964195249, 'DKK': 5.1133703019, 'HUF': 228.6848771137, 'CZK': 17.6785103033, 'GBP': 0.6151160403, 'RON': 3.2509070993, 'SEK': 7.4740193058, 'IDR': 10652.4816868625, 'INR': 53.4223317587, 'BRL': 3.0658588348, 'RUB': 48.7381392483, 'HRK': 5.0845485041, 'JPY': 80.7215718491, 'THB': 22.804819607, 'CHF': 0.7480659958, 'EUR': 0.6846032724, 'MYR': 3.1551311015, 'BGN': 1.3389470802, 'TRY': 4.3850893407, 'CNY': 5.3580475115, 'NOK': 6.8821797768, 'NZD': 1.1899089478, 'ZAR': 11.3813924831, 'USD': 0.7517628534, 'MXN': 14.6861093996, 'SGD': 1.0373793387, 'AUD': 1.1146710481, 'ILS': 2.6333264873, 'KRW': 900.0958444581, 'PLN': 2.9599507086}, '2019-10-01': {'CAD': 1.0, 'HKD': 5.9068851099, 'ISK': 93.5296557445, 'PHP': 39.133139776, 'DKK': 5.1607216922, 'HUF': 231.4323240702, 'CZK': 17.7934467026, 'GBP': 0.6149246509, 'RON': 3.2843218582, 'SEK': 7.4687543205, 'IDR': 10718.6990183879, 'INR': 53.5683672059, 'BRL': 3.1372874326, 'RUB': 49.1369417946, 'HRK': 5.1231162726, 'JPY': 81.5705792894, 'THB': 23.1093598783, 'CHF': 0.7539057099, 'EUR': 0.6912760957, 'MYR': 3.1599612885, 'BGN': 1.3519977879, 'TRY': 4.2844601134, 'CNY': 5.3852481681, 'NOK': 6.8756394304, 'NZD': 1.2116687405, 'ZAR': 11.5235725149, 'USD': 0.7533526891, 'MXN': 14.9030139638, 'SGD': 1.0443799253, 'AUD': 1.1249827181, 'ILS': 2.6204202959, 'KRW': 905.9587999447, 'PLN': 3.0259919812}}, 'start_at': '2019-10-01', 'base': 'CAD', 'end_at': '2019-10-10'}\n"
     ]
    }
   ],
   "source": [
    "# Respuesta\n",
    "# GET https://api.exchangeratesapi.io/history?start_at=2018-01-01&end_at=2018-09-01\n",
    "\n",
    "payload = {'start_at': '2019-10-01', 'end_at': '2019-10-10', 'base' : 'CAD'}\n",
    "\n",
    "response = requests.get('https://api.exchangeratesapi.io/history', params=payload)\n",
    "print(response.url)\n",
    "print(response.json())"
   ]
  },
  {
   "cell_type": "markdown",
   "metadata": {},
   "source": [
    "### Ejercicio\n",
    " \n",
    "¿Cuál era la cotización del Peso Mexicano, MXN frente al Dolar Canadiense CAD, el 9/10/2020?\n",
    " \n",
    "Visualiza el dato numérico. Ejemplo: 14.6861093996"
   ]
  },
  {
   "cell_type": "code",
   "execution_count": 93,
   "metadata": {
    "scrolled": false
   },
   "outputs": [
    {
     "name": "stdout",
     "output_type": "stream",
     "text": [
      "https://api.exchangeratesapi.io/history?start_at=2019-10-09&end_at=2019-10-11&symbols=MXN%2CCAD\n",
      "{'rates': {'2019-10-09': {'CAD': 1.4607, 'MXN': 21.452}, '2019-10-11': {'CAD': 1.4679, 'MXN': 21.3965}, '2019-10-10': {'CAD': 1.4678, 'MXN': 21.5223}}, 'start_at': '2019-10-09', 'base': 'EUR', 'end_at': '2019-10-11'}\n"
     ]
    }
   ],
   "source": [
    "# Respuesta\n",
    "payload = {'start_at': '2019-10-09', 'end_at': '2019-10-11', 'symbols': 'MXN,CAD'}\n",
    "\n",
    "response = requests.get('https://api.exchangeratesapi.io/history', params=payload)\n",
    "print(response.url)\n",
    "print(response.json())"
   ]
  },
  {
   "cell_type": "markdown",
   "metadata": {},
   "source": [
    "### Geolocalización de coordenadas mediante API\n",
    " \n",
    "Uso de la librería Folium (http://python-visualization.github.io/folium/) para consultar la cartografía de OpenStreetMap, Stamen Terrain, Stamen Toner, Mapbox Bright, Mapbox Control Room, etc."
   ]
  },
  {
   "cell_type": "code",
   "execution_count": 12,
   "metadata": {
    "scrolled": true
   },
   "outputs": [
    {
     "data": {
      "text/html": [
       "<div style=\"width:100%;\"><div style=\"position:relative;width:100%;height:0;padding-bottom:60%;\"><span style=\"color:#565656\">Make this Notebook Trusted to load map: File -> Trust Notebook</span><iframe src=\"about:blank\" style=\"position:absolute;width:100%;height:100%;left:0;top:0;border:none !important;\" data-html=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 onload=\"this.contentDocument.open();this.contentDocument.write(atob(this.getAttribute('data-html')));this.contentDocument.close();\" allowfullscreen webkitallowfullscreen mozallowfullscreen></iframe></div></div>"
      ],
      "text/plain": [
       "<folium.folium.Map at 0x19b99226fc8>"
      ]
     },
     "execution_count": 12,
     "metadata": {},
     "output_type": "execute_result"
    }
   ],
   "source": [
    "import folium\n",
    "# https://www.google.com/maps/place/EAE+Business+School/@40.4485032,-3.6774068,15\n",
    "m = folium.Map(location=[40.4485032, -3.6774068])\n",
    "m"
   ]
  },
  {
   "cell_type": "markdown",
   "metadata": {},
   "source": [
    "### Ejercicio\n",
    " \n",
    "Consulta la documentación de la biblioteca Folium para realizar el siguiente ejercicio.\n",
    " \n",
    "Emplea la biblioteca Folium para recuperar:\n",
    "* La localización de EAE Business School de Calle del Príncipe de Vergara, 156, 28002 Madrid\n",
    "* Establece el parámetro necesario para pedir a Folium el uso expreso de \"OpenStreetMap\"\n",
    "* Añade un marcador con la leyenda \"Pulsa aquí\" y el popup \"EAE Business School\"\n",
    "* Zoom inicial de 20"
   ]
  },
  {
   "cell_type": "code",
   "execution_count": 11,
   "metadata": {
    "scrolled": true
   },
   "outputs": [
    {
     "data": {
      "text/html": [
       "<div style=\"width:100%;\"><div style=\"position:relative;width:100%;height:0;padding-bottom:60%;\"><span style=\"color:#565656\">Make this Notebook Trusted to load map: File -> Trust Notebook</span><iframe src=\"about:blank\" style=\"position:absolute;width:100%;height:100%;left:0;top:0;border:none !important;\" data-html=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 onload=\"this.contentDocument.open();this.contentDocument.write(atob(this.getAttribute('data-html')));this.contentDocument.close();\" allowfullscreen webkitallowfullscreen mozallowfullscreen></iframe></div></div>"
      ],
      "text/plain": [
       "<folium.folium.Map at 0x19b9922e208>"
      ]
     },
     "execution_count": 11,
     "metadata": {},
     "output_type": "execute_result"
    }
   ],
   "source": [
    "m = folium.Map(\n",
    "    location=[40.44835, -3.67752],\n",
    "    zoom_start=20,\n",
    "    tiles='OpenStreetMap'\n",
    ")\n",
    "\n",
    "folium.Marker([40.44835, -3.67752], popup='EAE Business School', tooltip=\"Pulsa aqui\").add_to(m)\n",
    "\n",
    "m"
   ]
  },
  {
   "cell_type": "markdown",
   "metadata": {},
   "source": [
    "### Ejercicio\n",
    "\n",
    "Investiga en la documentación de la librería [requests](http://www.python-requests.org/en/latest/) cómo pasar parámetros en el query string. También consulta la documentación de la API [exchangeratesapi](https://exchangeratesapi.io/).\n",
    "\n",
    "Con esta información, extrae el valor actual de la conversión de la libra esterlina `GBP` al resto de monedas.\n",
    "\n",
    "*Nota*: hazlo sin poner manualmente el query string en la URL"
   ]
  },
  {
   "cell_type": "code",
   "execution_count": 14,
   "metadata": {
    "scrolled": true
   },
   "outputs": [
    {
     "name": "stdout",
     "output_type": "stream",
     "text": [
      "https://api.exchangeratesapi.io/latest?base=GBP\n",
      "{'rates': {'CAD': 1.7326312023, 'HKD': 10.33116433, 'ISK': 177.768833434, 'PHP': 64.1477158382, 'DKK': 8.3199168176, 'HUF': 405.0893316339, 'CZK': 29.3072605711, 'GBP': 1.0, 'RON': 5.4488942555, 'SEK': 11.3730685808, 'IDR': 18859.9762974889, 'INR': 98.7248719841, 'BRL': 7.1578229467, 'RUB': 101.7300597035, 'HRK': 8.4498334116, 'JPY': 138.8944791038, 'THB': 40.4150175533, 'CHF': 1.2103933275, 'EUR': 1.1180429776, 'MYR': 5.4244091143, 'BGN': 2.1866684555, 'TRY': 10.4297757206, 'CNY': 8.7679166387, 'NOK': 11.8098879721, 'NZD': 1.9006730619, 'ZAR': 20.4218376154, 'USD': 1.3329308379, 'MXN': 26.7661724917, 'SGD': 1.7838375707, 'AUD': 1.8092171463, 'ILS': 4.4226426064, 'KRW': 1473.6253661591, 'PLN': 5.0207955994}, 'base': 'GBP', 'date': '2020-11-27'}\n"
     ]
    }
   ],
   "source": [
    "import requests\n",
    "\n",
    "payload = {'base': 'GBP'}\n",
    "\n",
    "response = requests.get('https://api.exchangeratesapi.io/latest', params=payload)\n",
    "print(response.url)\n",
    "print(response.json())"
   ]
  },
  {
   "cell_type": "markdown",
   "metadata": {},
   "source": [
    "### Ejercicio evaluación\n",
    "\n",
    "Utiliza el API de `CityBikes`, para obtener todas las redes de bicicletas en España. Muestra el resultado en formato JSON\n",
    " \n",
    "Recoge los siguientes datos:\n",
    "* Nombre de la compañia\n",
    "* id de la compañía\n",
    "* Ciudad donde se encuentra"
   ]
  },
  {
   "cell_type": "code",
   "execution_count": 3,
   "metadata": {
    "scrolled": false
   },
   "outputs": [
    {
     "name": "stdout",
     "output_type": "stream",
     "text": [
      "http://api.citybik.es/v2/networks\n",
      "[[['ЗАО «СитиБайк»'], 'velobike-moscow', 'Moscow'], [['Gobike A/S'], 'bycyklen', 'Copenhagen'], [['Gobike A/S'], 'nu-connect', 'Utrecht'], [['Urban Infrastructure Partner'], 'baerum-bysykkel', 'Bærum'], [['Gobike A/S'], 'bysykkelen', 'Stavanger'], [['Domoblue'], 'onroll-a-rua', 'A Rúa'], [['Domoblue'], 'onroll-albacete', 'Albacete'], [['Domoblue'], 'onroll-alhama-de-murcia', 'Alhama de Murcia'], [['Domoblue'], 'onroll-almunecar', 'Almuñécar'], [['Domoblue'], 'onroll-antequera', 'Antequera'], [['Domoblue'], 'onroll-aranda-de-duero', 'Aranda de Duero'], [['Domoblue'], 'onroll-aranjuez', 'Aranjuez'], [['Domoblue'], 'onroll-badajoz', 'Badajoz'], [['Domoblue'], 'onroll-baeza', 'Baeza'], [['Domoblue'], 'onroll-benidorm', 'Benidorm'], [['Domoblue'], 'onroll-blanca', 'Blanca'], [['Domoblue'], 'onroll-cieza', 'Cieza'], [['Domoblue'], 'onroll-don-benito-villanueva', 'Don Benito - Villanueva'], [['Domoblue'], 'onroll-el-campello', 'El Campello'], [['Domoblue'], 'onroll-elche', 'Elche'], [['Domoblue'], 'onroll-guadalajara', 'Guadalajara'], [['Domoblue'], 'onroll-jaen', 'Jaén'], [['Domoblue'], 'onroll-lalin', 'Lalín'], [['Domoblue'], 'onroll-las-palmas', 'Las Palmas de Gran Canaria'], [['Domoblue'], 'onroll-montilla', 'Montilla'], [['Domoblue'], 'onroll-novelda', 'Novelda'], [['Domoblue'], 'onroll-mula', 'Mula'], [['Domoblue'], 'onroll-o-barco', 'O Barco'], [['Domoblue'], 'onroll-palencia', 'Palencia'], [['Domoblue'], 'onroll-paiporta', 'Paiporta'], [['Domoblue'], 'onroll-pinto', 'Pinto'], [['Domoblue'], 'onroll-priego-de-cordoba', 'Priego de Córdoba'], [['Domoblue'], 'onroll-puerto-lumbreras', 'Puerto Lumbreras'], [['Domoblue'], 'onroll-puertollano', 'Puertollano'], [['Domoblue'], 'onroll-redondela', 'Redondela'], [['Domoblue'], 'onroll-salamanca', 'Salamanca'], [['Domoblue'], 'onroll-san-javier', 'San Javier'], [['Domoblue'], 'onroll-san-pedro', 'San Pedro del Pinatar'], [['Domoblue'], 'onroll-sant-joan', \"Sant Joan d'Alacant\"], [['Domoblue'], 'onroll-segovia', 'Segovia'], [['Domoblue'], 'onroll-soria', 'Soria'], [['Domoblue'], 'onroll-talavera', 'Talavera de la Reina'], [['Domoblue'], 'onroll-ubeda', 'Úbeda'], [['Domoblue'], 'onroll-universidad-de-granada', 'Universidad de Granada, Granada'], [['Comunicare S.r.l.'], 'bicincitta-siena', 'Siena'], [['Domoblue'], 'onroll-via-verde', 'Noia - Portosin - Porto do Son'], [['Domoblue'], 'onroll-villaquilambre', 'Villaquilambre'], [['Domoblue'], 'onroll-vinaros', 'Vinaròs'], [['Cyclopolis Systems'], 'cyclopolis-maroussi', 'Maroussi'], [['Groundwork', 'Slough Borough Council', 'ITS'], 'cycle-hire-slough', 'Slough'], [['Cyclopolis Systems'], 'cyclopolis-nafplio', 'Maroussi'], [['Comunicare S.r.l.'], 'bicincitta-parco-dei-colli-di-bergamo', 'Parco dei Colli di Bergamo'], [['Cyclopolis Systems'], 'cyclopolis-aigialeia', 'Maroussi'], [['Cyclopolis Systems'], 'cyclopolis-marathon', 'Marathon'], [['Comunicare S.r.l.'], 'bicincitta-mantova', 'Mantova'], [['Cyclopolis Systems'], 'cyclopolis-neasmyrni', 'Νea Smyrni'], [['Cyclopolis Systems'], 'cyclopolis-moschatotavros', 'Μoschato-Tavros'], [['Cyclopolis Systems'], 'cyclopolis-arxaiaolympia', 'Αrxaia Olympia'], [['Cyclopolis Systems'], 'cyclopolis-kiato', 'Kιato'], [['Comunicare S.r.l.'], 'bicincitta-assemini', 'Assemini'], [['Cyclopolis Systems'], 'cyclopolis-rhodes', 'Rhodes'], [['Cyclopolis Systems'], 'cyclopolis-florina', 'Florina'], [['Comunicare S.r.l.'], 'bicincitta-tortoli', 'Tortolì'], [['Cyclopolis Systems'], 'cyclopolis-limnos', 'Limnos'], [['Comunicare S.r.l.'], 'bicincitta-gaeta', 'Gaeta'], [['Comunicare S.r.l.'], 'bicincitta-borgarello', 'Borgarello'], [['Comunicare S.r.l.'], 'bicincitta-pizzighettone-formigara', 'Pizzighettone e Formigara'], [['The National Transport Authority'], 'cork', 'Cork'], [['The National Transport Authority'], 'limerick', 'Limerick'], [['BTS Group Holdings'], 'punpunbikeshare', 'Bangkok'], [['The National Transport Authority'], 'galway', 'Galway'], [['Bike U Sp. z o.o.'], 'bbbike', 'Bielsko-Biała'], [['Comunicare S.r.l.'], 'bicincitta-montecatini-terme', 'Montecatini Terme'], [['Bike U Sp. z o.o.'], 'bikeu-bra', 'Bydgoszcz'], [['PBSC', 'Serco Group plc'], 'santander-cycles', 'London'], [['PBSC', 'Alta Bicycle Share, Inc'], 'we-cycle', 'Aspen, CO'], [['Comunicare S.r.l.'], 'bicincitta-carrara', 'Carrara'], [['PBSC', 'Alta Bicycle Share, Inc'], 'wowcycle-reykjavik', 'Reykjavík'], [['Transparenzportal Hamburg'], 'stadtrad-hamburg', 'Hamburg'], [['Comunicare S.r.l.'], 'tigullionbike', 'Sestri Levante - Lavagna'], [['Comunicare S.r.l.'], 'arbike', 'Arezzo'], [['Velobike.kz, LLP', 'Smoove'], 'velobike', 'Astana'], [['Smovengo'], 'velib', 'Paris'], [['Comunicare S.r.l.'], 'ascoli-piceno', 'Ascoli Piceno'], [['Comunicare S.r.l.'], 'bigi', 'Bergamo'], [['ICNITA S.L.'], 'girocleta', 'Girona'], [['Comunicare S.r.l.'], 'alba', 'Alba'], [['ClearChannel'], 'bikemi', 'Milano'], [['Comunicare S.r.l.'], 'biella', 'Biella'], [['Comunicare S.r.l.'], 'chivasso', 'Chivasso'], [['ClearChannel'], 'bizi', 'Zaragoza'], [['ClearChannel'], 'ecobici', 'Cd de México'], [['Comunicare S.r.l.'], 'bici-in-busto', 'Busto Arsizio'], [['ClearChannel'], 'velo-antwerpen', 'Antwerpen'], [['Comunicare S.r.l.'], 'cuneo', 'Cuneo'], [['ClearChannel'], 'malmobybike', 'Malmö'], [['ClearChannel'], 'bicilascondes', 'Las Condes'], ['Empresa Municipal de Transportes de Madrid, S.A.', 'bicimad', 'Madrid'], [['Brainbox Technology', 'Smoove SAS'], 'easybike-didymoteicho', 'Didymoteicho'], [['Comunicare S.r.l.'], 'free-bike-sharing', 'Frosinone'], [['Brainbox Technology', 'Smoove SAS'], 'easybike-glyfada', 'Glyfada'], [['Brainbox Technology', 'Smoove SAS'], 'easybike-igoumenitsa', 'Igoumenitsa'], [['Comunicare S.r.l.'], 'lecce', 'Lecce'], [['Brainbox Technology', 'Smoove SAS'], 'easybike-ioannina', 'Ioannina'], [['Brainbox Technology', 'Smoove SAS'], 'easybike-karditsa', 'Karditsa'], [['Comunicare S.r.l.'], 'manerba-in-bici', 'Manerba del Garda'], [['Brainbox Technology', 'Smoove SAS'], 'easybike-kavala', 'Kavala'], [['Brainbox Technology', 'Smoove SAS'], 'easybike-kinouria', 'Kinouria'], [['Brainbox Technology', 'Smoove SAS'], 'easybike-komotini', 'Komotini'], [['Brainbox Technology', 'Smoove SAS'], 'easybike-patra', 'Patra'], [['Comunicare S.r.l.'], 'mar-e-bici', 'Marciana Marina'], [['Brainbox Technology', 'Smoove SAS'], 'easybike-rethymno', 'Rethymno'], [['Brainbox Technology', 'Smoove SAS'], 'easybike-samos', 'Samos'], [['Comunicare S.r.l.'], 'novara', 'Novara'], [['Brainbox Technology', 'Smoove SAS'], 'easybike-nicosia', 'Nicosia'], [['Brainbox Technology', 'Smoove SAS'], 'easybike-mani', 'Mani'], [['Brainbox Technology', 'Smoove SAS'], 'easybike-irakleio', 'Irakleio'], [['Brainbox Technology', 'Smoove SAS'], 'thessbike', 'Thessaloniki'], [['Brainbox Technology', 'Smoove SAS'], 'athens-bikes', 'Athens'], [['Comunicare S.r.l.'], 'goodbike', 'Padova'], [['PegBike'], 'ciclosampa', 'São Paulo'], [['Tuimil S.A.'], 'bicicorunha', 'A Coruña'], [['Tuimil S.A.'], 'bici-ferrol-terra', 'Ferrol - Narón'], [['Social Bicycles Inc.'], 'curtin-bike-share', 'Curtin University, Perth, WA'], [['Social Bicycles Inc.'], 'monash-bikeshare', 'Melbourne, AU'], [['Comunicare S.r.l.'], 'mimuovofe', 'Ferrara'], [['Motivate International, Inc.', 'PBSC Urban Solutions', 'BIXI Montréal'], 'bixi-montreal', 'Montréal, QC'], [['Comunicare S.r.l.'], 'parma', 'Parma'], [['Motivate International, Inc.', 'PBSC Urban Solutions'], 'bixi-toronto', 'Toronto, ON'], [['Social Bicycles Inc.'], 'sobi-hamilton', 'Hamilton, ON'], [['CycleHop, LLC', 'Social Bicycles Inc.'], 'velogo', 'Ottawa, ON'], [['Clean Energy Coalition', 'BCycle, LLC'], 'arborbike', 'Ann Arbor, MI'], [['Comunicare S.r.l.'], 'pavia-in-bici', 'Pavia'], [['Comunicare S.r.l.'], 'bici-perugia', 'Perugia'], [['BCycle, LLC'], 'austin', 'Austin, TX'], [['Motivate International, Inc', 'PBSC'], 'bike-chattanooga', 'Chattanooga, TN'], [['Comunicare S.r.l.'], 'piacenza', 'Piacenza'], [['Comunicare S.r.l.'], 'pinerolo', 'Pinerolo'], [['Portland Bureau of Transportation (PBOT)', 'Motivate International, Inc', 'Social Bicycles Inc.'], 'biketown', 'Portland, OR'], [['Comunicare S.r.l.'], 'reggio-emilia', 'Reggio Emilia'], [['CycleHop, LLC', 'Social Bicycles Inc.'], 'britebikes', 'San Ramon, CA'], [['ValleyRide', 'Social Bicycles Inc.'], 'boise-greenbike', 'Boise, ID'], [['BCycle, LLC'], 'boulder', 'Boulder, CO'], [['CycleHop, LLC', 'Social Bicycles Inc.'], 'breeze-bike-share', 'Santa Monica, CA'], [['Comunicare S.r.l.'], 'rimini', 'Rimini'], [['BCycle, LLC'], 'broward', 'Fort Lauderdale, FL'], [['BCycle, LLC'], 'bublr-bikes', 'Milwaukee, WI'], [['Shared Mobility Inc.', 'Social Bicycles Inc.'], 'reddy-bike-share', 'Buffalo, NY'], [['Motivate International, Inc.', 'PBSC Urban Solutions'], 'capital-bikeshare', 'Washington, DC'], [['BCycle, LLC'], 'charlotte', 'Charlotte, NC'], [['Comunicare S.r.l.'], 'saluzzo', 'Saluzzo'], [['BCycle, LLC'], 'cincy-red-bike', 'Cincinnati, OH'], [['Comunicare S.r.l.'], 'savigliano', 'Savigliano'], [['NYC Bike Share, LLC', 'Motivate International, Inc.', 'PBSC Urban Solutions'], 'citi-bike-nyc', 'New York, NY'], [['CycleHop, LLC', 'Social Bicycles Inc.'], 'coast-bike-share', 'Tampa, FL'], [['Comunicare S.r.l.'], 'terni', 'Terni'], [['Motivate International, Inc.', 'PBSC Urban Solutions'], 'cogo', 'Columbus, OH'], [['BCycle, LLC'], 'denver', 'Denver, CO'], [['Motivate International, Inc.', 'PBSC Urban Solutions'], 'divvy', 'Chicago, IL'], [['Comunicare S.r.l.'], 'tirano-in-bici', 'Tirano'], [['BCycle, LLC'], 'elpaso', 'El Paso, TX'], [['BCycle, LLC'], 'fortworth', 'Fort Worth, TX'], [['Comunicare S.r.l.'], 'udine', 'Udine'], [['BCycle, LLC'], 'greatrides', 'Fargo, ND'], [['BCycle, LLC'], 'greenbikeslc', 'Salt Lake City'], [['CycleHop, LLC', 'Social Bicycles Inc.'], 'grid-bike-share', 'Phoenix, AZ'], [['BCycle, LLC'], 'omaha', 'Omaha, NE'], [['BCycle, LLC'], 'houston', 'Houston, TX'], [['Motivate International, Inc.', 'PBSC Urban Solutions'], 'blue-bikes', 'Boston, MA'], [['Comunicare S.r.l.'], 'ustica', 'Ustica'], [['City of Philadelphia', 'Bicycle Transit Systems', 'BCycle, LLC'], 'indego', 'Philadelphia, PA'], [['BCycle, LLC'], 'indiana-pacers-bikeshare', 'Indianapolis, IN'], [['CycleHop, LLC', 'Social Bicycles Inc.'], 'juice-bike-share', 'Orlando, FL'], [['Comunicare S.r.l.'], 'bici-co', 'Como'], [['BCycle, LLC'], 'kansascity', 'Kansas City, MO'], [['BCycle, LLC'], 'linkdayton', 'Dayton, OH'], [['BCycle, LLC'], 'madison', 'Madison, WI'], [['Los Angeles County Metropolitan Transportation Authority (Metro)', 'Bicycle Transit Systems', 'BCycle, LLC'], 'metro-bike-share', 'Los Angeles, CA'], [['Mountain Rides', 'Social Bicycles Inc.'], 'mountain-rides-bike-share', 'Ketchum / Sun Valley, ID'], [['Nice Ride Minnesota'], 'nice-ride', 'Minneapolis, MN'], [['Comunicare S.r.l.'], 'speziainbici', 'La Spezia'], [['BCycle, LLC'], 'sanantonio', 'San Antonio, TX'], [['Social Bicycles Inc.'], 'share-a-bull-bikes', 'University of South Florida, FL'], [['Comunicare S.r.l.'], 'venezia', 'Venezia'], [['Social Bicycles Inc.'], 'sobi-long-beach', 'Long Beach, NY'], [['BCycle, LLC'], 'spartanburg', 'Spartanburg, SC'], [['Topeka Metropolitan Transit Authority', 'Social Bicycles Inc.'], 'topeka-metro-bikes', 'Topeka, KS'], [['Comunicare S.r.l.'], 'to-bike', 'Torino'], [['Social Bicycles Inc.'], 'ubike', 'University of Virginia, VA'], [['Motivate International, Inc.'], 'ford-gobike', 'San Francisco Bay Area, CA'], [['CycleHop, LLC', 'Social Bicycles Inc'], 'relay-atlanta', 'Atlanta, GA'], [['Tembici', 'PBSC Urban Solutions'], 'bikerecife', 'Recife'], [['Tembici', 'PBSC Urban Solutions'], 'bikesampa', 'São Paulo'], [['Tembici', 'PBSC Urban Solutions'], 'bikerio', 'Rio de Janeiro'], [['Tembici', 'PBSC Urban Solutions'], 'bikesalvador', 'Salvador'], [['Tembici', 'PBSC Urban Solutions'], 'bikepoa', 'Porto Alegre'], [['BKT bici publica S.A. de C.V.', 'PBSC Urban Solutions'], 'mibici-guadalajara', 'Guadalajara'], [['Your Bike', 'Urban Sharing'], 'edinburgh-cycle-hire', 'Edinburgh'], [['PBSC', 'Alta Bicycle Share, Inc'], 'melbourne-bike-share', 'Melbourne'], [['PBSC Urban Solutions'], 'libelo', 'Valence'], [['Tembici', 'PBSC Urban Solutions'], 'bikesantiago', 'Santiago'], [None, 'oslo-bysykkel', 'Oslo'], [None, 'bergen-bysykkel', 'Bergen'], [None, 'trondheim-bysykkel', 'Trondheim'], [['Keolis', 'Rennes Metropole'], 'le-velo-star', 'Rennes'], [['Keolis Bordeaux Métropole'], 'v3-bordeaux', 'Bordeaux'], [['Keolis'], 'vlille', 'Lille'], [['Keolis', 'STAP'], 'idecycle', 'Pau'], [['Labici Bicicletas Públicas SL'], 'bicialtea', 'Altea'], [['Labici Bicicletas Públicas SL'], 'bicidorm', 'Benidorm'], [['Labici Bicicletas Públicas SL'], 'saforbici', 'Gandía'], [['Comunicare S.r.l.'], 'ciclopi', 'Pisa'], [['Labici Bicicletas Públicas SL'], 'gbici', 'Getafe'], [['Labici Bicicletas Públicas SL'], 'muybici', 'Murcia'], [['Labici Bicicletas Públicas SL'], 'ponfemobi', 'Ponferrada'], [['Labici Bicicletas Públicas SL'], 'vaibike', 'Vilagarcía de Arousa'], [['Comunicare S.r.l.'], 'cagliari', 'Cagliari'], [['Buenos Aires Ciudad'], 'ecobici-buenos-aires', 'Buenos Aires'], [['EMEL'], 'gira', 'Lisbon'], [['Comunicare S.r.l.'], 'gimme-bike', 'Varese'], [['JCDecaux'], 'cyclic', 'Rouen'], [['JCDecaux'], 'velo', 'Toulouse'], [['JCDecaux'], 'veloh', 'Luxembourg'], [['JCDecaux'], 'valenbisi', 'Valencia'], [['Comunicare S.r.l.'], 'sellero', 'Sellero'], [['JCDecaux'], 'goeteborg', 'Göteborg'], [['JCDecaux'], 'lundahoj', 'Lund'], [['Comunicare S.r.l.'], 'ugento', 'Ugento'], [['JCDecaux'], 'tusbic', 'Santander'], [['JCDecaux'], 'velam', 'Amiens'], [['JCDecaux'], 'bysykkel-lillestrom', 'Lillestrøm'], [['JCDecaux'], 'velocite-mulhouse', 'Mulhouse'], [['Comunicare S.r.l.'], 'prata-camportaccio', 'Prata Camportaccio'], [['JCDecaux'], 'velov', 'Lyon'], [['JCDecaux'], 'bicikelj', 'Ljubljana'], [['Comunicare S.r.l.'], 'civitavecchia', 'Civitavecchia'], [['JCDecaux'], 'sevici', 'Sevilla'], [['Comunicare S.r.l.'], 'longanoinbici', 'Barcellona Pozzo di Gotto'], [['JCDecaux'], 'li-bia-velo', 'Namur'], [['JCDecaux'], 'velostanlib', 'Nancy'], [['JCDecaux'], 'cristolib', 'Créteil'], [['JCDecaux'], 'villo', 'Bruxelles'], [['Comunicare S.r.l.'], 'cassano-d-adda', \"Cassano d'Adda\"], [['JCDecaux'], 'velo2', 'Cergy'], [['JCDecaux'], 'vilnius-cyclocity', 'Vilnius'], [['JCDecaux'], 'toyama-cyclocity', '富山市'], [['JCDecaux'], 'velik', 'Казань'], [['Comunicare S.r.l.'], 'bianzone-in-bici', 'Bianzone'], [['JCDecaux'], 'le-velo', 'Marseille'], [['JCDecaux'], 'bicloo', 'Nantes'], [['JCDecaux'], 'velocite-besancon', 'Besançon'], [['Comunicare S.r.l.'], 'rietinbici', 'Rieti'], [['JCDecaux'], 'dublinbikes', 'Dublin'], [['JCDecaux'], 'citycycle', 'Brisbane'], [None, 'bicipalma', 'Palma'], [['Cyacle Bicycle Rental LLC'], 'adcb-bikeshare', 'Abu Dhabi'], [['Comunicare S.r.l.'], 'castellucchio', 'Castellucchio'], [['Veolia'], 'dkvelo', 'Dunkerque'], [['Veolia'], 'velobleu', 'Nice'], [['Comunicare S.r.l.'], 'notoinbici', 'Noto'], [['Comunicare S.r.l.'], 'enna', 'Enna'], [['Comunicare S.r.l.'], 'pordenone', 'Pordenone'], [['Veolia'], 'velocea', 'Vannes'], [['Veolia'], 'vel-in', 'Calais'], [['Comunicare S.r.l.'], 'carbonia', 'Carbonia'], [['Municipiul Cluj-Napoca'], 'clujbike', 'Cluj-Napoca'], [['Comunicare S.r.l.'], 'mobike', 'Genova'], [['Prefeiture de Sorocaba', 'Urbes'], 'integrabike', 'Sorocaba'], [['Comunicare S.r.l.'], 'scegli-in-bici', 'Cremona'], [['Associação dos Amigos da Riviera de São Lourenço', 'Sobloco'], 'rivibike', 'São Lourenço'], [['Comunicare S.r.l.'], 'e-motion-trento', 'Trento'], [['Duke Energy Brasil', 'Governo de Ipaussu'], 'dukebike', 'Ipaússu'], [['Comunicare S.r.l.'], 'e-motion-pergine-valsugana', 'Pergine Valsugana'], [['Barcelona de Serveis Municipals, S.A. (BSM)', 'CESPA', 'PBSC'], 'bicing', 'Barcelona'], [['Baksi Bike Sharing System'], 'baksi-antalya', 'Antalya'], [['Baksi Bike Sharing System'], 'baksi-bisim', 'Izmir'], [['Comunicare S.r.l.'], 'e-motion-rovereto', 'Rovereto'], [['Baksi Bike Sharing System'], 'baksi-istanbul', 'Istanbul'], [['Baksi Bike Sharing System'], 'baksi-kobis', 'Kocaeli'], [['Gewista Werbegesellschaft m.b.H'], 'citybike-wien', 'Wien'], [['Helsinki City Transport', 'Helsinki Regional Transport', 'CityBikeFinland', 'Smoove SAS', 'Moventia', 'Alepa'], 'citybikes-helsinki', 'Helsinki'], [['Comunicare S.r.l.'], 'monopoli-bike', 'Monopoli'], [['Turku Region Traffic Föli', 'Nextbike Polska'], 'foli', 'Turku'], [['ITCL'], 'bicileon', 'León'], [['Comunicare S.r.l.'], 'bicimia', 'Brescia'], [['FSM Ground Services Ltd.'], 'telofun', \"Tel Aviv-Yaffo, Giv'atayim, Ramat-Gan\"], [['Comunicare S.r.l.'], 'andria', 'Andria'], [['Open Source Bike Share'], 'whitebikes', 'Bratislava'], [['Dopravný podnik Bratislava', 'Bratislavská integrovaná doprava, a.s.', 'Hlavné mesto SR Bratislava'], 'slovnaft-bajk', 'Bratislava'], [['Open Source Bike Share'], 'cykl', 'Wageningen'], [['Open Source Bike Share'], 'bicyklezadobreskutky', 'Prešov'], [['Social Bicycles Inc.'], 'socialbicycles-wavelo', 'Kraków'], [['Comunicare S.r.l.'], 'bicinquartucciu', 'Quartucciu'], [['Mainzer Verkehrsgesellschaft mbH (MVG)'], 'mvgmeinrad', 'Mainz'], [['Sistema de Bicicletas Públicas del Valle de Aburrá'], 'encicla', 'Medellin'], [['Comunicare S.r.l.'], 'olbia-bike', 'Olbia'], [['Vanncouver Bike Share Inc', 'CycleHop LLC', 'City of Vancouver', 'Smoove SAS'], 'mobibikes', 'Vancouver'], [['Comunicare S.r.l.'], 'savona', 'Savona'], [['Smoove'], 'c-velo', 'Clermont-Ferrand'], [['Smoove'], 'velivert', 'Saint-Étienne'], [['Comunicare S.r.l.'], 'brindisi', 'Brindisi'], [['Smoove'], 'velopop', 'Avignon'], [['Smoove'], 'batumvelo', 'Batumi'], [['Comunicare S.r.l.'], 'tradate', 'Tradate'], [['Mobilicidade Tecnologia LTD', 'Grupo Serttel LTDA'], 'bikebh', 'Belo Horizonte'], [['Mobilicidade Tecnologia LTD', 'Grupo Serttel LTDA'], 'bikepetrolina', 'Petrolina'], [['Comunicare S.r.l.'], 'jesinbici', 'Jesi'], [['Comunicare S.r.l.'], 'nbici', 'Pamplona'], [['Mobilicidade Tecnologia LTD', 'Grupo Serttel LTDA'], 'bikebrasilia', 'Brasília'], [['Mobilicidade Tecnologia LTD', 'Grupo Serttel LTDA'], 'debikegoiania', 'Goiânia'], [['Comunicare S.r.l.'], 'treviso', 'Treviso'], [['Mobilicidade Tecnologia LTD', 'Grupo Serttel LTDA'], 'bicicletar', 'Fortaleza'], [['Mobilicidade Tecnologia LTD', 'Grupo Serttel LTDA'], 'cajubike', 'Aracajú'], [['Mobilicidade Tecnologia LTD', 'Grupo Serttel LTDA'], 'bikebelem', 'Belém'], [['Comunicare S.r.l.'], 'sondrio', 'Sondrio'], [['Mobilicidade Tecnologia LTD', 'Grupo Serttel LTDA'], 'bikesantos', 'Santos'], [['Comunicare S.r.l.'], 'vercelli', 'Vercelli'], [['Comunicare S.r.l.'], 'portofino-park-and-bike', 'Santa Margherita Ligure - Portofino - Camogli'], [['Mobilicidade Tecnologia LTD', 'Municipalidad de Rosario'], 'mibicitubici', 'Rosario'], [['DecoBike LLC'], 'decobike-miami-beach', 'Miami Beach, FL'], [['DecoBike LLC'], 'decobike-san-diego', 'San Diego, CA'], [['Comunicare S.r.l.'], 'meglio-in-bici', 'Cernusco sul Naviglio - Pioltello - Carugate'], [['Trek Bicycle Corporation', 'Humana', 'Crispin Porter + Bogusky'], 'battlecreek', 'Battle Creek, MI'], [['Trek Bicycle Corporation', 'Humana', 'Crispin Porter + Bogusky'], 'desmoines', 'Des Moines, IA'], [['Comunicare S.r.l.'], 'ossola', 'Santa Maria Maggiore - Malesco - Villette'], [['Trek Bicycle Corporation', 'Humana', 'Crispin Porter + Bogusky'], 'greenville', 'Greenville, SC'], [['Comunicare S.r.l.'], 'bicincitta-mezzolombardo', 'Mezzolombardo'], [['Trek Bicycle Corporation', 'Humana', 'Crispin Porter + Bogusky'], 'nashville', 'Nashville, TN'], [['Comunicare S.r.l.'], 'bicincitta-lausanne-campus-morges', 'Lausanne - Morges - Campus'], [['Trek Bicycle Corporation', 'Humana', 'Crispin Porter + Bogusky'], 'columbia-county', 'Evans, GA'], [['Comunicare S.r.l.'], 'bicincitta-scafati', 'Scafati'], [['Trek Bicycle Corporation', 'Humana', 'Crispin Porter + Bogusky'], 'catbike', 'Savannah, GA'], [['Comunicare S.r.l.'], 'bicincitta-livorno', 'Livorno'], [['Trek Bicycle Corporation', 'Humana', 'Crispin Porter + Bogusky'], 'rapid-city', 'Rapid City, SD'], [['Comunicare S.r.l.'], 'bicincitta-valais-central', 'Sion'], [['Comunicare S.r.l.'], 'bicincitta-forli', 'Forlì'], [['Comunicare S.r.l.'], 'bicincitta-rivarolo-canavese', 'Rivarolo Canavese'], [['Comunicare S.r.l.'], 'bicincitta-monserrato', 'Monserrato'], [['Comunicare S.r.l.'], 'bicincitta-mezzocorona', 'Mezzocorona'], [['Comunicare S.r.l.'], 'bicincitta-san-lazzaro-di-savena', 'San Lazzaro di Savena'], [['Comunicare S.r.l.'], 'bicincitta-san-teodoro', 'San Teodoro'], [['Comunicare S.r.l.'], 'bicincitta-parco-molentargius-saline', 'Parco Naturale Molentargius - Saline'], [['Comunicare S.r.l.'], 'parkinbici', 'Parco Nazionale del Gargano'], [['Comunicare S.r.l.'], 'bicincitta-gallipoli', 'Gallipoli'], [['Comunicare S.r.l.'], 'bicincitta-castel-guelfo-the-style-outlets', 'Castel Guelfo di Bologna'], [['Comunicare S.r.l.'], 'bicincitta-san-michele-alladige', \"San Michele All'adige\"], [['Comunicare S.r.l.'], 'bicincitta-agglo-fribourg', 'Fribourg'], [['Comunicare S.r.l.'], 'bicincitta-modena', 'Modena'], [['Comunicare S.r.l.'], 'bicincitta-brancaleone', 'Brancaleone'], [['Comunicare S.r.l.'], 'bicincitta-bulle', 'Bulle'], [['Comunicare S.r.l.'], 'bicincitta-riviera', \"Distretto della Riviera-Pays-d'Enhaut\"], [['Comunicare S.r.l.'], 'bicincitta-scandiano', 'Scandiano'], [['Comunicare S.r.l.'], 'bicincitta-elmas', 'Elmas'], [['Comunicare S.r.l.'], 'bicincitta-tivat', 'TV'], [['Comunicare S.r.l.'], 'bicincitta-acquaviva-delle-fonti', 'Acquaviva delle fonti'], [['Comunicare S.r.l.'], 'we-love-bike', 'Lodi'], [['Comunicare S.r.l.'], 'bicincitta-acquarica-del-capo', 'Acquarica del Capo'], [['Comunicare S.r.l.'], 'bicincitta-vicolungo-the-style-outlets', 'Vicolungo'], [['Comunicare S.r.l.'], 'bicincitta-porto-torres', 'Porto Torres'], [['Comunicare S.r.l.'], 'bicincitta-cisterna-di-latina', 'Cisterna di Latina'], [['Comunicare S.r.l.'], 'bicincitta-casaletto-spartano', 'Casaletto Spartano'], [['Comunicare S.r.l.'], 'bicincitta-selargius', 'Selargius'], [['Comunicare S.r.l.'], 'bicincitta-yverdon-les-bains', 'Yverdon-les-Bains'], [['Comunicare S.r.l.'], 'bicincitta-monza', 'Monza'], [['Comunicare S.r.l.'], 'bicincitta-la-cote', 'Nyon'], [['Comunicare S.r.l.'], 'bicincitta-morigerati', 'Morigerati'], [['Comunicare S.r.l.'], 'bicincitta-san-donato-milanese', 'San Donato Milanese'], [['Comunicare S.r.l.'], 'bicincitta-chablais', 'Monthey - Aigle'], [['Comunicare S.r.l.'], 'bicincitta-ente-parco-del-circeo', 'Parco Nazionale del Circeo'], [['Comunicare S.r.l.'], 'bicincitta-cesena', 'Cesena'], [['Comunicare S.r.l.'], 'bicincitta-lugano-paradiso', 'Paradiso'], [['Comunicare S.r.l.'], 'lecco', 'Lecco'], [['Comunicare S.r.l.'], 'bicincitta-alghero', 'Alghero'], [['Comunicare S.r.l.'], 'bicincitta-san-giovanni-in-persiceto', 'San Giovanni in Persiceto'], [['Comunicare S.r.l.'], 'bicincitta-ente-parco-san-rossore', 'Parco naturale Migliarino San Rossore Massaciuccoli'], [['Comunicare S.r.l.'], 'bicincitta-treviglio', 'Treviglio'], [['Comunicare S.r.l.'], 'bicincitta-lavis', 'Lavis'], [['Comunicare S.r.l.'], 'bicincitta-les-lacs-romont', 'Murten'], [['Comunicare S.r.l.'], 'bicincitta-ente-parco-di-montemarcello-magra', 'Ente Parco Montemarcello Magra'], [['Comunicare S.r.l.'], 'bicischio', 'Schio'], [['Comunicare S.r.l.'], 'bicincitta-imola', 'Imola'], [['Nextbike GmbH'], 'nextbike-leipzig', 'Leipzig'], [['Nextbike GmbH'], 'norisbike-nurnberg', 'Nürnberg'], [['Nextbike GmbH'], 'nextbike-wiesbaden', 'Wiesbaden'], [['Nextbike GmbH'], 'visa-frankfurt', 'Frankfurt'], [['Nextbike GmbH'], 'kvb-rad-koln', 'Köln'], [['Nextbike GmbH'], 'facherrad-karlsruhe', 'Karlsruhe'], [['Nextbike GmbH'], 'burgenland-neusiedler-see', 'Neusiedler See'], [['Nextbike GmbH'], 'nextbike-offenbach-am-main', 'Offenbach am Main'], [['Nextbike GmbH'], 'nextbike-auckland', 'Auckland'], [['Nextbike GmbH'], 'nextbike-magdeburg', 'Magdeburg'], [['Nextbike GmbH'], 'nextbike-hamburg', 'Hamburg'], [['Nextbike GmbH'], 'nextbike-dusseldorf', 'Düsseldorf'], [['Nextbike GmbH'], 'nextbike-stpolten', 'St.Pölten'], [['Nextbike GmbH'], 'nextbike-modling', 'Mödling'], [['Nextbike GmbH'], 'nextbike-sursee', 'Sursee'], [['Nextbike GmbH'], 'nextbike-tubingen', 'Tübingen'], [['Nextbike GmbH'], 'nextbike-luzern', 'Luzern'], [['Nextbike GmbH'], 'sixt-riga', 'Rīga'], [['Nextbike GmbH'], 'metropolradruhr-dortmund', 'Dortmund'], [['Nextbike GmbH'], 'metropolradruhr-bochum', 'Bochum'], [['Nextbike GmbH'], 'metropolradruhr-bottrop', 'Bottrop'], [['Nextbike GmbH'], 'metropolradruhr-duisburg', 'Duisburg'], [['Nextbike GmbH'], 'metropolradruhr-essen', 'Essen'], [['Nextbike GmbH'], 'metropolradruhr-gelsenkirchen', 'Gelsenkirchen'], [['Nextbike GmbH'], 'metropolradruhr-hamm', 'Hamm'], [['Nextbike GmbH'], 'metropolradruhr-herne', 'Herne'], [['Nextbike GmbH'], 'metropolradruhr-mulheim-adr', 'Mülheim a.d.R.'], [['Nextbike GmbH'], 'metropolradruhr-oberhausen', 'Oberhausen'], [['Nextbike GmbH'], 'nextbike-munchen', 'München'], [['Nextbike GmbH'], 'sixt-jurmala', 'Jūrmala'], [['Nextbike GmbH'], 'nextbike-wachau', 'Wachau'], [['Nextbike GmbH'], 'nextbike-tulln', 'Tulln'], [['Nextbike GmbH'], 'nextbike-triestingtal', 'Triestingtal'], [['Nextbike GmbH'], 'nextbike-thermenregion', 'Thermenregion'], [['Nextbike GmbH'], 'nextbike-flensburg', 'Flensburg'], [['Nextbike GmbH'], 'wrm-wroclaw', 'Wrocław'], [['Nextbike GmbH'], 'nextbike-romerland', 'Römerland'], [['Nextbike GmbH'], 'nextbike-offenburg', 'Offenburg'], [['Nextbike GmbH'], 'nextbike-wrneustadt', 'Wr.Neustadt'], [['Nextbike GmbH'], 'nextbike-potsdam', 'Potsdam'], [['Nextbike GmbH'], 'nextbike-gutersloh', 'Gütersloh'], [['Nextbike GmbH'], 'nextbike-unteres-traisental', 'Unteres Traisental'], [['Nextbike GmbH'], 'nextbike-haag', 'Haag'], [['Nextbike GmbH'], 'nextbike-marchfeld', 'Marchfeld'], [['Nextbike GmbH'], 'nextbike-10vorwien', '10vorWien'], [['Nextbike GmbH'], 'usedomrad-usedom', 'Usedom'], [['Nextbike GmbH'], 'nextbike-norderstedt', 'Norderstedt'], [['Nextbike GmbH'], 'swa-rad-augsburg', 'Augsburg'], [['Nextbike GmbH'], 'nextbike-traisen-golsental', 'Traisen-Gölsental'], [['Nextbike GmbH'], 'nextbike-lunz-am-see', 'Lunz am See'], [['Nextbike GmbH'], 'nextbike-konya', 'Konya'], [['Nextbike GmbH'], 'nextbike-laa-an-der-thaya', 'Laa an der Thaya'], [['Nextbike GmbH'], 'nextbike-sudheide', 'Südheide'], [['Nextbike GmbH'], 'nextbike-limassol', 'Limassol'], [['Nextbike GmbH'], 'prm-poznan', 'Poznań'], [['Nextbike GmbH'], 'nextbike-christchurch', 'Christchurch'], [['Nextbike GmbH'], 'vrn-heidelberg', 'Heidelberg'], [['Nextbike GmbH'], 'vrn-mannheim', 'Mannheim'], [['Nextbike GmbH'], 'nextbike-tullnerfeld-west', 'Tullnerfeld West'], [['Nextbike GmbH'], 'stadtrad-innsbruck', 'Innsbruck'], [['Nextbike GmbH'], 'nextbike-nicosia', 'Nicosia'], [['Nextbike GmbH'], 'opole-bike-opole', 'Opole'], [['Nextbike GmbH'], 'veturilo-warszawa', 'Warszawa'], [['Nextbike GmbH'], 'nextbike-hollabrunn', 'Hollabrunn'], [['Nextbike GmbH'], 'nextbike-wienerwald', 'WienerWald'], [['Nextbike GmbH'], 'nextbike-dobrich', 'Dobrich'], [['Nextbike GmbH'], 'bykystations-uae-dubai', 'Dubai'], [['Nextbike GmbH'], 'nextbike-zagreb', 'Zagreb'], [['Nextbike GmbH'], 'ebikestation-bietigheim-bissingen', 'Bietigheim-Bissingen'], [['Nextbike GmbH'], 'nextbike-bath', 'Bath'], [['Nextbike GmbH'], 'nextbike-glasgow', 'Glasgow'], [['Nextbike GmbH'], 'belfastbikes-belfast', 'Belfast'], [['Nextbike GmbH'], 'nextbike-stirling', 'Stirling'], [['Nextbike GmbH'], 'biker-bialystok-bialystok', 'Białystok'], [['Nextbike GmbH'], 'krm-konstancinski-konstancin-jeziorna', 'Konstancin Jeziorna'], [['Nextbike GmbH'], 'grad-sibenik-sibenik', 'Šibenik'], [['Nextbike GmbH'], 'karbis-seferihisar', 'Seferihisar'], [['Nextbike GmbH'], 'lrm-lublin-lublin', 'Lublin'], [['Nextbike GmbH'], 'ebikestation-schwieberdingen', 'Schwieberdingen'], [['Nextbike GmbH'], 'healthy-ride-pittsburgh-pittsburgh', 'Pittsburgh'], [['Nextbike GmbH'], 'grm-grodzisk-grodzisk-mazowiecki', 'Grodzisk Mazowiecki'], [['Nextbike GmbH'], 'nextbike-quickborn', 'Quickborn'], [['Nextbike GmbH'], 'jerseybike-hoboken', 'Hoboken'], [['Nextbike GmbH'], 'jerseybike-weehawken', 'Weehawken'], [['Nextbike GmbH'], 'ibike-king-abdullah-economic-city', 'King Abdullah Economic City'], [['Nextbike GmbH'], 'vrn-ludwigshafen', 'Ludwigshafen'], [['Nextbike GmbH'], 'nextbike-university-of-warwick', 'Warwick'], [['Nextbike GmbH'], 'ebikestation-waiblingen', 'Waiblingen'], [['Nextbike GmbH'], 'vrn-speyer', 'Speyer'], [['Nextbike GmbH'], 'nextbike-lviv', 'Lviv'], [['Nextbike GmbH'], 'nextbike-wurzburg', 'Würzburg'], [['Nextbike GmbH'], 'skybike-west-palm-beach-west-palm-beach-florida', 'West Palm Beach Florida'], [['Nextbike GmbH'], 'nextbike-serfaus', 'Serfaus'], [['Nextbike GmbH'], 'ebikestation-vaihingen-an-der-enz', 'Vaihingen an der Enz'], [['Nextbike GmbH'], 'ebikestation-herrenberg', 'Herrenberg'], [['Nextbike GmbH'], 'ebikestation-goppingen', 'Göppingen'], [['Nextbike GmbH'], 'ebikestation-ludwigsburg', 'Ludwigsburg'], [['Nextbike GmbH'], 'grad-gospic-gospic', 'Gospić'], [['Nextbike GmbH'], 'ebikestation-holzgerlingen', 'Holzgerlingen'], [['Nextbike GmbH'], 'ebikestation-filderstadt', 'Filderstadt'], [['Nextbike GmbH'], 'ebikestation-kirchheim-am-neckar', 'Kirchheim am Neckar'], [['Nextbike GmbH'], 'ebikestation-schorndorf', 'Schorndorf'], [['Nextbike GmbH'], 'ebikestation-fellbach', 'Fellbach'], [['Nextbike GmbH'], 'ebikestation-remseck-am-neckar', 'Remseck am Neckar'], [['Nextbike GmbH'], 'nextbike-malta', 'Malta'], [['Nextbike GmbH'], 'grad-karlovac-karlovac', 'Karlovac'], [['Nextbike GmbH'], 'flashfleet-kent-state-university-kent-state-university', 'Kent State'], [['Nextbike GmbH'], 'grad-slavonski-brod-slavonski-brod', 'Slavonski Brod'], [['Nextbike GmbH'], 'nextbike-london', 'London'], [['Nextbike GmbH'], 'santander-cycles-mk-milton-keynes', 'Milton Keynes'], [['Nextbike GmbH'], 'bykystations-uae-al-ain', 'Al Ain'], [['Nextbike GmbH'], 'nextbike-hergiswil', 'Hergiswil'], [['Nextbike GmbH'], 'grad-makarska-makarska', 'Makarska'], [['Nextbike GmbH'], 'opcina-brinje-brinje', 'Brinje'], [['Nextbike GmbH'], 'grad-zadar-zadar', 'Zadar'], [['Nextbike GmbH'], 'grad-vukovar-vukovar', 'Vukovar'], [['Nextbike GmbH'], 'opcina-lastovo-lastovo', 'Lastovo'], [['Nextbike GmbH'], 'lodzki-rower-publiczny-lodz', 'Lódź'], [['Nextbike GmbH'], 'lrm-lublin-swidnik', 'Świdnik'], [['Nextbike GmbH'], 'vrn-bensheim', 'Bensheim'], [['Nextbike GmbH'], 'grad-ivanic-grad-ivanic-grad', 'Ivanic Grad'], [['Nextbike GmbH'], 'stalowa-wola-miasto-rowerow-stalowa-wola', 'Stalowa Wola'], [['Nextbike GmbH'], 'katowice-bike-katowice', 'Katowice'], [['Nextbike GmbH'], 'bike-s-srm-szczecin', 'Szczecin'], [['Nextbike GmbH'], 'ordu-bisikletli-ordu', 'Ordu'], [['Nextbike GmbH'], 'nextbike-sarajevo', 'Sarajevo'], [['Nextbike GmbH'], 'co-bikes-exeter', 'Exeter'], [['Nextbike GmbH'], 'rower-gminny-michalowice-michalowice', 'Michałowice'], [['Nextbike GmbH'], 'nextbike-auckland-waterfront', 'Auckland Waterfront'], [['Nextbike GmbH'], 'nextbike-berlin', 'Berlin'], [['Nextbike GmbH'], 'system-legnicki-rower-miejski-slrm-legnica', 'Legnica'], [['Nextbike GmbH'], 'nextbike-aruba', 'Aruba'], [['Nextbike GmbH'], 'nextbike-hyderabad', 'Hyderabad'], [['Nextbike GmbH'], 'sixt-jalgrattarent-tallinn', 'Tallinn'], [['Nextbike GmbH'], 'veturilo-stacje-sponsorskie-nextbike-veturilo', 'Warszawa'], [['Nextbike GmbH'], 'bike4all-byblos', 'Byblos'], [['Nextbike GmbH'], 'chartered-bike-bhopal-bhopal', 'Bhopal'], [['Nextbike GmbH'], 'nextbike-rotterdam', 'Rotterdam'], [['Nextbike GmbH'], 'wk-bike-bremen-bremen', 'Bremen'], [['Nextbike GmbH'], 'vrn-worms', 'Worms'], [['Nextbike GmbH'], 'nextbike-stans', 'Stans'], [['Nextbike GmbH'], 'nextbike-victoria', 'Victoria'], [['Nextbike GmbH'], 'nextbike-maastricht', 'Maastricht'], [['Nextbike GmbH'], 'nextbike-stansstad', 'Stansstad'], [['Nextbike GmbH'], 'byky-bikes-kuwait', 'Kuwait'], [['Nextbike GmbH'], 'nextbike-horw', 'Horw'], [['Nextbike GmbH'], 'vrn-burstadt', 'Bürstadt'], [['Nextbike GmbH'], 'gliwicki-rower-miejski-sgrm-gliwice', 'Gliwice'], [['Nextbike GmbH'], 'prm-stacje-sponsorskie-nextbike-prm', 'Poznań'], [['Nextbike GmbH'], 'nextbike-gross-enzersdorf', 'Groß Enzersdorf'], [['Nextbike GmbH'], 'nextbike-klagenfurt', 'Klagenfurt'], [['Nextbike GmbH'], 'vrn-kaiserslautern', 'Kaiserslautern'], [['Nextbike GmbH'], 'radomski-rower-miejski-radom', 'Radom'], [['Nextbike GmbH'], 'radomski-rower-miejski-stacje-sponsorskie-radom', 'Radom'], [['Nextbike GmbH'], 'smartbike-vijayawada-vijayawada', 'Vijayawada'], [['Nextbike GmbH'], 'sitycleta-las-palmas-las-palmas-de-gran-canaria', 'Las Palmas de Gran Canaria'], [['Nextbike GmbH'], 'system-rowerow-miejskich-w-pszczynie-pszczyna', 'Pszczyna'], [['Nextbike GmbH'], 'zgierski-rower-miejski-zgierz', 'Zgierz'], [['Nextbike GmbH'], 'tyski-rower-miejski-tychy', 'Tychy'], [['Nextbike GmbH'], 'nextbike-amstetten', 'Amstetten'], [['Nextbike GmbH'], 'grad-velika-gorica-velika-gorica', 'Velika Gorica'], [['Nextbike GmbH'], 'grad-sisak-sisak', 'Sisak'], [['Nextbike GmbH'], 'nextbike-salzburg', 'Salzburg '], [['Nextbike GmbH'], 'ok-bike-kedzierzyn-kozle', 'Kędzierzyn-Koźle'], [['Nextbike GmbH'], 'kolobrzeski-rower-miejski-kolobrzeg', 'Kołobrzeg'], [['Nextbike GmbH'], 'siedlecki-rower-miejski-siedlce', 'Siedlce'], [['Nextbike GmbH'], 'grad-metkovic-metkovic', 'Metković'], [['Nextbike GmbH'], 'jastrebarsko-jastrebarsko', 'Jastrebarsko'], [['Nextbike GmbH'], 'grad-drnis-drnis', 'Drniš'], [['Nextbike GmbH'], 'nextbike-tuzla', 'Tuzla'], [['Nextbike GmbH'], 'nextbike-panama', 'Panama'], [['Nextbike GmbH'], 'porec-bike-share-porec', 'Poreč'], [['Nextbike GmbH'], 'arriva-nitra', 'Nitra'], [['Nextbike GmbH'], 'kaliski-rower-miejski-kalisz', 'Kalisz'], [['Nextbike GmbH'], 'nextbike-marburg', 'Marburg'], [['Nextbike GmbH'], 'bubi', 'Budapest'], [['Nextbike GmbH'], 'nextbike-russelsheim-am-main', 'Rüsselsheim am Main'], [['Nextbike GmbH'], 'pruszkowski-rower-miejski-pruszkow', 'Pruszków'], [['Nextbike GmbH'], 'rower-miejski-szamotuly-rms-szamotuly', 'Szamotuły'], [['Nextbike GmbH'], 'nextbike-dordrecht', 'Dordrecht'], [['Nextbike GmbH'], 'vrn-heppenheim', 'Heppenheim'], [['Nextbike GmbH'], 'czestochowski-rower-miejski-czestochowa', 'Częstochowa'], [['Nextbike GmbH'], 'rower-miejski-w-ostrowie-wielkopolskim-ostrow-wielkopolski', 'Ostrów Wielkopolski'], [['Nextbike GmbH'], 'jerseybike-bayonne', 'Bayonne'], [['Nextbike GmbH'], 'jerseybike-guttenberg', 'Guttenberg'], [['Nextbike GmbH'], 'jerseybike-west-new-york', 'West New York'], [['Nextbike GmbH'], 'dundee-navigogo-dundee', 'Dundee'], [['Nextbike GmbH'], 'piaseczynski-rower-miejski-piaseczno', 'Piaseczno'], [['Nextbike GmbH'], 'nextbike-kassel', 'Kassel'], [['Nextbike GmbH'], 'nextbike-sarnen', 'Sarnen'], [['Nextbike GmbH'], 'nextbike-wolfenschiessen', 'Wolfenschiessen'], [['Nextbike GmbH'], 'nextbike-oberdorf', 'Oberdorf'], [['Nextbike GmbH'], 'jerseybike-north-bergen', 'North Bergen'], [['Nextbike GmbH'], 'nextbike-giessen', 'Gießen'], [['Nextbike GmbH'], 'vrn-weinheim', 'Weinheim'], [['Nextbike GmbH'], 'biker-bialystok-orlen-bialystok', 'Białystok'], [['Nextbike GmbH'], 'lrm-lublin-orlen-lublin', 'Lublin'], [['Nextbike GmbH'], 'wrm-orlen-wroclaw', 'Wrocław'], [['Nextbike GmbH'], 'lodzki-rower-publiczny-orlen-lodz', 'Łódź'], [['Nextbike GmbH'], 'katowice-bike-orlen-katowice', 'Katowice'], [['Nextbike GmbH'], 'veturilo-orlen-warszawa', 'Warszawa'], [['Nextbike GmbH'], 'nextbike-cardiff', 'Cardiff'], [['Nextbike GmbH'], 'vrn-hockenheim', 'Hockenheim'], [['Nextbike GmbH'], 'vrn-schwetzingen', 'Schwetzingen'], [['Nextbike GmbH'], 'nextbike-ennetmoos', 'Ennetmoos'], [['Nextbike GmbH'], 'vrn-eppelheim', 'Eppelheim'], [['Nextbike GmbH'], 'nextbike-university-of-surrey', 'Surrey'], [['Nextbike GmbH'], 'santander-cycles-swansea-swansea-university', 'Swansea'], [['Nextbike GmbH'], 'nextbike-kussnacht-sz', 'Küssnacht SZ'], [['Nextbike GmbH'], 'nextbike-erfurt', 'Erfurt'], [['Nextbike GmbH'], 'bl-bike-banja-luka', 'Banja Luka'], [['Nextbike GmbH'], 'koszalinski-rower-miejski-koszalin', 'Koszalin'], [['Nextbike GmbH'], 'sosnowiecki-rower-miejski-sosnowiec', 'Sosnowiec'], [['Nextbike GmbH'], 'zabrzanski-rower-miejski-zabrze', 'Zabrze'], [['Nextbike GmbH'], 'jerseybike-liberty-state-park', 'Liberty State Park'], [['Nextbike GmbH'], 'chartered-bike-bhopal-tata-motors', 'Bhopal'], [['Nextbike GmbH'], 'pobiedziski-rower-gminny-pobiedziska', 'Pobiedziska'], [['Nextbike GmbH'], 'lahr-pedelecs-lahr', 'Lahr'], [['Nextbike GmbH'], 'berlin-buch-campus-berlin-buch', 'Berlin'], [['Nextbike GmbH'], 'nextbike-jastrzebie-zdroj', 'Jastrzębie-Zdrój'], [['Nextbike GmbH'], 'smartbike-delhi-delhi', 'Delhi'], [['Nextbike GmbH'], 'nextbike-swietochlowice', 'Świętochłowice'], [['Nextbike GmbH'], 'piotrkowski-rower-miejski-piotrkow-trybunalski', 'Piotrków Trybunalski'], [['Nextbike GmbH'], 'siemianowicki-rower-miejski-siemianowice-slaskie', 'Siemianowice Śląskie'], [['Nextbike GmbH'], 'nextbike-turin', 'Turin'], [['Nextbike GmbH'], 'plocki-rower-miejski-prm-plock', 'Płock'], [['Nextbike GmbH'], 'lviv-kharkiv', 'Kharkiv'], [['Nextbike GmbH'], 'ciechanowski-rower-miejski-ciechanow', 'Ciechanów'], [['Nextbike GmbH'], 'lviv-odessa', 'Odessa'], [['Nextbike GmbH'], 'otwocki-rower-miejski-otwock', 'Otwock'], [['Nextbike GmbH'], 'tychowski-rower-miejski-tychowo', 'Tychowo'], [['Nextbike GmbH'], 'zielonogorski-rower-miejski-zielona-gora', 'Zielona Góra'], [['Nextbike GmbH'], 'santander-monchengladbach', 'Mönchengladbach'], [['Nextbike GmbH'], 'nomagobikes-celje', 'Celje'], [['Nextbike GmbH'], 'bilbon-bizi', 'Bilbao'], [['Nextbike GmbH'], 'tychowski-rower-miejski-atrakcje-turystyczne-tychowo', 'Tychowo'], [['Nextbike GmbH'], 'nomagobikes-lasko', 'Laško'], [['Nextbike GmbH'], 'nextbike-lippstadt', 'Lippstadt'], [['Nextbike GmbH'], 'bikekia-zilina', 'Žilina'], [['Nextbike GmbH'], 'koninski-rower-miejski-konin', 'Konin'], [['Nextbike GmbH'], 'nextbike-vinnytsia', 'Vinnytsia'], [['Nextbike GmbH'], 'nextbike-bonn', 'Bonn'], [['Nextbike GmbH'], 'tarnowski-rower-miejski-tarnow', 'Tarnów'], [['Nextbike GmbH'], 'kolo-marek-marki', 'Marki'], [['Nextbike GmbH'], 'zyrardowski-rower-miejski-zyrardow', 'Żyrardów'], [['Nextbike GmbH'], 'kajteroz-chorzowski-rower-miejski-chorzow', 'Chorzów'], [['Nextbike GmbH'], 'rowerowe-lodzkie-rl-koluszki', 'Koluszki'], [['Nextbike GmbH'], 'rowerowe-lodzkie-rl-lask', 'Łask'], [['Nextbike GmbH'], 'rowerowe-lodzkie-rl-lowicz', 'Łowicz'], [['Nextbike GmbH'], 'rowerowe-lodzkie-rl-pabianice', 'Pabianice'], [['Nextbike GmbH'], 'rowerowe-lodzkie-rl-sieradz', 'Sieradz'], [['Nextbike GmbH'], 'rowerowe-lodzkie-rl-skierniewice', 'Skierniewice'], [['Nextbike GmbH'], 'rowerowe-lodzkie-rl-zdunska-wola', 'Zduńska Wola'], [['Nextbike GmbH'], 'rowerowe-lodzkie-rl-zgierz', 'Zgierz'], [['Nextbike GmbH'], 'rowerowe-lodzkie-rl-kutno', 'Kutno'], [['Nextbike GmbH'], 'rowerowe-lodzkie-rl-lodz-rl', 'Łódź'], [['Nextbike GmbH'], 'nextbike-odesa', 'Odesa'], [['Nextbike GmbH'], 'nextbike-alvsjo', 'Älvsjö'], [['Nextbike GmbH'], 'nextbike-wittenberge', 'Wittenberge'], [['Nextbike GmbH'], 'frelo-freiburg', 'Freiburg'], [['Comunicare S.r.l.'], 'bicincitta-trieste', 'Trieste'], [['Nextbike GmbH'], 'mobibike-dresden', 'Dresden'], [['ЗАО «СитиБайк»'], 'velobike-murmansk', 'Murmansk'], [['ЗАО «СитиБайк»'], 'velobike-nizhniy-novgorod', 'Nizhniy Novgorod']]\n"
     ]
    }
   ],
   "source": [
    "response = requests.get('http://api.citybik.es/v2/networks')\n",
    "print(response.url)\n",
    "\n",
    "network_list = []\n",
    "for network_info in response.json()['networks']:\n",
    "    network_list.append([network_info['company'], network_info['id'], network_info['location']['city']])\n",
    "    \n",
    "print(network_list)"
   ]
  },
  {
   "cell_type": "markdown",
   "metadata": {},
   "source": [
    "### Ejercicio evaluación\n",
    "\n",
    "Ejercicio\n",
    "Utiliza el API de CityBikes, para obtener todas las redes de bicicletas en Aranda de Duero.\n",
    " \n",
    "* Muestra el resultado en formato JSON\n",
    "\n",
    "Recoge los siguientes datos y crea un dataframe con ellos:\n",
    "\n",
    "* Nombre de la compañia\n",
    "* id de la compañía\n",
    "* Ciudad donde se encuentra\n",
    "* Estaciones 'stations' y dentro de ellas sus 'empty_slots' y 'free_bikes' y nombre de la estación 'name'"
   ]
  },
  {
   "cell_type": "code",
   "execution_count": 61,
   "metadata": {
    "scrolled": false
   },
   "outputs": [
    {
     "name": "stdout",
     "output_type": "stream",
     "text": [
      "http://api.citybik.es/v2/networks\n",
      "      Company                      Id             City  \\\n",
      "0  [Domoblue]  onroll-aranda-de-duero  Aranda de Duero   \n",
      "\n",
      "                                            Stations  \n",
      "0  [[Avenida de Burgos, 11, 0, 41.672017, -3.6795...  \n"
     ]
    }
   ],
   "source": [
    "import pandas as pd\n",
    "\n",
    "response = requests.get('http://api.citybik.es/v2/networks')\n",
    "print(response.url)\n",
    "\n",
    "network_list = []\n",
    "for network_info in response.json()['networks']:\n",
    "    stations = []\n",
    "    if (network_info['location']['city'] == 'Aranda de Duero') :        \n",
    "        responseStations = requests.get('http://api.citybik.es/v2/networks/' + network_info['id'])\n",
    "        for station_info in responseStations.json()['network']['stations']:\n",
    "            stations.append([station_info['name'], station_info['empty_slots'], station_info['free_bikes'], station_info['latitude'], station_info['longitude']])\n",
    "        network_list.append([network_info['company'], network_info['id'], network_info['location']['city'], stations])\n",
    "        \n",
    "network_df = pd.DataFrame(data=network_list, columns=['Company', 'Id', 'City', 'Stations'])\n",
    "print(network_df)"
   ]
  },
  {
   "cell_type": "markdown",
   "metadata": {},
   "source": [
    "### Ejercicio evaluación\n",
    "\n",
    "Pinta en un mapa de [folium](http://python-visualization.github.io/folium/quickstart.html) las estaciones del ejercicio anterior.\n",
    "\n",
    "Opcional:\n",
    "\n",
    "* Pinta el marcador en rojo si hay menos de un 20% de las bicis disponibles en este momento, en naranja si está entre el 20% - 50%, y verde si hay más\n",
    "* Pinta un tooltip con el nombre de la estación"
   ]
  },
  {
   "cell_type": "code",
   "execution_count": 79,
   "metadata": {
    "scrolled": true
   },
   "outputs": [
    {
     "name": "stdout",
     "output_type": "stream",
     "text": [
      "['Avenida Castilla', 11, 0, 41.658614, -3.692539]\n"
     ]
    },
    {
     "data": {
      "text/html": [
       "<div style=\"width:100%;\"><div style=\"position:relative;width:100%;height:0;padding-bottom:60%;\"><span style=\"color:#565656\">Make this Notebook Trusted to load map: File -> Trust Notebook</span><iframe src=\"about:blank\" style=\"position:absolute;width:100%;height:100%;left:0;top:0;border:none !important;\" data-html=PCFET0NUWVBFIGh0bWw+CjxoZWFkPiAgICAKICAgIDxtZXRhIGh0dHAtZXF1aXY9ImNvbnRlbnQtdHlwZSIgY29udGVudD0idGV4dC9odG1sOyBjaGFyc2V0PVVURi04IiAvPgogICAgCiAgICAgICAgPHNjcmlwdD4KICAgICAgICAgICAgTF9OT19UT1VDSCA9IGZhbHNlOwogICAgICAgICAgICBMX0RJU0FCTEVfM0QgPSBmYWxzZTsKICAgICAgICA8L3NjcmlwdD4KICAgIAogICAgPHNjcmlwdCBzcmM9Imh0dHBzOi8vY2RuLmpzZGVsaXZyLm5ldC9ucG0vbGVhZmxldEAxLjYuMC9kaXN0L2xlYWZsZXQuanMiPjwvc2NyaXB0PgogICAgPHNjcmlwdCBzcmM9Imh0dHBzOi8vY29kZS5qcXVlcnkuY29tL2pxdWVyeS0xLjEyLjQubWluLmpzIj48L3NjcmlwdD4KICAgIDxzY3JpcHQgc3JjPSJodHRwczovL21heGNkbi5ib290c3RyYXBjZG4uY29tL2Jvb3RzdHJhcC8zLjIuMC9qcy9ib290c3RyYXAubWluLmpzIj48L3NjcmlwdD4KICAgIDxzY3JpcHQgc3JjPSJodHRwczovL2NkbmpzLmNsb3VkZmxhcmUuY29tL2FqYXgvbGlicy9MZWFmbGV0LmF3ZXNvbWUtbWFya2Vycy8yLjAuMi9sZWFmbGV0LmF3ZXNvbWUtbWFya2Vycy5qcyI+PC9zY3JpcHQ+CiAgICA8bGluayByZWw9InN0eWxlc2hlZXQiIGhyZWY9Imh0dHBzOi8vY2RuLmpzZGVsaXZyLm5ldC9ucG0vbGVhZmxldEAxLjYuMC9kaXN0L2xlYWZsZXQuY3NzIi8+CiAgICA8bGluayByZWw9InN0eWxlc2hlZXQiIGhyZWY9Imh0dHBzOi8vbWF4Y2RuLmJvb3RzdHJhcGNkbi5jb20vYm9vdHN0cmFwLzMuMi4wL2Nzcy9ib290c3RyYXAubWluLmNzcyIvPgogICAgPGxpbmsgcmVsPSJzdHlsZXNoZWV0IiBocmVmPSJodHRwczovL21heGNkbi5ib290c3RyYXBjZG4uY29tL2Jvb3RzdHJhcC8zLjIuMC9jc3MvYm9vdHN0cmFwLXRoZW1lLm1pbi5jc3MiLz4KICAgIDxsaW5rIHJlbD0ic3R5bGVzaGVldCIgaHJlZj0iaHR0cHM6Ly9tYXhjZG4uYm9vdHN0cmFwY2RuLmNvbS9mb250LWF3ZXNvbWUvNC42LjMvY3NzL2ZvbnQtYXdlc29tZS5taW4uY3NzIi8+CiAgICA8bGluayByZWw9InN0eWxlc2hlZXQiIGhyZWY9Imh0dHBzOi8vY2RuanMuY2xvdWRmbGFyZS5jb20vYWpheC9saWJzL0xlYWZsZXQuYXdlc29tZS1tYXJrZXJzLzIuMC4yL2xlYWZsZXQuYXdlc29tZS1tYXJrZXJzLmNzcyIvPgogICAgPGxpbmsgcmVsPSJzdHlsZXNoZWV0IiBocmVmPSJodHRwczovL3Jhd2Nkbi5naXRoYWNrLmNvbS9weXRob24tdmlzdWFsaXphdGlvbi9mb2xpdW0vbWFzdGVyL2ZvbGl1bS90ZW1wbGF0ZXMvbGVhZmxldC5hd2Vzb21lLnJvdGF0ZS5jc3MiLz4KICAgIDxzdHlsZT5odG1sLCBib2R5IHt3aWR0aDogMTAwJTtoZWlnaHQ6IDEwMCU7bWFyZ2luOiAwO3BhZGRpbmc6IDA7fTwvc3R5bGU+CiAgICA8c3R5bGU+I21hcCB7cG9zaXRpb246YWJzb2x1dGU7dG9wOjA7Ym90dG9tOjA7cmlnaHQ6MDtsZWZ0OjA7fTwvc3R5bGU+CiAgICAKICAgICAgICAgICAgPG1ldGEgbmFtZT0idmlld3BvcnQiIGNvbnRlbnQ9IndpZHRoPWRldmljZS13aWR0aCwKICAgICAgICAgICAgICAgIGluaXRpYWwtc2NhbGU9MS4wLCBtYXhpbXVtLXNjYWxlPTEuMCwgdXNlci1zY2FsYWJsZT1ubyIgLz4KICAgICAgICAgICAgPHN0eWxlPgogICAgICAgICAgICAgICAgI21hcF9lYjM3YTcwNDAzNDY0NjAyOGJiMzc4NTlkYTk1OGYyZCB7CiAgICAgICAgICAgICAgICAgICAgcG9zaXRpb246IHJlbGF0aXZlOwogICAgICAgICAgICAgICAgICAgIHdpZHRoOiAxMDAuMCU7CiAgICAgICAgICAgICAgICAgICAgaGVpZ2h0OiAxMDAuMCU7CiAgICAgICAgICAgICAgICAgICAgbGVmdDogMC4wJTsKICAgICAgICAgICAgICAgICAgICB0b3A6IDAuMCU7CiAgICAgICAgICAgICAgICB9CiAgICAgICAgICAgIDwvc3R5bGU+CiAgICAgICAgCjwvaGVhZD4KPGJvZHk+ICAgIAogICAgCiAgICAgICAgICAgIDxkaXYgY2xhc3M9ImZvbGl1bS1tYXAiIGlkPSJtYXBfZWIzN2E3MDQwMzQ2NDYwMjhiYjM3ODU5ZGE5NThmMmQiID48L2Rpdj4KICAgICAgICAKPC9ib2R5Pgo8c2NyaXB0PiAgICAKICAgIAogICAgICAgICAgICB2YXIgbWFwX2ViMzdhNzA0MDM0NjQ2MDI4YmIzNzg1OWRhOTU4ZjJkID0gTC5tYXAoCiAgICAgICAgICAgICAgICAibWFwX2ViMzdhNzA0MDM0NjQ2MDI4YmIzNzg1OWRhOTU4ZjJkIiwKICAgICAgICAgICAgICAgIHsKICAgICAgICAgICAgICAgICAgICBjZW50ZXI6IFs0MS42NzIxLCAtMy42ODYyXSwKICAgICAgICAgICAgICAgICAgICBjcnM6IEwuQ1JTLkVQU0czODU3LAogICAgICAgICAgICAgICAgICAgIHpvb206IDE1LAogICAgICAgICAgICAgICAgICAgIHpvb21Db250cm9sOiB0cnVlLAogICAgICAgICAgICAgICAgICAgIHByZWZlckNhbnZhczogZmFsc2UsCiAgICAgICAgICAgICAgICB9CiAgICAgICAgICAgICk7CgogICAgICAgICAgICAKCiAgICAgICAgCiAgICAKICAgICAgICAgICAgdmFyIHRpbGVfbGF5ZXJfMGI1ZTBhNmI1NGU5NDNhNWIyZDhkZGM1OTg2ZGIwYTMgPSBMLnRpbGVMYXllcigKICAgICAgICAgICAgICAgICJodHRwczovL3tzfS50aWxlLm9wZW5zdHJlZXRtYXAub3JnL3t6fS97eH0ve3l9LnBuZyIsCiAgICAgICAgICAgICAgICB7ImF0dHJpYnV0aW9uIjogIkRhdGEgYnkgXHUwMDI2Y29weTsgXHUwMDNjYSBocmVmPVwiaHR0cDovL29wZW5zdHJlZXRtYXAub3JnXCJcdTAwM2VPcGVuU3RyZWV0TWFwXHUwMDNjL2FcdTAwM2UsIHVuZGVyIFx1MDAzY2EgaHJlZj1cImh0dHA6Ly93d3cub3BlbnN0cmVldG1hcC5vcmcvY29weXJpZ2h0XCJcdTAwM2VPRGJMXHUwMDNjL2FcdTAwM2UuIiwgImRldGVjdFJldGluYSI6IGZhbHNlLCAibWF4TmF0aXZlWm9vbSI6IDE4LCAibWF4Wm9vbSI6IDE4LCAibWluWm9vbSI6IDAsICJub1dyYXAiOiBmYWxzZSwgIm9wYWNpdHkiOiAxLCAic3ViZG9tYWlucyI6ICJhYmMiLCAidG1zIjogZmFsc2V9CiAgICAgICAgICAgICkuYWRkVG8obWFwX2ViMzdhNzA0MDM0NjQ2MDI4YmIzNzg1OWRhOTU4ZjJkKTsKICAgICAgICAKICAgIAogICAgICAgICAgICB2YXIgbWFya2VyX2E3NmZmYjYyM2E1YzQ5OTM5OGViYWQwNGIyMjMyZDEyID0gTC5tYXJrZXIoCiAgICAgICAgICAgICAgICBbNDEuNjcyMDE3LCAtMy42Nzk1MDhdLAogICAgICAgICAgICAgICAge30KICAgICAgICAgICAgKS5hZGRUbyhtYXBfZWIzN2E3MDQwMzQ2NDYwMjhiYjM3ODU5ZGE5NThmMmQpOwogICAgICAgIAogICAgCiAgICAgICAgICAgIHZhciBpY29uX2QwYTg1MjE4NTBiNTQyMTc5YWNhNDM5MTgxZjNlMTc1ID0gTC5Bd2Vzb21lTWFya2Vycy5pY29uKAogICAgICAgICAgICAgICAgeyJleHRyYUNsYXNzZXMiOiAiZmEtcm90YXRlLTAiLCAiaWNvbiI6ICJpbmZvLXNpZ24iLCAiaWNvbkNvbG9yIjogIndoaXRlIiwgIm1hcmtlckNvbG9yIjogInJlZCIsICJwcmVmaXgiOiAiZ2x5cGhpY29uIn0KICAgICAgICAgICAgKTsKICAgICAgICAgICAgbWFya2VyX2E3NmZmYjYyM2E1YzQ5OTM5OGViYWQwNGIyMjMyZDEyLnNldEljb24oaWNvbl9kMGE4NTIxODUwYjU0MjE3OWFjYTQzOTE4MWYzZTE3NSk7CiAgICAgICAgCiAgICAKICAgICAgICB2YXIgcG9wdXBfOWI2MTYyZTM4NGE4NDEzN2EwNDc0ZGU3MTc2Y2M1NGQgPSBMLnBvcHVwKHsibWF4V2lkdGgiOiAiMTAwJSJ9KTsKCiAgICAgICAgCiAgICAgICAgICAgIHZhciBodG1sXzM3MWYzYzFjZjFlNzQyMGE4OTM1OGRkZDMwYjQ3NjllID0gJChgPGRpdiBpZD0iaHRtbF8zNzFmM2MxY2YxZTc0MjBhODkzNThkZGQzMGI0NzY5ZSIgc3R5bGU9IndpZHRoOiAxMDAuMCU7IGhlaWdodDogMTAwLjAlOyI+PC9kaXY+YClbMF07CiAgICAgICAgICAgIHBvcHVwXzliNjE2MmUzODRhODQxMzdhMDQ3NGRlNzE3NmNjNTRkLnNldENvbnRlbnQoaHRtbF8zNzFmM2MxY2YxZTc0MjBhODkzNThkZGQzMGI0NzY5ZSk7CiAgICAgICAgCgogICAgICAgIG1hcmtlcl9hNzZmZmI2MjNhNWM0OTkzOThlYmFkMDRiMjIzMmQxMi5iaW5kUG9wdXAocG9wdXBfOWI2MTYyZTM4NGE4NDEzN2EwNDc0ZGU3MTc2Y2M1NGQpCiAgICAgICAgOwoKICAgICAgICAKICAgIAogICAgCiAgICAgICAgICAgIG1hcmtlcl9hNzZmZmI2MjNhNWM0OTkzOThlYmFkMDRiMjIzMmQxMi5iaW5kVG9vbHRpcCgKICAgICAgICAgICAgICAgIGA8ZGl2PgogICAgICAgICAgICAgICAgICAgICBBdmVuaWRhIGRlIEJ1cmdvcwogICAgICAgICAgICAgICAgIDwvZGl2PmAsCiAgICAgICAgICAgICAgICB7InN0aWNreSI6IHRydWV9CiAgICAgICAgICAgICk7CiAgICAgICAgCiAgICAKICAgICAgICAgICAgdmFyIG1hcmtlcl8wZDYzMWE3MDdmMTI0NmViOWY5MDg5MWQ5MDc4OWIzNCA9IEwubWFya2VyKAogICAgICAgICAgICAgICAgWzQxLjY1ODYxNCwgLTMuNjkyNTM5XSwKICAgICAgICAgICAgICAgIHt9CiAgICAgICAgICAgICkuYWRkVG8obWFwX2ViMzdhNzA0MDM0NjQ2MDI4YmIzNzg1OWRhOTU4ZjJkKTsKICAgICAgICAKICAgIAogICAgICAgICAgICB2YXIgaWNvbl84MzVkNGFlMmNmOWY0Y2FkODBiNmRjMDQ4ZmVlNjQwYSA9IEwuQXdlc29tZU1hcmtlcnMuaWNvbigKICAgICAgICAgICAgICAgIHsiZXh0cmFDbGFzc2VzIjogImZhLXJvdGF0ZS0wIiwgImljb24iOiAiaW5mby1zaWduIiwgImljb25Db2xvciI6ICJ3aGl0ZSIsICJtYXJrZXJDb2xvciI6ICJyZWQiLCAicHJlZml4IjogImdseXBoaWNvbiJ9CiAgICAgICAgICAgICk7CiAgICAgICAgICAgIG1hcmtlcl8wZDYzMWE3MDdmMTI0NmViOWY5MDg5MWQ5MDc4OWIzNC5zZXRJY29uKGljb25fODM1ZDRhZTJjZjlmNGNhZDgwYjZkYzA0OGZlZTY0MGEpOwogICAgICAgIAogICAgCiAgICAgICAgdmFyIHBvcHVwXzc1NDY0OThmY2ViODQ3N2FiMjAyNTM5ZWZlOGM2ZGM0ID0gTC5wb3B1cCh7Im1heFdpZHRoIjogIjEwMCUifSk7CgogICAgICAgIAogICAgICAgICAgICB2YXIgaHRtbF8xYTA2ZTgxZjFjN2U0YzZhOThjMWU4OTI5NGFiMjM0NCA9ICQoYDxkaXYgaWQ9Imh0bWxfMWEwNmU4MWYxYzdlNGM2YTk4YzFlODkyOTRhYjIzNDQiIHN0eWxlPSJ3aWR0aDogMTAwLjAlOyBoZWlnaHQ6IDEwMC4wJTsiPjwvZGl2PmApWzBdOwogICAgICAgICAgICBwb3B1cF83NTQ2NDk4ZmNlYjg0NzdhYjIwMjUzOWVmZThjNmRjNC5zZXRDb250ZW50KGh0bWxfMWEwNmU4MWYxYzdlNGM2YTk4YzFlODkyOTRhYjIzNDQpOwogICAgICAgIAoKICAgICAgICBtYXJrZXJfMGQ2MzFhNzA3ZjEyNDZlYjlmOTA4OTFkOTA3ODliMzQuYmluZFBvcHVwKHBvcHVwXzc1NDY0OThmY2ViODQ3N2FiMjAyNTM5ZWZlOGM2ZGM0KQogICAgICAgIDsKCiAgICAgICAgCiAgICAKICAgIAogICAgICAgICAgICBtYXJrZXJfMGQ2MzFhNzA3ZjEyNDZlYjlmOTA4OTFkOTA3ODliMzQuYmluZFRvb2x0aXAoCiAgICAgICAgICAgICAgICBgPGRpdj4KICAgICAgICAgICAgICAgICAgICAgQXZlbmlkYSBDYXN0aWxsYQogICAgICAgICAgICAgICAgIDwvZGl2PmAsCiAgICAgICAgICAgICAgICB7InN0aWNreSI6IHRydWV9CiAgICAgICAgICAgICk7CiAgICAgICAgCiAgICAKICAgICAgICAgICAgdmFyIG1hcmtlcl8wMzhmOGFjMzQwNmY0ZjFhOTM3MWY3MzdlMjdlYmM5ZCA9IEwubWFya2VyKAogICAgICAgICAgICAgICAgWzQxLjY3NjU5NCwgLTMuNjg1NjkyXSwKICAgICAgICAgICAgICAgIHt9CiAgICAgICAgICAgICkuYWRkVG8obWFwX2ViMzdhNzA0MDM0NjQ2MDI4YmIzNzg1OWRhOTU4ZjJkKTsKICAgICAgICAKICAgIAogICAgICAgICAgICB2YXIgaWNvbl8xOTljNDcxZjI2Y2Q0NzE5OWFkMjNlNjc2ZDQ2ODUwZCA9IEwuQXdlc29tZU1hcmtlcnMuaWNvbigKICAgICAgICAgICAgICAgIHsiZXh0cmFDbGFzc2VzIjogImZhLXJvdGF0ZS0wIiwgImljb24iOiAiaW5mby1zaWduIiwgImljb25Db2xvciI6ICJ3aGl0ZSIsICJtYXJrZXJDb2xvciI6ICJyZWQiLCAicHJlZml4IjogImdseXBoaWNvbiJ9CiAgICAgICAgICAgICk7CiAgICAgICAgICAgIG1hcmtlcl8wMzhmOGFjMzQwNmY0ZjFhOTM3MWY3MzdlMjdlYmM5ZC5zZXRJY29uKGljb25fMTk5YzQ3MWYyNmNkNDcxOTlhZDIzZTY3NmQ0Njg1MGQpOwogICAgICAgIAogICAgCiAgICAgICAgdmFyIHBvcHVwXzZmMjlmODliNDcwODRlMDU4MjZlNDFkYTA5ZjY1MWViID0gTC5wb3B1cCh7Im1heFdpZHRoIjogIjEwMCUifSk7CgogICAgICAgIAogICAgICAgICAgICB2YXIgaHRtbF8wYWI5MTY5MWE2NmQ0YjFhOGEwNTdhNjRhNTEwYzY1MyA9ICQoYDxkaXYgaWQ9Imh0bWxfMGFiOTE2OTFhNjZkNGIxYThhMDU3YTY0YTUxMGM2NTMiIHN0eWxlPSJ3aWR0aDogMTAwLjAlOyBoZWlnaHQ6IDEwMC4wJTsiPjwvZGl2PmApWzBdOwogICAgICAgICAgICBwb3B1cF82ZjI5Zjg5YjQ3MDg0ZTA1ODI2ZTQxZGEwOWY2NTFlYi5zZXRDb250ZW50KGh0bWxfMGFiOTE2OTFhNjZkNGIxYThhMDU3YTY0YTUxMGM2NTMpOwogICAgICAgIAoKICAgICAgICBtYXJrZXJfMDM4ZjhhYzM0MDZmNGYxYTkzNzFmNzM3ZTI3ZWJjOWQuYmluZFBvcHVwKHBvcHVwXzZmMjlmODliNDcwODRlMDU4MjZlNDFkYTA5ZjY1MWViKQogICAgICAgIDsKCiAgICAgICAgCiAgICAKICAgIAogICAgICAgICAgICBtYXJrZXJfMDM4ZjhhYzM0MDZmNGYxYTkzNzFmNzM3ZTI3ZWJjOWQuYmluZFRvb2x0aXAoCiAgICAgICAgICAgICAgICBgPGRpdj4KICAgICAgICAgICAgICAgICAgICAgQ2FsbGUgU2FuIEZyYW5jaXNjbwogICAgICAgICAgICAgICAgIDwvZGl2PmAsCiAgICAgICAgICAgICAgICB7InN0aWNreSI6IHRydWV9CiAgICAgICAgICAgICk7CiAgICAgICAgCiAgICAKICAgICAgICAgICAgdmFyIG1hcmtlcl9hYjBmMGFlOTA4YWM0YWNhOTRjYmNkOWRmNTBiZTAwMiA9IEwubWFya2VyKAogICAgICAgICAgICAgICAgWzQxLjY2NDQ5MiwgLTMuNzAyMjgzXSwKICAgICAgICAgICAgICAgIHt9CiAgICAgICAgICAgICkuYWRkVG8obWFwX2ViMzdhNzA0MDM0NjQ2MDI4YmIzNzg1OWRhOTU4ZjJkKTsKICAgICAgICAKICAgIAogICAgICAgICAgICB2YXIgaWNvbl9hYmFmMmY2MWM1MGE0MDNlOTliYmYzMWQ3NzgyMmUxMCA9IEwuQXdlc29tZU1hcmtlcnMuaWNvbigKICAgICAgICAgICAgICAgIHsiZXh0cmFDbGFzc2VzIjogImZhLXJvdGF0ZS0wIiwgImljb24iOiAiaW5mby1zaWduIiwgImljb25Db2xvciI6ICJ3aGl0ZSIsICJtYXJrZXJDb2xvciI6ICJyZWQiLCAicHJlZml4IjogImdseXBoaWNvbiJ9CiAgICAgICAgICAgICk7CiAgICAgICAgICAgIG1hcmtlcl9hYjBmMGFlOTA4YWM0YWNhOTRjYmNkOWRmNTBiZTAwMi5zZXRJY29uKGljb25fYWJhZjJmNjFjNTBhNDAzZTk5YmJmMzFkNzc4MjJlMTApOwogICAgICAgIAogICAgCiAgICAgICAgdmFyIHBvcHVwX2NlMGExNGRkYzAyYjRiZDM5NDE0NmJhNTY0ODBlY2U4ID0gTC5wb3B1cCh7Im1heFdpZHRoIjogIjEwMCUifSk7CgogICAgICAgIAogICAgICAgICAgICB2YXIgaHRtbF9jOTZiMTU4MGM4Mjk0MGJiOWFjMmVhZGM0N2EwNzZhMCA9ICQoYDxkaXYgaWQ9Imh0bWxfYzk2YjE1ODBjODI5NDBiYjlhYzJlYWRjNDdhMDc2YTAiIHN0eWxlPSJ3aWR0aDogMTAwLjAlOyBoZWlnaHQ6IDEwMC4wJTsiPjwvZGl2PmApWzBdOwogICAgICAgICAgICBwb3B1cF9jZTBhMTRkZGMwMmI0YmQzOTQxNDZiYTU2NDgwZWNlOC5zZXRDb250ZW50KGh0bWxfYzk2YjE1ODBjODI5NDBiYjlhYzJlYWRjNDdhMDc2YTApOwogICAgICAgIAoKICAgICAgICBtYXJrZXJfYWIwZjBhZTkwOGFjNGFjYTk0Y2JjZDlkZjUwYmUwMDIuYmluZFBvcHVwKHBvcHVwX2NlMGExNGRkYzAyYjRiZDM5NDE0NmJhNTY0ODBlY2U4KQogICAgICAgIDsKCiAgICAgICAgCiAgICAKICAgIAogICAgICAgICAgICBtYXJrZXJfYWIwZjBhZTkwOGFjNGFjYTk0Y2JjZDlkZjUwYmUwMDIuYmluZFRvb2x0aXAoCiAgICAgICAgICAgICAgICBgPGRpdj4KICAgICAgICAgICAgICAgICAgICAgUGFycXVlIGRlIEJvbWJlcm9zCiAgICAgICAgICAgICAgICAgPC9kaXY+YCwKICAgICAgICAgICAgICAgIHsic3RpY2t5IjogdHJ1ZX0KICAgICAgICAgICAgKTsKICAgICAgICAKICAgIAogICAgICAgICAgICB2YXIgbWFya2VyX2EyNGZmOGRmMDUxODRiZTI4NmQzYjAxNWJhODBhYzU0ID0gTC5tYXJrZXIoCiAgICAgICAgICAgICAgICBbNDEuNjY0MDI1LCAtMy42ODg5NzhdLAogICAgICAgICAgICAgICAge30KICAgICAgICAgICAgKS5hZGRUbyhtYXBfZWIzN2E3MDQwMzQ2NDYwMjhiYjM3ODU5ZGE5NThmMmQpOwogICAgICAgIAogICAgCiAgICAgICAgICAgIHZhciBpY29uXzUyYTZmM2RmNGRlOTRjM2FiMDZkZGNiMDkwNmMzNGY3ID0gTC5Bd2Vzb21lTWFya2Vycy5pY29uKAogICAgICAgICAgICAgICAgeyJleHRyYUNsYXNzZXMiOiAiZmEtcm90YXRlLTAiLCAiaWNvbiI6ICJpbmZvLXNpZ24iLCAiaWNvbkNvbG9yIjogIndoaXRlIiwgIm1hcmtlckNvbG9yIjogInJlZCIsICJwcmVmaXgiOiAiZ2x5cGhpY29uIn0KICAgICAgICAgICAgKTsKICAgICAgICAgICAgbWFya2VyX2EyNGZmOGRmMDUxODRiZTI4NmQzYjAxNWJhODBhYzU0LnNldEljb24oaWNvbl81MmE2ZjNkZjRkZTk0YzNhYjA2ZGRjYjA5MDZjMzRmNyk7CiAgICAgICAgCiAgICAKICAgICAgICB2YXIgcG9wdXBfNTAwNmNlOGQxMDU3NDM2ODhmNWY5NTUzN2M3ZDAwMGUgPSBMLnBvcHVwKHsibWF4V2lkdGgiOiAiMTAwJSJ9KTsKCiAgICAgICAgCiAgICAgICAgICAgIHZhciBodG1sXzY1MmQyNDVlMTI0NzQ4MWU4ZDkzMjViM2VhMzg1NzY1ID0gJChgPGRpdiBpZD0iaHRtbF82NTJkMjQ1ZTEyNDc0ODFlOGQ5MzI1YjNlYTM4NTc2NSIgc3R5bGU9IndpZHRoOiAxMDAuMCU7IGhlaWdodDogMTAwLjAlOyI+PC9kaXY+YClbMF07CiAgICAgICAgICAgIHBvcHVwXzUwMDZjZThkMTA1NzQzNjg4ZjVmOTU1MzdjN2QwMDBlLnNldENvbnRlbnQoaHRtbF82NTJkMjQ1ZTEyNDc0ODFlOGQ5MzI1YjNlYTM4NTc2NSk7CiAgICAgICAgCgogICAgICAgIG1hcmtlcl9hMjRmZjhkZjA1MTg0YmUyODZkM2IwMTViYTgwYWM1NC5iaW5kUG9wdXAocG9wdXBfNTAwNmNlOGQxMDU3NDM2ODhmNWY5NTUzN2M3ZDAwMGUpCiAgICAgICAgOwoKICAgICAgICAKICAgIAogICAgCiAgICAgICAgICAgIG1hcmtlcl9hMjRmZjhkZjA1MTg0YmUyODZkM2IwMTViYTgwYWM1NC5iaW5kVG9vbHRpcCgKICAgICAgICAgICAgICAgIGA8ZGl2PgogICAgICAgICAgICAgICAgICAgICBQaXNjaW5hcyBDdWJpZXJ0YXMKICAgICAgICAgICAgICAgICA8L2Rpdj5gLAogICAgICAgICAgICAgICAgeyJzdGlja3kiOiB0cnVlfQogICAgICAgICAgICApOwogICAgICAgIAogICAgCiAgICAgICAgICAgIHZhciBtYXJrZXJfMDIyZDVkMjY2NjUwNDZlOGFjNmNkYjY4MDI1MDI3MDkgPSBMLm1hcmtlcigKICAgICAgICAgICAgICAgIFs0MS42Njk4NjQsIC0zLjY4ODE1M10sCiAgICAgICAgICAgICAgICB7fQogICAgICAgICAgICApLmFkZFRvKG1hcF9lYjM3YTcwNDAzNDY0NjAyOGJiMzc4NTlkYTk1OGYyZCk7CiAgICAgICAgCiAgICAKICAgICAgICAgICAgdmFyIGljb25fNWQ4YzBlZmJkZWVlNDFkMWFiZTFkYjU4NGZhYTc4NDQgPSBMLkF3ZXNvbWVNYXJrZXJzLmljb24oCiAgICAgICAgICAgICAgICB7ImV4dHJhQ2xhc3NlcyI6ICJmYS1yb3RhdGUtMCIsICJpY29uIjogImluZm8tc2lnbiIsICJpY29uQ29sb3IiOiAid2hpdGUiLCAibWFya2VyQ29sb3IiOiAicmVkIiwgInByZWZpeCI6ICJnbHlwaGljb24ifQogICAgICAgICAgICApOwogICAgICAgICAgICBtYXJrZXJfMDIyZDVkMjY2NjUwNDZlOGFjNmNkYjY4MDI1MDI3MDkuc2V0SWNvbihpY29uXzVkOGMwZWZiZGVlZTQxZDFhYmUxZGI1ODRmYWE3ODQ0KTsKICAgICAgICAKICAgIAogICAgICAgIHZhciBwb3B1cF85MWU4ZjQ5NWIyNTg0MDJiYjMxMzMxNzY0NzhlYmJkYSA9IEwucG9wdXAoeyJtYXhXaWR0aCI6ICIxMDAlIn0pOwoKICAgICAgICAKICAgICAgICAgICAgdmFyIGh0bWxfZDIzNjUzN2RkYWE4NGI4ZmE5YmQ1ZmI5YTVmZWIxYTMgPSAkKGA8ZGl2IGlkPSJodG1sX2QyMzY1MzdkZGFhODRiOGZhOWJkNWZiOWE1ZmViMWEzIiBzdHlsZT0id2lkdGg6IDEwMC4wJTsgaGVpZ2h0OiAxMDAuMCU7Ij48L2Rpdj5gKVswXTsKICAgICAgICAgICAgcG9wdXBfOTFlOGY0OTViMjU4NDAyYmIzMTMzMTc2NDc4ZWJiZGEuc2V0Q29udGVudChodG1sX2QyMzY1MzdkZGFhODRiOGZhOWJkNWZiOWE1ZmViMWEzKTsKICAgICAgICAKCiAgICAgICAgbWFya2VyXzAyMmQ1ZDI2NjY1MDQ2ZThhYzZjZGI2ODAyNTAyNzA5LmJpbmRQb3B1cChwb3B1cF85MWU4ZjQ5NWIyNTg0MDJiYjMxMzMxNzY0NzhlYmJkYSkKICAgICAgICA7CgogICAgICAgIAogICAgCiAgICAKICAgICAgICAgICAgbWFya2VyXzAyMmQ1ZDI2NjY1MDQ2ZThhYzZjZGI2ODAyNTAyNzA5LmJpbmRUb29sdGlwKAogICAgICAgICAgICAgICAgYDxkaXY+CiAgICAgICAgICAgICAgICAgICAgIFBsYXphIE1heW9yCiAgICAgICAgICAgICAgICAgPC9kaXY+YCwKICAgICAgICAgICAgICAgIHsic3RpY2t5IjogdHJ1ZX0KICAgICAgICAgICAgKTsKICAgICAgICAKPC9zY3JpcHQ+ onload=\"this.contentDocument.open();this.contentDocument.write(atob(this.getAttribute('data-html')));this.contentDocument.close();\" allowfullscreen webkitallowfullscreen mozallowfullscreen></iframe></div></div>"
      ],
      "text/plain": [
       "<folium.folium.Map at 0x19b995740c8>"
      ]
     },
     "execution_count": 79,
     "metadata": {},
     "output_type": "execute_result"
    }
   ],
   "source": [
    "print(network_df['Stations'][0][1])\n",
    "\n",
    "m = folium.Map(\n",
    "    location=[41.6721, -3.6862],\n",
    "    zoom_start=15,\n",
    "    tiles='OpenStreetMap'\n",
    ")\n",
    "\n",
    "for stations in network_df['Stations'][0]:\n",
    "    percentage = (stations[2] * 100)/11\n",
    "    if(percentage < 20):\n",
    "        folium.Marker([stations[3], stations[4]], popup='', tooltip=stations[0], icon=folium.Icon(color='red')).add_to(m)    \n",
    "    elif(percentage > 20 & percentage <50):\n",
    "        folium.Marker([stations[3], stations[4]], popup='', tooltip=stations[0], icon=folium.Icon(color='orange')).add_to(m)    \n",
    "    else:\n",
    "        folium.Marker([stations[3], stations[4]], popup='', tooltip=stations[0], icon=folium.Icon(color='green')).add_to(m)    \n",
    "\n",
    "m"
   ]
  },
  {
   "cell_type": "markdown",
   "metadata": {},
   "source": [
    "## Referencia\n",
    "\n",
    "* Documentación [requests](http://www.python-requests.org/en/latest/)\n",
    "* Documentación [API citybik](https://api.citybik.es/v2/)\n",
    "* Documentación [folium](http://python-visualization.github.io/folium/quickstart.html)\n",
    "* Otras APIs  [worldtimeapi](http://worldtimeapi.org)"
   ]
  },
  {
   "cell_type": "code",
   "execution_count": null,
   "metadata": {},
   "outputs": [],
   "source": []
  }
 ],
 "metadata": {
  "kernelspec": {
   "display_name": "Python 3",
   "language": "python",
   "name": "python3"
  },
  "language_info": {
   "codemirror_mode": {
    "name": "ipython",
    "version": 3
   },
   "file_extension": ".py",
   "mimetype": "text/x-python",
   "name": "python",
   "nbconvert_exporter": "python",
   "pygments_lexer": "ipython3",
   "version": "3.7.6"
  }
 },
 "nbformat": 4,
 "nbformat_minor": 2
}
